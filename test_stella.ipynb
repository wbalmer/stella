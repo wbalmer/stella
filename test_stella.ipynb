{
 "cells": [
  {
   "cell_type": "markdown",
   "id": "8b944978",
   "metadata": {},
   "source": [
    "# test notebook for stella ZAMS calc code"
   ]
  },
  {
   "cell_type": "code",
   "execution_count": 1,
   "id": "de0b2bca",
   "metadata": {},
   "outputs": [],
   "source": [
    "# imports\n",
    "import numpy as np\n",
    "\n",
    "import ray\n",
    "from ray.util.multiprocessing import Pool\n",
    "\n",
    "import pandas as pd\n",
    "from scipy import optimize\n",
    "from scipy.integrate import solve_ivp\n",
    "from scipy.interpolate import interpn\n",
    "\n",
    "# from jax import grad, jit\n",
    "# from jax import jacfwd, jacrev\n",
    "# from jax.numpy import linalg\n",
    "\n",
    "# from jax.config import config\n",
    "# config.update(\"jax_enable_x64\", True)\n",
    "\n",
    "# constants\n",
    "import constants as c\n",
    "from scipy.constants import N_A\n",
    "\n",
    "# plotting\n",
    "import matplotlib.pyplot as plt\n",
    "import seaborn as sb\n",
    "sb.set_context(\"talk\")\n",
    "plt.rcParams['font.family'] = 'monospace'   # Fonts\n",
    "plt.rcParams['font.monospace'] = 'DejaVu Sans Mono'"
   ]
  },
  {
   "cell_type": "code",
   "execution_count": 2,
   "id": "86ae9f06",
   "metadata": {},
   "outputs": [],
   "source": [
    "import interpolate\n",
    "import energy\n",
    "import density"
   ]
  },
  {
   "cell_type": "markdown",
   "id": "3de45518",
   "metadata": {},
   "source": [
    "Read Sections 18.0, 18.1, and 18.2 of Numerical Recipes, as it will be necessary\n",
    "to implement the method of shooting to a fitting point (their shootf function) to\n",
    "solve the boundary-value problem posed by the four coupled ordinary differential\n",
    "equations of stellar structure and evolution. You will also need a program similar\n",
    "to the newt function described in Section 9.7 of Numerical Recipes or in the\n",
    "SciPy documentation to repeatedly call a shootf-like function, calculate updated\n",
    "boundary values, and ultimately obtain a converged solution. Faster convergence\n",
    "can usually be obtained by using fractions of the updates suggested by a newt-\n",
    "like function. Ordinary differential equation (ODE) solvers like those described\n",
    "in Sections 17.0, 17.1, and 17.2 of Numerical Recipes or the SciPy documentation\n",
    "are also critical."
   ]
  },
  {
   "cell_type": "code",
   "execution_count": 3,
   "id": "72923fe6",
   "metadata": {},
   "outputs": [],
   "source": [
    "def load_inner(Tc, Pc, factor=1e-12):\n",
    "    \"\"\"\n",
    "    Returns reasonable guess for an integration\n",
    "    starting point exterior to the absolute center\n",
    "    \"\"\"\n",
    "    rho_c = density.density(Pc,Tc, X=0.7)\n",
    "\n",
    "    m = factor*c.Ms # set start just outside center\n",
    "    epsilon = energy.energy_gen(rho_c,Tc)\n",
    "    l = epsilon*m # determine energy generation from pp and CNO\n",
    "    \n",
    "    r = (3/(4*np.pi*rho_c))**(1/3) * m**(1/3) # radius start\n",
    "    \n",
    "    P = Pc - (3*c.G/(8*np.pi))*((4*np.pi*rho_c/3)**(4/3))*(m**(2/3))\n",
    "    \n",
    "    del_rad = energy.del_rad(m, l, P, rho_c, Tc)\n",
    "    if del_rad > energy.del_ad:\n",
    "#         print('convective core')\n",
    "        lnT = np.log(Tc) - (np.pi/6)**(1/3)*c.G*(energy.del_ad*rho_c**(4/3))/Pc*m**(2/3)\n",
    "        T = np.exp(lnT)\n",
    "    else:\n",
    "#         print('radiative core')\n",
    "        kappa_c = interpolate.interp_k(rho_c,Tc)\n",
    "        T = (Tc**4 - (1/(2*c.a*c.c)*(3/(4*np.pi))**(2/3)*kappa_c*epsilon*rho_c**(4/3)*m**(2/3)))**(1/4)\n",
    "    \n",
    "    return np.array([l, P, r, T])\n",
    "\n",
    "def load_outer(M_star, L_star, R_star, factor=0.9999):\n",
    "    \"\"\"\n",
    "    Returns reasonable guess for an integration\n",
    "    starting point interior to the photosphere.\n",
    "    \"\"\"\n",
    "    \n",
    "    mu = 4/(3+5*0.7)\n",
    "    surface_g = c.G*M_star/(R_star**2)\n",
    "    Teff = (L_star/(4*np.pi*c.sb*R_star**2))**(1/4)\n",
    "    \n",
    "    def min_rho(rho):\n",
    "        opacity_pressure = (2/3) * surface_g / interpolate.interp_k(rho,Teff)\n",
    "        gas_rad_pressure = (1/3)*c.a*Teff**4 + rho * N_A*c.k*Teff/mu\n",
    "        diff = 1 - opacity_pressure/gas_rad_pressure\n",
    "        return np.abs(diff**2)\n",
    "    \n",
    "    rho_sol = optimize.minimize(min_rho, 1e-8, args=(), method='Nelder-Mead', bounds=[(1e-13,1e-5)])\n",
    "    if rho_sol.success:\n",
    "        rho = rho_sol.x[0]\n",
    "    else:\n",
    "        print('there\\'s no rho for this Teff, log(g)')\n",
    "        rho = np.nan\n",
    "    kappa = interpolate.interp_k(rho,Teff)\n",
    "    P = 2*surface_g/(3*kappa)\n",
    "    \n",
    "    return np.array([L_star, P, R_star, Teff])\n",
    "\n",
    "\n",
    "def odeEZ(m,v):\n",
    "    l, P, r, T = v\n",
    "    rho = density.density(P,T, X=0.7) # density\n",
    "    del_radiative = energy.del_rad(m, l, P, rho, T)\n",
    "    del_actual = np.minimum(del_radiative, energy.del_ad)\n",
    "    \n",
    "    dldm = energy.energy_gen(rho,T, psi=1) #change in Luminosity with enclosed mass\n",
    "    dPdm = -c.G*m/(4*np.pi*r**4) # change in pressure with enclosed mass\n",
    "    drdm = 1/(4*np.pi*r**2 * rho) # mass conservation eq.\n",
    "    dTdm = ((-c.G*m*T)/(4*np.pi*P*r**4))*del_actual # change in temperature with enclosed mass\n",
    "    \n",
    "    return np.array([dldm, dPdm, drdm, dTdm])\n",
    "    "
   ]
  },
  {
   "cell_type": "code",
   "execution_count": 4,
   "id": "8b2e9614",
   "metadata": {},
   "outputs": [],
   "source": [
    "def shooter(vec, M_star=1.0*c.Ms,  n=int(1e5), in_factor=1e-12, out_factor=0.9999, M_fit=0.5):\n",
    "    \n",
    "    L_star, Pc, R_star, Tc = vec\n",
    "    \n",
    "#     print(vec)\n",
    "    \n",
    "    inn = load_inner(Tc, Pc, factor=in_factor)\n",
    "    outt = load_outer(M_star, L_star, R_star, factor=out_factor)\n",
    "    \n",
    "#     print(inn)\n",
    "#     print(outt)\n",
    "    \n",
    "    # protect against low Teff solutions which crash the root finder\n",
    "    if np.isnan(np.sum(inn)) or np.isnan(np.sum(outt)):\n",
    "        print('caught a nan in the guess')\n",
    "        dL = -np.inf\n",
    "        dP = -np.inf\n",
    "        dR = -np.inf\n",
    "        dT = -np.inf\n",
    "        return np.array([dL, dP, dR, dT])\n",
    "\n",
    "\n",
    "    exiting = np.logspace(np.log10(in_factor*c.Ms), np.log10(M_fit*M_star), base = 10.0 , num = n)\n",
    "    entering = np.flipud(np.logspace(np.log10(M_fit*M_star), np.log10(M_star), base = 10.0 , num = n))\n",
    "\n",
    "    ray.init(num_cpus=4)\n",
    "    pool = Pool()\n",
    "    \n",
    "    sol_i = pool.apply(solve_ivp, [odeEZ, (exiting[0], exiting[-1]), inn, 'RK45', exiting])\n",
    "#     sol_i = solve_ivp(odeEZ, (exiting[0], exiting[-1]), inn, method='RK45', t_eval=exiting) \n",
    "    if sol_i.status == 0:\n",
    "        print('solved inner')\n",
    "    else:\n",
    "        print('failed to solve interior', sol_i.message)\n",
    "        dL = -np.inf\n",
    "        dP = -np.inf\n",
    "        dR = -np.inf\n",
    "        dT = -np.inf\n",
    "        ray.shutdown()\n",
    "        return np.array([dL, dP, dR, dT])\n",
    "    sol_s = pool.apply(solve_ivp, [odeEZ, (entering[0], entering[-1]), outt, 'RK45', entering])\n",
    "    if sol_s.status == 0:\n",
    "        print('solved exterior')\n",
    "    else:\n",
    "        print('failed to solve exterior', sol_s.message)\n",
    "        dL = -np.inf\n",
    "        dP = -np.inf\n",
    "        dR = -np.inf\n",
    "        dT = -np.inf\n",
    "        ray.shutdown()\n",
    "        return np.array([dL, dP, dR, dT])\n",
    "    \n",
    "    ray.shutdown()\n",
    "    \n",
    "    exiting_sol = sol_i.y\n",
    "    entering_sol = sol_s.y\n",
    "    \n",
    "#     print(exiting_sol)\n",
    "#     print(entering_sol)\n",
    "\n",
    "    dL = (exiting_sol[0,-1] - entering_sol[0,-1])/L_star\n",
    "    dP = (exiting_sol[1,-1] - entering_sol[1,-1])/Pc\n",
    "    dR = (exiting_sol[2,-1] - entering_sol[2,-1])/R_star\n",
    "    dT = (exiting_sol[3,-1] - entering_sol[3,-1])/Tc\n",
    "    \n",
    "    res = np.array([dL, dP, dR, dT])\n",
    "    \n",
    "    print(res)\n",
    "    print(np.sum(res**2))\n",
    "\n",
    "    return res"
   ]
  },
  {
   "cell_type": "code",
   "execution_count": 5,
   "id": "8af97e9e",
   "metadata": {},
   "outputs": [],
   "source": [
    "def solver(vec_final, M_star=1.0*c.Ms,  n=int(1e5), in_factor=1e-12, out_factor=0.9999, M_fit=0.5):\n",
    "    \n",
    "    L_star, Pc, R_star, Tc = vec_final\n",
    "    \n",
    "    inn = load_inner(Tc, Pc, factor=in_factor)\n",
    "    outt = load_outer(M_star, L_star, R_star, factor=out_factor)\n",
    "\n",
    "    exiting = np.logspace(np.log10(in_factor*c.Ms), np.log10(M_fit*M_star), base = 10.0 , num = n)\n",
    "    entering = np.flipud(np.logspace(np.log10(M_fit*M_star), np.log10(M_star), base = 10.0 , num = n))\n",
    "\n",
    "    ray.init(num_cpus=2)\n",
    "    pool = Pool()\n",
    "    \n",
    "    sol_i = pool.apply(solve_ivp, [odeEZ, (exiting[0], exiting[-1]), inn, 'RK45', exiting])\n",
    "    sol_s = pool.apply(solve_ivp, [odeEZ, (entering[0], entering[-1]), outt, 'RK45', entering])\n",
    "    \n",
    "    ray.shutdown()\n",
    "    \n",
    "    exiting_sol = sol_i.y\n",
    "    entering_sol = sol_s.y\n",
    "    \n",
    "    # combine mass arrays\n",
    "    mass = np.concatenate([exiting, np.flipud(entering)], axis=0)\n",
    "    \n",
    "    # add mass to final array\n",
    "    solution = np.zeros((7, mass.shape[0]))\n",
    "    solution[0] = mass\n",
    "    \n",
    "    # combine solution arrays\n",
    "    sols = np.concatenate([exiting_sol, np.fliplr(entering_sol)], axis=1)\n",
    "    solution[1:5] = sols\n",
    "    \n",
    "    # add density as 6th column\n",
    "    rho = density.density(solution[2],solution[4], X=0.7)\n",
    "    solution[5] = rho\n",
    "    \n",
    "    # add del_rad as 7th column\n",
    "#     del_rad = (3/(16*np.pi*c.a*c.c))*(solution[1]*interpolate.interp_k(rho, solution[3])/solution[3]**4)*(solution[0]/(c.G*mass))\n",
    "    del_rad = energy.del_rad(mass, solution[1], solution[2], rho, solution[4])\n",
    "    solution[6] = del_rad\n",
    "    \n",
    "    return solution"
   ]
  },
  {
   "cell_type": "code",
   "execution_count": 6,
   "id": "295841a6",
   "metadata": {
    "scrolled": true
   },
   "outputs": [
    {
     "name": "stderr",
     "output_type": "stream",
     "text": [
      "2023-04-14 16:48:09,410\tINFO worker.py:1553 -- Started a local Ray instance.\n"
     ]
    },
    {
     "name": "stdout",
     "output_type": "stream",
     "text": [
      "solved inner\n",
      "solved exterior\n",
      "[-0.99082621 -0.81118294  0.37588715  0.05523551]\n",
      "1.7840964446641319\n"
     ]
    },
    {
     "name": "stderr",
     "output_type": "stream",
     "text": [
      "2023-04-14 16:48:28,033\tINFO worker.py:1553 -- Started a local Ray instance.\n"
     ]
    },
    {
     "name": "stdout",
     "output_type": "stream",
     "text": [
      "solved inner\n",
      "solved exterior\n",
      "[-0.99082621 -0.81118294  0.37588715  0.0552355 ]\n",
      "1.7840964513561994\n"
     ]
    },
    {
     "name": "stderr",
     "output_type": "stream",
     "text": [
      "2023-04-14 16:48:46,884\tINFO worker.py:1553 -- Started a local Ray instance.\n"
     ]
    },
    {
     "name": "stdout",
     "output_type": "stream",
     "text": [
      "solved inner\n",
      "solved exterior\n",
      "[-0.99082621 -0.81118292  0.37588715  0.05523551]\n",
      "1.7840964232219805\n"
     ]
    },
    {
     "name": "stderr",
     "output_type": "stream",
     "text": [
      "2023-04-14 16:49:04,156\tINFO worker.py:1553 -- Started a local Ray instance.\n"
     ]
    },
    {
     "name": "stdout",
     "output_type": "stream",
     "text": [
      "solved inner\n",
      "solved exterior\n",
      "[-0.99082621 -0.81118291  0.37588714  0.05523552]\n",
      "1.7840963919130817\n"
     ]
    },
    {
     "name": "stderr",
     "output_type": "stream",
     "text": [
      "2023-04-14 16:49:20,534\tINFO worker.py:1553 -- Started a local Ray instance.\n"
     ]
    },
    {
     "name": "stdout",
     "output_type": "stream",
     "text": [
      "solved inner\n",
      "solved exterior\n",
      "[-0.99082621 -0.81118293  0.37588715  0.05523552]\n",
      "1.784096432439355\n",
      "there's no rho for this Teff, log(g)\n",
      "caught a nan in the guess\n"
     ]
    },
    {
     "name": "stderr",
     "output_type": "stream",
     "text": [
      "2023-04-14 16:49:41,561\tINFO worker.py:1553 -- Started a local Ray instance.\n"
     ]
    },
    {
     "name": "stdout",
     "output_type": "stream",
     "text": [
      "solved inner\n",
      "solved exterior\n",
      "[-0.99115223 -0.57136047  0.32355324  0.10951848]\n",
      "1.4255165174554378\n"
     ]
    },
    {
     "name": "stderr",
     "output_type": "stream",
     "text": [
      "2023-04-14 16:49:58,739\tINFO worker.py:1553 -- Started a local Ray instance.\n"
     ]
    },
    {
     "name": "stdout",
     "output_type": "stream",
     "text": [
      "solved inner\n",
      "solved exterior\n",
      "[-0.99115223 -0.57136048  0.32355324  0.10951848]\n",
      "1.4255165335270354\n"
     ]
    },
    {
     "name": "stderr",
     "output_type": "stream",
     "text": [
      "2023-04-14 16:50:16,398\tINFO worker.py:1553 -- Started a local Ray instance.\n"
     ]
    },
    {
     "name": "stdout",
     "output_type": "stream",
     "text": [
      "solved inner\n",
      "solved exterior\n",
      "[-0.99115223 -0.57136046  0.32355323  0.10951848]\n",
      "1.4255165062637551\n"
     ]
    },
    {
     "name": "stderr",
     "output_type": "stream",
     "text": [
      "2023-04-14 16:50:32,235\tINFO worker.py:1553 -- Started a local Ray instance.\n"
     ]
    },
    {
     "name": "stdout",
     "output_type": "stream",
     "text": [
      "solved inner\n",
      "solved exterior\n",
      "[-0.99115223 -0.57136015  0.32355319  0.10951856]\n",
      "1.4255161441088462\n"
     ]
    },
    {
     "name": "stderr",
     "output_type": "stream",
     "text": [
      "2023-04-14 16:50:49,875\tINFO worker.py:1553 -- Started a local Ray instance.\n"
     ]
    },
    {
     "name": "stdout",
     "output_type": "stream",
     "text": [
      "solved inner\n",
      "solved exterior\n",
      "[-0.99115223 -0.57136046  0.32355323  0.1095185 ]\n",
      "1.4255165100049447\n"
     ]
    },
    {
     "name": "stderr",
     "output_type": "stream",
     "text": [
      "2023-04-14 16:51:06,678\tINFO worker.py:1553 -- Started a local Ray instance.\n"
     ]
    },
    {
     "name": "stdout",
     "output_type": "stream",
     "text": [
      "solved inner\n",
      "solved exterior\n",
      "[-0.98204836 -0.50760447  0.29673096  0.23045804]\n",
      "1.363241444602839\n"
     ]
    },
    {
     "name": "stderr",
     "output_type": "stream",
     "text": [
      "2023-04-14 16:51:23,835\tINFO worker.py:1553 -- Started a local Ray instance.\n"
     ]
    },
    {
     "name": "stdout",
     "output_type": "stream",
     "text": [
      "solved inner\n",
      "solved exterior\n",
      "[-0.98204836 -0.5076045   0.29673097  0.23045803]\n",
      "1.3632414795023522\n"
     ]
    },
    {
     "name": "stderr",
     "output_type": "stream",
     "text": [
      "2023-04-14 16:51:40,833\tINFO worker.py:1553 -- Started a local Ray instance.\n"
     ]
    },
    {
     "name": "stdout",
     "output_type": "stream",
     "text": [
      "solved inner\n",
      "solved exterior\n",
      "[-0.98204836 -0.50760446  0.29673096  0.23045804]\n",
      "1.3632414345267658\n"
     ]
    },
    {
     "name": "stderr",
     "output_type": "stream",
     "text": [
      "2023-04-14 16:51:57,809\tINFO worker.py:1553 -- Started a local Ray instance.\n"
     ]
    },
    {
     "name": "stdout",
     "output_type": "stream",
     "text": [
      "solved inner\n",
      "solved exterior\n",
      "[-0.98204836 -0.50760416  0.29673092  0.2304581 ]\n",
      "1.3632411405950309\n"
     ]
    },
    {
     "name": "stderr",
     "output_type": "stream",
     "text": [
      "2023-04-14 16:52:14,679\tINFO worker.py:1553 -- Started a local Ray instance.\n"
     ]
    },
    {
     "name": "stdout",
     "output_type": "stream",
     "text": [
      "solved inner\n",
      "solved exterior\n",
      "[-0.98204836 -0.50760446  0.29673096  0.23045805]\n",
      "1.363241439028696\n"
     ]
    },
    {
     "name": "stderr",
     "output_type": "stream",
     "text": [
      "2023-04-14 16:52:35,703\tINFO worker.py:1553 -- Started a local Ray instance.\n"
     ]
    },
    {
     "name": "stdout",
     "output_type": "stream",
     "text": [
      "solved inner\n",
      "solved exterior\n",
      "[-0.96289514 -0.42696684  0.28246142  0.3439829 ]\n",
      "1.3075764324904076\n"
     ]
    },
    {
     "name": "stderr",
     "output_type": "stream",
     "text": [
      "2023-04-14 16:52:52,754\tINFO worker.py:1553 -- Started a local Ray instance.\n"
     ]
    },
    {
     "name": "stdout",
     "output_type": "stream",
     "text": [
      "solved inner\n",
      "solved exterior\n",
      "[-0.96289515 -0.42696686  0.28246142  0.3439829 ]\n",
      "1.3075764437518775\n"
     ]
    },
    {
     "name": "stderr",
     "output_type": "stream",
     "text": [
      "2023-04-14 16:53:09,648\tINFO worker.py:1553 -- Started a local Ray instance.\n"
     ]
    },
    {
     "name": "stdout",
     "output_type": "stream",
     "text": [
      "solved inner\n",
      "solved exterior\n",
      "[-0.96289514 -0.42696683  0.28246141  0.3439829 ]\n",
      "1.3075764234300131\n"
     ]
    },
    {
     "name": "stderr",
     "output_type": "stream",
     "text": [
      "2023-04-14 16:53:26,602\tINFO worker.py:1553 -- Started a local Ray instance.\n"
     ]
    },
    {
     "name": "stdout",
     "output_type": "stream",
     "text": [
      "solved inner\n",
      "solved exterior\n",
      "[-0.96289514 -0.4269668   0.28246141  0.34398291]\n",
      "1.3075763975208818\n"
     ]
    },
    {
     "name": "stderr",
     "output_type": "stream",
     "text": [
      "2023-04-14 16:53:44,055\tINFO worker.py:1553 -- Started a local Ray instance.\n"
     ]
    },
    {
     "name": "stdout",
     "output_type": "stream",
     "text": [
      "solved inner\n",
      "solved exterior\n",
      "[-0.96289514 -0.42696683  0.28246141  0.34398291]\n",
      "1.3075764273927564\n"
     ]
    },
    {
     "name": "stderr",
     "output_type": "stream",
     "text": [
      "2023-04-14 16:54:01,229\tINFO worker.py:1553 -- Started a local Ray instance.\n"
     ]
    },
    {
     "name": "stdout",
     "output_type": "stream",
     "text": [
      "solved inner\n",
      "solved exterior\n",
      "[-0.92659334 -0.34770707  0.27805865  0.42851047]\n",
      "1.2404132543030015\n"
     ]
    },
    {
     "name": "stderr",
     "output_type": "stream",
     "text": [
      "2023-04-14 16:54:19,085\tINFO worker.py:1553 -- Started a local Ray instance.\n"
     ]
    },
    {
     "name": "stdout",
     "output_type": "stream",
     "text": [
      "solved inner\n",
      "solved exterior\n",
      "[-0.92659334 -0.34770708  0.27805865  0.42851047]\n",
      "1.2404132598454751\n"
     ]
    },
    {
     "name": "stderr",
     "output_type": "stream",
     "text": [
      "2023-04-14 16:54:36,047\tINFO worker.py:1553 -- Started a local Ray instance.\n"
     ]
    },
    {
     "name": "stdout",
     "output_type": "stream",
     "text": [
      "solved inner\n",
      "solved exterior\n",
      "[-0.92659334 -0.34770706  0.27805865  0.42851047]\n",
      "1.2404132458090256\n"
     ]
    },
    {
     "name": "stderr",
     "output_type": "stream",
     "text": [
      "2023-04-14 16:54:53,054\tINFO worker.py:1553 -- Started a local Ray instance.\n"
     ]
    },
    {
     "name": "stdout",
     "output_type": "stream",
     "text": [
      "solved inner\n",
      "solved exterior\n",
      "[-0.92659334 -0.34770704  0.27805865  0.42851047]\n",
      "1.2404132324201045\n"
     ]
    },
    {
     "name": "stderr",
     "output_type": "stream",
     "text": [
      "2023-04-14 16:55:10,089\tINFO worker.py:1553 -- Started a local Ray instance.\n"
     ]
    },
    {
     "name": "stdout",
     "output_type": "stream",
     "text": [
      "solved inner\n",
      "solved exterior\n",
      "[-0.92659333 -0.34770706  0.27805865  0.42851048]\n",
      "1.2404132477096623\n"
     ]
    },
    {
     "name": "stderr",
     "output_type": "stream",
     "text": [
      "2023-04-14 16:55:26,989\tINFO worker.py:1553 -- Started a local Ray instance.\n"
     ]
    },
    {
     "name": "stdout",
     "output_type": "stream",
     "text": [
      "solved inner\n",
      "solved exterior\n",
      "[-0.82259995 -0.25703085  0.2840516   0.52065631]\n",
      "1.0945038347969944\n"
     ]
    },
    {
     "name": "stderr",
     "output_type": "stream",
     "text": [
      "2023-04-14 16:55:44,103\tINFO worker.py:1553 -- Started a local Ray instance.\n"
     ]
    },
    {
     "name": "stdout",
     "output_type": "stream",
     "text": [
      "solved inner\n",
      "solved exterior\n",
      "[-0.82259995 -0.25703086  0.2840516   0.5206563 ]\n",
      "1.0945038415297477\n"
     ]
    },
    {
     "name": "stderr",
     "output_type": "stream",
     "text": [
      "2023-04-14 16:56:01,197\tINFO worker.py:1553 -- Started a local Ray instance.\n"
     ]
    },
    {
     "name": "stdout",
     "output_type": "stream",
     "text": [
      "solved inner\n",
      "solved exterior\n",
      "[-0.82259995 -0.25703084  0.2840516   0.52065631]\n",
      "1.0945038255584008\n"
     ]
    },
    {
     "name": "stderr",
     "output_type": "stream",
     "text": [
      "2023-04-14 16:56:18,508\tINFO worker.py:1553 -- Started a local Ray instance.\n"
     ]
    },
    {
     "name": "stdout",
     "output_type": "stream",
     "text": [
      "solved inner\n",
      "solved exterior\n",
      "[-0.82259995 -0.25703082  0.2840516   0.52065631]\n",
      "1.094503817658342\n"
     ]
    },
    {
     "name": "stderr",
     "output_type": "stream",
     "text": [
      "2023-04-14 16:56:34,164\tINFO worker.py:1553 -- Started a local Ray instance.\n"
     ]
    },
    {
     "name": "stdout",
     "output_type": "stream",
     "text": [
      "solved inner\n",
      "solved exterior\n",
      "[-0.82259994 -0.25703084  0.2840516   0.52065631]\n",
      "1.0945038200097266\n"
     ]
    },
    {
     "name": "stderr",
     "output_type": "stream",
     "text": [
      "2023-04-14 16:56:50,297\tINFO worker.py:1553 -- Started a local Ray instance.\n"
     ]
    },
    {
     "name": "stdout",
     "output_type": "stream",
     "text": [
      "solved inner\n",
      "solved exterior\n",
      "[ 5.45748856e+01 -3.79287184e-03  3.40476377e-01  7.04934895e-01]\n",
      "2979.0310063386964\n"
     ]
    },
    {
     "name": "stderr",
     "output_type": "stream",
     "text": [
      "2023-04-14 16:57:07,068\tINFO worker.py:1553 -- Started a local Ray instance.\n"
     ]
    },
    {
     "name": "stdout",
     "output_type": "stream",
     "text": [
      "solved inner\n",
      "solved exterior\n",
      "[-0.58167044 -0.17628642  0.29430701  0.58795638]\n",
      "0.8017267257642557\n"
     ]
    },
    {
     "name": "stderr",
     "output_type": "stream",
     "text": [
      "2023-04-14 16:57:23,204\tINFO worker.py:1553 -- Started a local Ray instance.\n"
     ]
    },
    {
     "name": "stdout",
     "output_type": "stream",
     "text": [
      "solved inner\n",
      "solved exterior\n",
      "[-0.58167044 -0.17628643  0.29430701  0.58795638]\n",
      "0.8017267343664805\n"
     ]
    },
    {
     "name": "stderr",
     "output_type": "stream",
     "text": [
      "2023-04-14 16:57:39,922\tINFO worker.py:1553 -- Started a local Ray instance.\n"
     ]
    },
    {
     "name": "stdout",
     "output_type": "stream",
     "text": [
      "solved inner\n",
      "solved exterior\n",
      "[-0.58167043 -0.17628641  0.29430701  0.58795638]\n",
      "0.801726714966952\n"
     ]
    },
    {
     "name": "stderr",
     "output_type": "stream",
     "text": [
      "2023-04-14 16:57:56,019\tINFO worker.py:1553 -- Started a local Ray instance.\n"
     ]
    },
    {
     "name": "stdout",
     "output_type": "stream",
     "text": [
      "solved inner\n",
      "solved exterior\n",
      "[-0.58167044 -0.17628638  0.294307    0.58795639]\n",
      "0.8017267131319238\n"
     ]
    },
    {
     "name": "stderr",
     "output_type": "stream",
     "text": [
      "2023-04-14 16:58:12,946\tINFO worker.py:1553 -- Started a local Ray instance.\n"
     ]
    },
    {
     "name": "stdout",
     "output_type": "stream",
     "text": [
      "solved inner\n",
      "solved exterior\n",
      "[-0.58167039 -0.17628641  0.29430701  0.58795639]\n",
      "0.8017266720212106\n"
     ]
    },
    {
     "name": "stderr",
     "output_type": "stream",
     "text": [
      "2023-04-14 16:58:30,612\tINFO worker.py:1553 -- Started a local Ray instance.\n"
     ]
    },
    {
     "name": "stdout",
     "output_type": "stream",
     "text": [
      "solved inner\n",
      "solved exterior\n",
      "[ 5.24453045 -0.06429812  0.3064635   0.65438298]\n",
      "28.031370898324763\n"
     ]
    },
    {
     "name": "stderr",
     "output_type": "stream",
     "text": [
      "2023-04-14 16:58:47,113\tINFO worker.py:1553 -- Started a local Ray instance.\n"
     ]
    },
    {
     "name": "stdout",
     "output_type": "stream",
     "text": [
      "solved inner\n",
      "solved exterior\n",
      "[-0.26244088 -0.1441422   0.29681732  0.60789568]\n",
      "0.5472898606036667\n"
     ]
    },
    {
     "name": "stderr",
     "output_type": "stream",
     "text": [
      "2023-04-14 16:59:04,021\tINFO worker.py:1553 -- Started a local Ray instance.\n"
     ]
    },
    {
     "name": "stdout",
     "output_type": "stream",
     "text": [
      "solved inner\n",
      "solved exterior\n",
      "[-0.26244089 -0.14414221  0.29681732  0.60789567]\n",
      "0.5472898672929338\n"
     ]
    },
    {
     "name": "stderr",
     "output_type": "stream",
     "text": [
      "2023-04-14 16:59:20,775\tINFO worker.py:1553 -- Started a local Ray instance.\n"
     ]
    },
    {
     "name": "stdout",
     "output_type": "stream",
     "text": [
      "solved inner\n",
      "solved exterior\n",
      "[-0.26244087 -0.14414219  0.29681731  0.60789568]\n",
      "0.5472898515876884\n"
     ]
    },
    {
     "name": "stderr",
     "output_type": "stream",
     "text": [
      "2023-04-14 16:59:37,437\tINFO worker.py:1553 -- Started a local Ray instance.\n"
     ]
    },
    {
     "name": "stdout",
     "output_type": "stream",
     "text": [
      "solved inner\n",
      "solved exterior\n",
      "[-0.26244088 -0.14414216  0.29681731  0.60789568]\n",
      "0.5472898500315355\n"
     ]
    },
    {
     "name": "stderr",
     "output_type": "stream",
     "text": [
      "2023-04-14 16:59:53,409\tINFO worker.py:1553 -- Started a local Ray instance.\n"
     ]
    },
    {
     "name": "stdout",
     "output_type": "stream",
     "text": [
      "solved inner\n",
      "solved exterior\n",
      "[-0.26244076 -0.14414219  0.29681732  0.60789568]\n",
      "0.5472898031581865\n"
     ]
    },
    {
     "name": "stderr",
     "output_type": "stream",
     "text": [
      "2023-04-14 17:00:10,850\tINFO worker.py:1553 -- Started a local Ray instance.\n"
     ]
    },
    {
     "name": "stdout",
     "output_type": "stream",
     "text": [
      "solved inner\n",
      "solved exterior\n",
      "[ 0.0360374  -0.12476477  0.29367957  0.61235797]\n",
      "0.47809491712097346\n"
     ]
    },
    {
     "name": "stderr",
     "output_type": "stream",
     "text": [
      "2023-04-14 17:00:27,928\tINFO worker.py:1553 -- Started a local Ray instance.\n"
     ]
    },
    {
     "name": "stdout",
     "output_type": "stream",
     "text": [
      "solved inner\n",
      "solved exterior\n",
      "[ 0.03603739 -0.12476479  0.29367957  0.61235796]\n",
      "0.47809491494397505\n"
     ]
    },
    {
     "name": "stderr",
     "output_type": "stream",
     "text": [
      "2023-04-14 17:00:44,876\tINFO worker.py:1553 -- Started a local Ray instance.\n"
     ]
    },
    {
     "name": "stdout",
     "output_type": "stream",
     "text": [
      "solved inner\n",
      "solved exterior\n",
      "[ 0.03603742 -0.12476476  0.29367957  0.61235797]\n",
      "0.47809491461453435\n"
     ]
    },
    {
     "name": "stderr",
     "output_type": "stream",
     "text": [
      "2023-04-14 17:01:01,950\tINFO worker.py:1553 -- Started a local Ray instance.\n"
     ]
    },
    {
     "name": "stdout",
     "output_type": "stream",
     "text": [
      "solved inner\n",
      "solved exterior\n",
      "[ 0.0360374  -0.12476472  0.29367956  0.61235798]\n",
      "0.47809491169020263\n"
     ]
    },
    {
     "name": "stderr",
     "output_type": "stream",
     "text": [
      "2023-04-14 17:01:19,045\tINFO worker.py:1553 -- Started a local Ray instance.\n"
     ]
    },
    {
     "name": "stdout",
     "output_type": "stream",
     "text": [
      "solved inner\n",
      "solved exterior\n",
      "[ 0.03603759 -0.12476476  0.29367957  0.61235798]\n",
      "0.47809493649388607\n"
     ]
    },
    {
     "name": "stderr",
     "output_type": "stream",
     "text": [
      "2023-04-14 17:01:35,030\tINFO worker.py:1553 -- Started a local Ray instance.\n"
     ]
    },
    {
     "name": "stdout",
     "output_type": "stream",
     "text": [
      "solved inner\n",
      "solved exterior\n",
      "[-0.03214825 -0.09347808  0.27053151  0.59328716]\n",
      "0.4349486149319389\n"
     ]
    },
    {
     "name": "stderr",
     "output_type": "stream",
     "text": [
      "2023-04-14 17:01:51,668\tINFO worker.py:1553 -- Started a local Ray instance.\n"
     ]
    },
    {
     "name": "stdout",
     "output_type": "stream",
     "text": [
      "solved inner\n",
      "solved exterior\n",
      "[-0.03214826 -0.09347809  0.27053151  0.59328716]\n",
      "0.43494861560166004\n"
     ]
    },
    {
     "name": "stderr",
     "output_type": "stream",
     "text": [
      "2023-04-14 17:02:09,415\tINFO worker.py:1553 -- Started a local Ray instance.\n"
     ]
    },
    {
     "name": "stdout",
     "output_type": "stream",
     "text": [
      "solved inner\n",
      "solved exterior\n",
      "[-0.03214823 -0.09347808  0.27053151  0.59328716]\n",
      "0.43494861155012654\n"
     ]
    },
    {
     "name": "stderr",
     "output_type": "stream",
     "text": [
      "2023-04-14 17:02:26,415\tINFO worker.py:1553 -- Started a local Ray instance.\n"
     ]
    },
    {
     "name": "stdout",
     "output_type": "stream",
     "text": [
      "solved inner\n",
      "solved exterior\n",
      "[-0.03214825 -0.09347806  0.2705315   0.59328716]\n",
      "0.43494861003255963\n"
     ]
    },
    {
     "name": "stderr",
     "output_type": "stream",
     "text": [
      "2023-04-14 17:02:43,350\tINFO worker.py:1553 -- Started a local Ray instance.\n"
     ]
    },
    {
     "name": "stdout",
     "output_type": "stream",
     "text": [
      "solved inner\n",
      "solved exterior\n",
      "[-0.03214809 -0.09347808  0.27053151  0.59328717]\n",
      "0.43494861103877197\n"
     ]
    },
    {
     "name": "stderr",
     "output_type": "stream",
     "text": [
      "2023-04-14 17:02:59,986\tINFO worker.py:1553 -- Started a local Ray instance.\n"
     ]
    },
    {
     "name": "stdout",
     "output_type": "stream",
     "text": [
      "solved inner\n",
      "solved exterior\n",
      "[-0.02681759 -0.10068226  0.26328841  0.57778252]\n",
      "0.4140095288305595\n"
     ]
    },
    {
     "name": "stderr",
     "output_type": "stream",
     "text": [
      "2023-04-14 17:03:15,835\tINFO worker.py:1553 -- Started a local Ray instance.\n"
     ]
    },
    {
     "name": "stdout",
     "output_type": "stream",
     "text": [
      "solved inner\n",
      "solved exterior\n",
      "[-0.02681761 -0.10068227  0.26328841  0.57778252]\n",
      "0.41400952950423986\n"
     ]
    },
    {
     "name": "stderr",
     "output_type": "stream",
     "text": [
      "2023-04-14 17:03:33,259\tINFO worker.py:1553 -- Started a local Ray instance.\n"
     ]
    },
    {
     "name": "stdout",
     "output_type": "stream",
     "text": [
      "solved inner\n",
      "solved exterior\n",
      "[-0.02681758 -0.10068225  0.26328841  0.57778252]\n",
      "0.4140095256150389\n"
     ]
    },
    {
     "name": "stderr",
     "output_type": "stream",
     "text": [
      "2023-04-14 17:03:49,103\tINFO worker.py:1553 -- Started a local Ray instance.\n"
     ]
    },
    {
     "name": "stdout",
     "output_type": "stream",
     "text": [
      "solved inner\n",
      "solved exterior\n",
      "[-0.02681759 -0.10068223  0.2632884   0.57778253]\n",
      "0.4140095236964823\n"
     ]
    },
    {
     "name": "stderr",
     "output_type": "stream",
     "text": [
      "2023-04-14 17:04:06,683\tINFO worker.py:1553 -- Started a local Ray instance.\n"
     ]
    },
    {
     "name": "stdout",
     "output_type": "stream",
     "text": [
      "solved inner\n",
      "solved exterior\n",
      "[-0.02681744 -0.10068225  0.26328841  0.57778253]\n",
      "0.414009526866184\n"
     ]
    },
    {
     "name": "stderr",
     "output_type": "stream",
     "text": [
      "2023-04-14 17:04:23,460\tINFO worker.py:1553 -- Started a local Ray instance.\n"
     ]
    },
    {
     "name": "stdout",
     "output_type": "stream",
     "text": [
      "solved inner\n",
      "solved exterior\n",
      "[-0.06293404 -0.11494863  0.24564192  0.53742593]\n",
      "0.366340458455973\n"
     ]
    },
    {
     "name": "stderr",
     "output_type": "stream",
     "text": [
      "2023-04-14 17:04:40,609\tINFO worker.py:1553 -- Started a local Ray instance.\n"
     ]
    },
    {
     "name": "stdout",
     "output_type": "stream",
     "text": [
      "solved inner\n",
      "solved exterior\n",
      "[-0.06293405 -0.11494863  0.24564192  0.53742593]\n",
      "0.3663404598120038\n"
     ]
    },
    {
     "name": "stderr",
     "output_type": "stream",
     "text": [
      "2023-04-14 17:04:57,685\tINFO worker.py:1553 -- Started a local Ray instance.\n"
     ]
    },
    {
     "name": "stdout",
     "output_type": "stream",
     "text": [
      "solved inner\n",
      "solved exterior\n",
      "[-0.06293403 -0.11494862  0.24564191  0.53742593]\n",
      "0.36634045463211834\n"
     ]
    },
    {
     "name": "stderr",
     "output_type": "stream",
     "text": [
      "2023-04-14 17:05:14,991\tINFO worker.py:1553 -- Started a local Ray instance.\n"
     ]
    },
    {
     "name": "stdout",
     "output_type": "stream",
     "text": [
      "solved inner\n",
      "solved exterior\n",
      "[-0.06293404 -0.1149486   0.24564191  0.53742593]\n",
      "0.3663404540618736\n"
     ]
    },
    {
     "name": "stderr",
     "output_type": "stream",
     "text": [
      "2023-04-14 17:05:30,995\tINFO worker.py:1553 -- Started a local Ray instance.\n"
     ]
    },
    {
     "name": "stdout",
     "output_type": "stream",
     "text": [
      "solved inner\n",
      "solved exterior\n",
      "[-0.06293392 -0.11494862  0.24564192  0.53742593]\n",
      "0.3663404492380282\n"
     ]
    },
    {
     "name": "stderr",
     "output_type": "stream",
     "text": [
      "2023-04-14 17:05:48,290\tINFO worker.py:1553 -- Started a local Ray instance.\n"
     ]
    },
    {
     "name": "stdout",
     "output_type": "stream",
     "text": [
      "solved inner\n",
      "solved exterior\n",
      "[-0.06492841 -0.14774636  0.23647291  0.48848216]\n",
      "0.3205789428403589\n"
     ]
    },
    {
     "name": "stderr",
     "output_type": "stream",
     "text": [
      "2023-04-14 17:06:04,483\tINFO worker.py:1553 -- Started a local Ray instance.\n"
     ]
    },
    {
     "name": "stdout",
     "output_type": "stream",
     "text": [
      "solved inner\n",
      "solved exterior\n",
      "[-0.06492842 -0.14774637  0.23647292  0.48848215]\n",
      "0.32057894440020007\n"
     ]
    },
    {
     "name": "stderr",
     "output_type": "stream",
     "text": [
      "2023-04-14 17:06:21,411\tINFO worker.py:1553 -- Started a local Ray instance.\n"
     ]
    },
    {
     "name": "stdout",
     "output_type": "stream",
     "text": [
      "solved inner\n",
      "solved exterior\n",
      "[-0.0649284  -0.14774636  0.23647291  0.48848216]\n",
      "0.32057893890478995\n"
     ]
    },
    {
     "name": "stderr",
     "output_type": "stream",
     "text": [
      "2023-04-14 17:06:38,251\tINFO worker.py:1553 -- Started a local Ray instance.\n"
     ]
    },
    {
     "name": "stdout",
     "output_type": "stream",
     "text": [
      "solved inner\n",
      "solved exterior\n",
      "[-0.06492841 -0.14774634  0.23647291  0.48848216]\n",
      "0.32057893771025964\n"
     ]
    },
    {
     "name": "stderr",
     "output_type": "stream",
     "text": [
      "2023-04-14 17:06:55,810\tINFO worker.py:1553 -- Started a local Ray instance.\n"
     ]
    },
    {
     "name": "stdout",
     "output_type": "stream",
     "text": [
      "solved inner\n",
      "solved exterior\n",
      "[-0.06492832 -0.14774636  0.23647291  0.48848216]\n",
      "0.32057893532367665\n"
     ]
    },
    {
     "name": "stderr",
     "output_type": "stream",
     "text": [
      "2023-04-14 17:07:12,095\tINFO worker.py:1553 -- Started a local Ray instance.\n"
     ]
    },
    {
     "name": "stdout",
     "output_type": "stream",
     "text": [
      "solved inner\n",
      "solved exterior\n",
      "[-0.05770257 -0.15876299  0.22632864  0.44300779]\n",
      "0.2760158285442241\n"
     ]
    },
    {
     "name": "stderr",
     "output_type": "stream",
     "text": [
      "2023-04-14 17:07:29,531\tINFO worker.py:1553 -- Started a local Ray instance.\n"
     ]
    },
    {
     "name": "stdout",
     "output_type": "stream",
     "text": [
      "solved inner\n",
      "solved exterior\n",
      "[-0.05770258 -0.15876299  0.22632864  0.44300779]\n",
      "0.2760158298294088\n"
     ]
    },
    {
     "name": "stderr",
     "output_type": "stream",
     "text": [
      "2023-04-14 17:07:46,997\tINFO worker.py:1553 -- Started a local Ray instance.\n"
     ]
    },
    {
     "name": "stdout",
     "output_type": "stream",
     "text": [
      "solved inner\n",
      "solved exterior\n",
      "[-0.05770256 -0.15876298  0.22632864  0.44300779]\n",
      "0.2760158249160377\n"
     ]
    },
    {
     "name": "stderr",
     "output_type": "stream",
     "text": [
      "2023-04-14 17:08:04,418\tINFO worker.py:1553 -- Started a local Ray instance.\n"
     ]
    },
    {
     "name": "stdout",
     "output_type": "stream",
     "text": [
      "solved inner\n",
      "solved exterior\n",
      "[-0.05770257 -0.15876297  0.22632864  0.44300779]\n",
      "0.276015823725585\n"
     ]
    },
    {
     "name": "stderr",
     "output_type": "stream",
     "text": [
      "2023-04-14 17:08:21,627\tINFO worker.py:1553 -- Started a local Ray instance.\n"
     ]
    },
    {
     "name": "stdout",
     "output_type": "stream",
     "text": [
      "solved inner\n",
      "solved exterior\n",
      "[-0.05770249 -0.15876298  0.22632864  0.4430078 ]\n",
      "0.27601582357235704\n"
     ]
    },
    {
     "name": "stderr",
     "output_type": "stream",
     "text": [
      "2023-04-14 17:08:38,839\tINFO worker.py:1553 -- Started a local Ray instance.\n"
     ]
    },
    {
     "name": "stdout",
     "output_type": "stream",
     "text": [
      "solved inner\n",
      "solved exterior\n",
      "[-0.11553138 -0.17219841  0.21685421  0.35403213]\n",
      "0.21536429144894653\n"
     ]
    },
    {
     "name": "stderr",
     "output_type": "stream",
     "text": [
      "2023-04-14 17:08:56,534\tINFO worker.py:1553 -- Started a local Ray instance.\n"
     ]
    },
    {
     "name": "stdout",
     "output_type": "stream",
     "text": [
      "solved inner\n",
      "solved exterior\n",
      "[-0.11553139 -0.17219842  0.21685421  0.35403213]\n",
      "0.21536429442519084\n"
     ]
    },
    {
     "name": "stderr",
     "output_type": "stream",
     "text": [
      "2023-04-14 17:09:18,342\tINFO worker.py:1553 -- Started a local Ray instance.\n"
     ]
    },
    {
     "name": "stdout",
     "output_type": "stream",
     "text": [
      "solved inner\n",
      "solved exterior\n",
      "[-0.11553138 -0.17219841  0.21685421  0.35403213]\n",
      "0.215364287547105\n"
     ]
    },
    {
     "name": "stderr",
     "output_type": "stream",
     "text": [
      "2023-04-14 17:09:35,775\tINFO worker.py:1553 -- Started a local Ray instance.\n"
     ]
    },
    {
     "name": "stdout",
     "output_type": "stream",
     "text": [
      "solved inner\n",
      "solved exterior\n",
      "[-0.11553138 -0.1721984   0.21685421  0.35403213]\n",
      "0.21536428700256466\n"
     ]
    },
    {
     "name": "stderr",
     "output_type": "stream",
     "text": [
      "2023-04-14 17:09:52,810\tINFO worker.py:1553 -- Started a local Ray instance.\n"
     ]
    },
    {
     "name": "stdout",
     "output_type": "stream",
     "text": [
      "solved inner\n",
      "solved exterior\n",
      "[-0.11553131 -0.17219841  0.21685421  0.35403214]\n",
      "0.21536427984059126\n"
     ]
    },
    {
     "name": "stderr",
     "output_type": "stream",
     "text": [
      "2023-04-14 17:10:11,851\tINFO worker.py:1553 -- Started a local Ray instance.\n"
     ]
    },
    {
     "name": "stdout",
     "output_type": "stream",
     "text": [
      "solved inner\n",
      "solved exterior\n",
      "[-0.10221552 -0.15144797  0.20262391  0.28373588]\n",
      "0.15494699872530032\n"
     ]
    },
    {
     "name": "stderr",
     "output_type": "stream",
     "text": [
      "2023-04-14 17:10:34,899\tINFO worker.py:1553 -- Started a local Ray instance.\n"
     ]
    },
    {
     "name": "stdout",
     "output_type": "stream",
     "text": [
      "solved inner\n",
      "solved exterior\n",
      "[-0.10221554 -0.15144798  0.20262391  0.28373588]\n",
      "0.15494700112045184\n"
     ]
    },
    {
     "name": "stderr",
     "output_type": "stream",
     "text": [
      "2023-04-14 17:10:55,533\tINFO worker.py:1553 -- Started a local Ray instance.\n"
     ]
    },
    {
     "name": "stdout",
     "output_type": "stream",
     "text": [
      "solved inner\n",
      "solved exterior\n",
      "[-0.10221553 -0.15144797  0.20262391  0.28373587]\n",
      "0.1549469959927244\n"
     ]
    },
    {
     "name": "stderr",
     "output_type": "stream",
     "text": [
      "2023-04-14 17:11:13,423\tINFO worker.py:1553 -- Started a local Ray instance.\n"
     ]
    },
    {
     "name": "stdout",
     "output_type": "stream",
     "text": [
      "solved inner\n",
      "solved exterior\n",
      "[-0.10221552 -0.15144796  0.2026239   0.28373588]\n",
      "0.1549469957018932\n"
     ]
    },
    {
     "name": "stderr",
     "output_type": "stream",
     "text": [
      "2023-04-14 17:11:32,339\tINFO worker.py:1553 -- Started a local Ray instance.\n"
     ]
    },
    {
     "name": "stdout",
     "output_type": "stream",
     "text": [
      "solved inner\n",
      "solved exterior\n",
      "[-0.10221545 -0.15144797  0.2026239   0.28373589]\n",
      "0.15494698749889896\n"
     ]
    },
    {
     "name": "stderr",
     "output_type": "stream",
     "text": [
      "2023-04-14 17:11:51,273\tINFO worker.py:1553 -- Started a local Ray instance.\n",
      "\u001b[2m\u001b[36m(PoolActor pid=90596)\u001b[0m /Users/wbalmer/stellarinteriors/stella/interpolate.py:24: RuntimeWarning: invalid value encountered in log10\n",
      "\u001b[2m\u001b[36m(PoolActor pid=90596)\u001b[0m   logR_i = np.log10(rho_i/(T_i/1e6)**3)\n",
      "\u001b[2m\u001b[36m(PoolActor pid=90596)\u001b[0m /Users/wbalmer/stellarinteriors/stella/energy.py:27: RuntimeWarning: invalid value encountered in scalar power\n",
      "\u001b[2m\u001b[36m(PoolActor pid=90596)\u001b[0m   term2 = (zeta*rho/(T7**3))**(1/2)\n",
      "\u001b[2m\u001b[36m(PoolActor pid=90596)\u001b[0m /Users/wbalmer/stellarinteriors/stella/interpolate.py:26: RuntimeWarning: invalid value encountered in log10\n",
      "\u001b[2m\u001b[36m(PoolActor pid=90596)\u001b[0m   logT_i = np.log10(T_i)\n",
      "\u001b[2m\u001b[36m(PoolActor pid=90596)\u001b[0m /Users/wbalmer/stellarinteriors/stella/energy.py:50: RuntimeWarning: invalid value encountered in scalar power\n",
      "\u001b[2m\u001b[36m(PoolActor pid=90596)\u001b[0m   return 2.57e4 * psi * f_weak * g_pp * rho * X1**2 * T9**(-2/3) * np.exp(-3.381/(T9**(1/3)))\n",
      "\u001b[2m\u001b[36m(PoolActor pid=90596)\u001b[0m /Users/wbalmer/stellarinteriors/stella/energy.py:57: RuntimeWarning: invalid value encountered in scalar power\n",
      "\u001b[2m\u001b[36m(PoolActor pid=90596)\u001b[0m   return 8.24e25*g_cno*X_cno*X1*rho*T9**(-2/3)*np.exp((-15.231*T9**(-1/3))-(T9/0.8)**2)\n"
     ]
    },
    {
     "name": "stdout",
     "output_type": "stream",
     "text": [
      "failed to solve interior Required step size is less than spacing between numbers.\n"
     ]
    },
    {
     "name": "stderr",
     "output_type": "stream",
     "text": [
      "2023-04-14 17:12:12,119\tINFO worker.py:1553 -- Started a local Ray instance.\n"
     ]
    },
    {
     "name": "stdout",
     "output_type": "stream",
     "text": [
      "solved inner\n",
      "solved exterior\n",
      "[-0.04043978 -0.12959206  0.18857749  0.25954059]\n",
      "0.12135226435922929\n"
     ]
    },
    {
     "name": "stderr",
     "output_type": "stream",
     "text": [
      "2023-04-14 17:12:30,053\tINFO worker.py:1553 -- Started a local Ray instance.\n"
     ]
    },
    {
     "name": "stdout",
     "output_type": "stream",
     "text": [
      "solved inner\n",
      "solved exterior\n",
      "[-0.04043979 -0.12959206  0.18857749  0.25954059]\n",
      "0.12135226515324637\n"
     ]
    },
    {
     "name": "stderr",
     "output_type": "stream",
     "text": [
      "2023-04-14 17:12:47,377\tINFO worker.py:1553 -- Started a local Ray instance.\n"
     ]
    },
    {
     "name": "stdout",
     "output_type": "stream",
     "text": [
      "solved inner\n",
      "solved exterior\n",
      "[-0.04043978 -0.12959206  0.18857749  0.25954058]\n",
      "0.12135226126865548\n"
     ]
    },
    {
     "name": "stderr",
     "output_type": "stream",
     "text": [
      "2023-04-14 17:13:04,556\tINFO worker.py:1553 -- Started a local Ray instance.\n"
     ]
    },
    {
     "name": "stdout",
     "output_type": "stream",
     "text": [
      "solved inner\n",
      "solved exterior\n",
      "[-0.04043978 -0.12959205  0.18857748  0.25954059]\n",
      "0.12135226210854559\n"
     ]
    },
    {
     "name": "stderr",
     "output_type": "stream",
     "text": [
      "2023-04-14 17:13:25,656\tINFO worker.py:1553 -- Started a local Ray instance.\n"
     ]
    },
    {
     "name": "stdout",
     "output_type": "stream",
     "text": [
      "solved inner\n",
      "solved exterior\n",
      "[-0.04043969 -0.12959205  0.18857749  0.2595406 ]\n",
      "0.12135226178733005\n"
     ]
    },
    {
     "name": "stderr",
     "output_type": "stream",
     "text": [
      "2023-04-14 17:13:42,931\tINFO worker.py:1553 -- Started a local Ray instance.\n"
     ]
    },
    {
     "name": "stdout",
     "output_type": "stream",
     "text": [
      "solved inner\n",
      "solved exterior\n",
      "[-0.13611255 -0.11127918  0.16890747  0.13102266]\n",
      "0.07660635583114156\n"
     ]
    },
    {
     "name": "stderr",
     "output_type": "stream",
     "text": [
      "2023-04-14 17:13:59,171\tINFO worker.py:1553 -- Started a local Ray instance.\n"
     ]
    },
    {
     "name": "stdout",
     "output_type": "stream",
     "text": [
      "solved inner\n",
      "solved exterior\n",
      "[-0.13611257 -0.11127919  0.16890747  0.13102266]\n",
      "0.07660635948296635\n"
     ]
    },
    {
     "name": "stderr",
     "output_type": "stream",
     "text": [
      "2023-04-14 17:14:18,051\tINFO worker.py:1553 -- Started a local Ray instance.\n"
     ]
    },
    {
     "name": "stdout",
     "output_type": "stream",
     "text": [
      "solved inner\n",
      "solved exterior\n",
      "[-0.13611259 -0.11127919  0.16890748  0.13102263]\n",
      "0.07660635984028007\n"
     ]
    },
    {
     "name": "stderr",
     "output_type": "stream",
     "text": [
      "2023-04-14 17:14:38,983\tINFO worker.py:1553 -- Started a local Ray instance.\n"
     ]
    },
    {
     "name": "stdout",
     "output_type": "stream",
     "text": [
      "solved inner\n",
      "solved exterior\n",
      "[-0.13611255 -0.11127918  0.16890747  0.13102266]\n",
      "0.07660635339112279\n"
     ]
    },
    {
     "name": "stderr",
     "output_type": "stream",
     "text": [
      "2023-04-14 17:14:57,428\tINFO worker.py:1553 -- Started a local Ray instance.\n"
     ]
    },
    {
     "name": "stdout",
     "output_type": "stream",
     "text": [
      "solved inner\n",
      "solved exterior\n",
      "[-0.13611245 -0.11127917  0.16890747  0.13102269]\n",
      "0.07660633176601254\n"
     ]
    },
    {
     "name": "stderr",
     "output_type": "stream",
     "text": [
      "2023-04-14 17:15:14,304\tINFO worker.py:1553 -- Started a local Ray instance.\n"
     ]
    },
    {
     "name": "stdout",
     "output_type": "stream",
     "text": [
      "solved inner\n",
      "solved exterior\n",
      "[ 0.2925406  -0.05557356  0.0501945  -0.27378189]\n",
      "0.16614443546111257\n"
     ]
    },
    {
     "name": "stderr",
     "output_type": "stream",
     "text": [
      "2023-04-14 17:15:32,904\tINFO worker.py:1553 -- Started a local Ray instance.\n"
     ]
    },
    {
     "name": "stdout",
     "output_type": "stream",
     "text": [
      "solved inner\n",
      "solved exterior\n",
      "[-0.03614031 -0.08165019  0.1362506   0.09857913]\n",
      "0.03625494743885253\n"
     ]
    },
    {
     "name": "stderr",
     "output_type": "stream",
     "text": [
      "2023-04-14 17:15:51,760\tINFO worker.py:1553 -- Started a local Ray instance.\n"
     ]
    },
    {
     "name": "stdout",
     "output_type": "stream",
     "text": [
      "solved inner\n",
      "solved exterior\n",
      "[-0.03614033 -0.08165019  0.1362506   0.09857913]\n",
      "0.03625494849841499\n"
     ]
    },
    {
     "name": "stderr",
     "output_type": "stream",
     "text": [
      "2023-04-14 17:16:10,325\tINFO worker.py:1553 -- Started a local Ray instance.\n"
     ]
    },
    {
     "name": "stdout",
     "output_type": "stream",
     "text": [
      "solved inner\n",
      "solved exterior\n",
      "[-0.03614036 -0.0816502   0.13625061  0.09857909]\n",
      "0.03625494344541712\n"
     ]
    },
    {
     "name": "stderr",
     "output_type": "stream",
     "text": [
      "2023-04-14 17:16:28,933\tINFO worker.py:1553 -- Started a local Ray instance.\n"
     ]
    },
    {
     "name": "stdout",
     "output_type": "stream",
     "text": [
      "solved inner\n",
      "solved exterior\n",
      "[-0.03614031 -0.08165018  0.1362506   0.09857913]\n",
      "0.03625494602138614\n"
     ]
    },
    {
     "name": "stderr",
     "output_type": "stream",
     "text": [
      "2023-04-14 17:16:47,787\tINFO worker.py:1553 -- Started a local Ray instance.\n"
     ]
    },
    {
     "name": "stdout",
     "output_type": "stream",
     "text": [
      "solved inner\n",
      "solved exterior\n",
      "[-0.0361402  -0.08165018  0.1362506   0.09857917]\n",
      "0.036254943828444\n"
     ]
    },
    {
     "name": "stderr",
     "output_type": "stream",
     "text": [
      "2023-04-14 17:17:06,867\tINFO worker.py:1553 -- Started a local Ray instance.\n"
     ]
    },
    {
     "name": "stdout",
     "output_type": "stream",
     "text": [
      "solved inner\n",
      "solved exterior\n",
      "[-0.01084594 -0.05330501  0.07298927 -0.15370849]\n",
      "0.03191279299335129\n"
     ]
    },
    {
     "name": "stderr",
     "output_type": "stream",
     "text": [
      "2023-04-14 17:17:26,034\tINFO worker.py:1553 -- Started a local Ray instance.\n"
     ]
    },
    {
     "name": "stdout",
     "output_type": "stream",
     "text": [
      "solved inner\n",
      "solved exterior\n",
      "[-0.01084596 -0.05330501  0.07298927 -0.15370849]\n",
      "0.0319127940695452\n"
     ]
    },
    {
     "name": "stderr",
     "output_type": "stream",
     "text": [
      "2023-04-14 17:17:43,330\tINFO worker.py:1553 -- Started a local Ray instance.\n"
     ]
    },
    {
     "name": "stdout",
     "output_type": "stream",
     "text": [
      "solved inner\n",
      "solved exterior\n",
      "[-0.010846   -0.05330504  0.07298923 -0.15370897]\n",
      "0.03191293852676358\n"
     ]
    },
    {
     "name": "stderr",
     "output_type": "stream",
     "text": [
      "2023-04-14 17:18:05,737\tINFO worker.py:1553 -- Started a local Ray instance.\n"
     ]
    },
    {
     "name": "stdout",
     "output_type": "stream",
     "text": [
      "solved inner\n",
      "solved exterior\n",
      "[-0.01084594 -0.05330501  0.07298926 -0.15370849]\n",
      "0.03191279071602171\n"
     ]
    },
    {
     "name": "stderr",
     "output_type": "stream",
     "text": [
      "2023-04-14 17:18:24,282\tINFO worker.py:1553 -- Started a local Ray instance.\n"
     ]
    },
    {
     "name": "stdout",
     "output_type": "stream",
     "text": [
      "solved inner\n",
      "solved exterior\n",
      "[-0.01084581 -0.05330499  0.07298929 -0.15370812]\n",
      "0.03191267672764129\n"
     ]
    },
    {
     "name": "stderr",
     "output_type": "stream",
     "text": [
      "2023-04-14 17:18:42,281\tINFO worker.py:1553 -- Started a local Ray instance.\n"
     ]
    },
    {
     "name": "stdout",
     "output_type": "stream",
     "text": [
      "solved inner\n",
      "solved exterior\n",
      "[ 0.03225332 -0.03881041  0.0694756  -0.00552262]\n",
      "0.007403882016553755\n"
     ]
    },
    {
     "name": "stderr",
     "output_type": "stream",
     "text": [
      "2023-04-14 17:19:00,316\tINFO worker.py:1553 -- Started a local Ray instance.\n"
     ]
    },
    {
     "name": "stdout",
     "output_type": "stream",
     "text": [
      "solved inner\n",
      "solved exterior\n",
      "[ 0.0322533  -0.03881041  0.0694756  -0.00552262]\n",
      "0.0074038812275335165\n"
     ]
    },
    {
     "name": "stderr",
     "output_type": "stream",
     "text": [
      "2023-04-14 17:19:18,495\tINFO worker.py:1553 -- Started a local Ray instance.\n"
     ]
    },
    {
     "name": "stdout",
     "output_type": "stream",
     "text": [
      "solved inner\n",
      "solved exterior\n",
      "[ 0.03225327 -0.03881042  0.06947559 -0.00552285]\n",
      "0.007403881127277485\n"
     ]
    },
    {
     "name": "stderr",
     "output_type": "stream",
     "text": [
      "2023-04-14 17:19:37,506\tINFO worker.py:1553 -- Started a local Ray instance.\n"
     ]
    },
    {
     "name": "stdout",
     "output_type": "stream",
     "text": [
      "solved inner\n",
      "solved exterior\n",
      "[ 0.03225332 -0.03881041  0.06947559 -0.00552261]\n",
      "0.007403881086309079\n"
     ]
    },
    {
     "name": "stderr",
     "output_type": "stream",
     "text": [
      "2023-04-14 17:19:55,963\tINFO worker.py:1553 -- Started a local Ray instance.\n"
     ]
    },
    {
     "name": "stdout",
     "output_type": "stream",
     "text": [
      "solved inner\n",
      "solved exterior\n",
      "[ 0.03225345 -0.03881039  0.0694756  -0.00552245]\n",
      "0.007403887284635138\n"
     ]
    },
    {
     "name": "stderr",
     "output_type": "stream",
     "text": [
      "2023-04-14 17:20:15,072\tINFO worker.py:1553 -- Started a local Ray instance.\n"
     ]
    },
    {
     "name": "stdout",
     "output_type": "stream",
     "text": [
      "solved inner\n",
      "solved exterior\n",
      "[ 0.0179375  -0.02811574  0.05229521 -0.01757132]\n",
      "0.004155789249855617\n"
     ]
    },
    {
     "name": "stderr",
     "output_type": "stream",
     "text": [
      "2023-04-14 17:20:33,612\tINFO worker.py:1553 -- Started a local Ray instance.\n"
     ]
    },
    {
     "name": "stdout",
     "output_type": "stream",
     "text": [
      "solved inner\n",
      "solved exterior\n",
      "[ 0.01793748 -0.02811574  0.05229521 -0.01757132]\n",
      "0.0041557889040227695\n"
     ]
    },
    {
     "name": "stderr",
     "output_type": "stream",
     "text": [
      "2023-04-14 17:20:53,057\tINFO worker.py:1553 -- Started a local Ray instance.\n"
     ]
    },
    {
     "name": "stdout",
     "output_type": "stream",
     "text": [
      "solved inner\n",
      "solved exterior\n",
      "[ 0.01793744 -0.02811576  0.05229519 -0.01757169]\n",
      "0.004155799438132686\n"
     ]
    },
    {
     "name": "stderr",
     "output_type": "stream",
     "text": [
      "2023-04-14 17:21:12,787\tINFO worker.py:1553 -- Started a local Ray instance.\n"
     ]
    },
    {
     "name": "stdout",
     "output_type": "stream",
     "text": [
      "solved inner\n",
      "solved exterior\n",
      "[ 0.0179375  -0.02811574  0.05229521 -0.01757132]\n",
      "0.004155788516026742\n"
     ]
    },
    {
     "name": "stderr",
     "output_type": "stream",
     "text": [
      "2023-04-14 17:21:30,631\tINFO worker.py:1553 -- Started a local Ray instance.\n"
     ]
    },
    {
     "name": "stdout",
     "output_type": "stream",
     "text": [
      "solved inner\n",
      "solved exterior\n",
      "[ 0.01793763 -0.02811573  0.05229522 -0.01757105]\n",
      "0.004155784012924988\n"
     ]
    },
    {
     "name": "stderr",
     "output_type": "stream",
     "text": [
      "2023-04-14 17:21:48,577\tINFO worker.py:1553 -- Started a local Ray instance.\n"
     ]
    },
    {
     "name": "stdout",
     "output_type": "stream",
     "text": [
      "solved inner\n",
      "solved exterior\n",
      "[ 0.00809798 -0.01132262  0.02444958 -0.00990144]\n",
      "0.0008895994642025253\n"
     ]
    },
    {
     "name": "stderr",
     "output_type": "stream",
     "text": [
      "2023-04-14 17:22:05,982\tINFO worker.py:1553 -- Started a local Ray instance.\n"
     ]
    },
    {
     "name": "stdout",
     "output_type": "stream",
     "text": [
      "solved inner\n",
      "solved exterior\n",
      "[ 0.00809797 -0.01132262  0.02444958 -0.00990144]\n",
      "0.0008895993046835694\n"
     ]
    },
    {
     "name": "stderr",
     "output_type": "stream",
     "text": [
      "2023-04-14 17:22:23,831\tINFO worker.py:1553 -- Started a local Ray instance.\n"
     ]
    },
    {
     "name": "stdout",
     "output_type": "stream",
     "text": [
      "solved inner\n",
      "solved exterior\n",
      "[ 0.00809793 -0.01132264  0.02444955 -0.00990195]\n",
      "0.0008896080306279797\n"
     ]
    },
    {
     "name": "stderr",
     "output_type": "stream",
     "text": [
      "2023-04-14 17:22:41,787\tINFO worker.py:1553 -- Started a local Ray instance.\n"
     ]
    },
    {
     "name": "stdout",
     "output_type": "stream",
     "text": [
      "solved inner\n",
      "solved exterior\n",
      "[ 0.00809798 -0.01132262  0.02444957 -0.00990144]\n",
      "0.0008895991768741201\n"
     ]
    },
    {
     "name": "stderr",
     "output_type": "stream",
     "text": [
      "2023-04-14 17:22:59,418\tINFO worker.py:1553 -- Started a local Ray instance.\n"
     ]
    },
    {
     "name": "stdout",
     "output_type": "stream",
     "text": [
      "solved inner\n",
      "solved exterior\n",
      "[ 0.00809811 -0.0113226   0.02444959 -0.00990107]\n",
      "0.000889594251285438\n"
     ]
    },
    {
     "name": "stderr",
     "output_type": "stream",
     "text": [
      "2023-04-14 17:23:16,789\tINFO worker.py:1553 -- Started a local Ray instance.\n"
     ]
    },
    {
     "name": "stdout",
     "output_type": "stream",
     "text": [
      "solved inner\n",
      "solved exterior\n",
      "[ 0.00012298 -0.00062402  0.00264573 -0.00354162]\n",
      "1.9947474241972496e-05\n"
     ]
    },
    {
     "name": "stderr",
     "output_type": "stream",
     "text": [
      "2023-04-14 17:23:37,097\tINFO worker.py:1553 -- Started a local Ray instance.\n"
     ]
    },
    {
     "name": "stdout",
     "output_type": "stream",
     "text": [
      "solved inner\n",
      "solved exterior\n",
      "[ 0.00012297 -0.00062402  0.00264573 -0.00354162]\n",
      "1.994748365345491e-05\n"
     ]
    },
    {
     "name": "stderr",
     "output_type": "stream",
     "text": [
      "2023-04-14 17:23:56,949\tINFO worker.py:1553 -- Started a local Ray instance.\n"
     ]
    },
    {
     "name": "stdout",
     "output_type": "stream",
     "text": [
      "solved inner\n",
      "solved exterior\n",
      "[ 0.00012293 -0.00062404  0.0026457  -0.00354228]\n",
      "1.9952067832551728e-05\n"
     ]
    },
    {
     "name": "stderr",
     "output_type": "stream",
     "text": [
      "2023-04-14 17:24:14,223\tINFO worker.py:1553 -- Started a local Ray instance.\n"
     ]
    },
    {
     "name": "stdout",
     "output_type": "stream",
     "text": [
      "solved inner\n",
      "solved exterior\n",
      "[ 0.00012298 -0.00062402  0.00264573 -0.00354162]\n",
      "1.9947447063931936e-05\n"
     ]
    },
    {
     "name": "stderr",
     "output_type": "stream",
     "text": [
      "2023-04-14 17:24:31,583\tINFO worker.py:1553 -- Started a local Ray instance.\n"
     ]
    },
    {
     "name": "stdout",
     "output_type": "stream",
     "text": [
      "solved inner\n",
      "solved exterior\n",
      "[ 0.00012311 -0.000624    0.00264575 -0.00354113]\n",
      "1.9944069034475636e-05\n"
     ]
    },
    {
     "name": "stderr",
     "output_type": "stream",
     "text": [
      "2023-04-14 17:24:49,053\tINFO worker.py:1553 -- Started a local Ray instance.\n"
     ]
    },
    {
     "name": "stdout",
     "output_type": "stream",
     "text": [
      "solved inner\n",
      "solved exterior\n",
      "[-2.63660874e-05  1.17428564e-03 -9.68194749e-04  1.58746090e-03]\n",
      "4.837075122755464e-06\n"
     ]
    },
    {
     "name": "stderr",
     "output_type": "stream",
     "text": [
      "2023-04-14 17:25:04,828\tINFO worker.py:1553 -- Started a local Ray instance.\n"
     ]
    },
    {
     "name": "stdout",
     "output_type": "stream",
     "text": [
      "solved inner\n",
      "solved exterior\n",
      "[-2.63809741e-05  1.17428528e-03 -9.68193831e-04  1.58745924e-03]\n",
      "4.83706801172776e-06\n"
     ]
    },
    {
     "name": "stderr",
     "output_type": "stream",
     "text": [
      "2023-04-14 17:25:22,184\tINFO worker.py:1553 -- Started a local Ray instance.\n"
     ]
    },
    {
     "name": "stdout",
     "output_type": "stream",
     "text": [
      "solved inner\n",
      "solved exterior\n",
      "[-2.64219207e-05  1.17426313e-03 -9.68220924e-04  1.58680471e-03]\n",
      "4.834992952949081e-06\n"
     ]
    },
    {
     "name": "stderr",
     "output_type": "stream",
     "text": [
      "2023-04-14 17:25:39,650\tINFO worker.py:1553 -- Started a local Ray instance.\n"
     ]
    },
    {
     "name": "stdout",
     "output_type": "stream",
     "text": [
      "solved inner\n",
      "solved exterior\n",
      "[-2.63661314e-05  1.17428712e-03 -9.68197860e-04  1.58746448e-03]\n",
      "4.837095986331113e-06\n"
     ]
    },
    {
     "name": "stderr",
     "output_type": "stream",
     "text": [
      "2023-04-14 17:25:57,062\tINFO worker.py:1553 -- Started a local Ray instance.\n"
     ]
    },
    {
     "name": "stdout",
     "output_type": "stream",
     "text": [
      "solved inner\n",
      "solved exterior\n",
      "[-2.62362723e-05  1.17430605e-03 -9.68180459e-04  1.58794617e-03]\n",
      "4.838629486935704e-06\n"
     ]
    },
    {
     "name": "stderr",
     "output_type": "stream",
     "text": [
      "2023-04-14 17:26:13,907\tINFO worker.py:1553 -- Started a local Ray instance.\n"
     ]
    },
    {
     "name": "stdout",
     "output_type": "stream",
     "text": [
      "solved inner\n",
      "solved exterior\n",
      "[-1.08495249e-05  6.02037696e-04  2.13982678e-04  5.26160846e-05]\n",
      "4.1112413854745065e-07\n"
     ]
    },
    {
     "name": "stderr",
     "output_type": "stream",
     "text": [
      "2023-04-14 17:26:30,775\tINFO worker.py:1553 -- Started a local Ray instance.\n"
     ]
    },
    {
     "name": "stdout",
     "output_type": "stream",
     "text": [
      "solved inner\n",
      "solved exterior\n",
      "[-1.08644118e-05  6.02037371e-04  2.13983531e-04  5.26144783e-05]\n",
      "4.1112426603466054e-07\n"
     ]
    },
    {
     "name": "stderr",
     "output_type": "stream",
     "text": [
      "2023-04-14 17:26:47,664\tINFO worker.py:1553 -- Started a local Ray instance.\n"
     ]
    },
    {
     "name": "stdout",
     "output_type": "stream",
     "text": [
      "solved inner\n",
      "solved exterior\n",
      "[-1.09053733e-05  6.02015167e-04  2.13956268e-04  5.19576517e-05]\n",
      "4.110180712654352e-07\n"
     ]
    },
    {
     "name": "stderr",
     "output_type": "stream",
     "text": [
      "2023-04-14 17:27:04,935\tINFO worker.py:1553 -- Started a local Ray instance.\n"
     ]
    },
    {
     "name": "stdout",
     "output_type": "stream",
     "text": [
      "solved inner\n",
      "solved exterior\n",
      "[-1.08495699e-05  6.02039116e-04  2.13979688e-04  5.26195666e-05]\n",
      "4.1112493603482455e-07\n"
     ]
    },
    {
     "name": "stderr",
     "output_type": "stream",
     "text": [
      "2023-04-14 17:27:21,815\tINFO worker.py:1553 -- Started a local Ray instance.\n"
     ]
    },
    {
     "name": "stdout",
     "output_type": "stream",
     "text": [
      "solved inner\n",
      "solved exterior\n",
      "[-1.07197004e-05  6.02058121e-04  2.13997110e-04  5.31029940e-05]\n",
      "4.1120358427782676e-07\n"
     ]
    },
    {
     "name": "stderr",
     "output_type": "stream",
     "text": [
      "2023-04-14 17:27:39,341\tINFO worker.py:1553 -- Started a local Ray instance.\n"
     ]
    },
    {
     "name": "stdout",
     "output_type": "stream",
     "text": [
      "solved inner\n",
      "solved exterior\n",
      "[-1.08176335e-05  5.85317938e-04  2.44382597e-04 -2.88392799e-05]\n",
      "4.032686676416023e-07\n"
     ]
    },
    {
     "name": "stderr",
     "output_type": "stream",
     "text": [
      "2023-04-14 17:27:56,699\tINFO worker.py:1553 -- Started a local Ray instance.\n"
     ]
    },
    {
     "name": "stdout",
     "output_type": "stream",
     "text": [
      "solved inner\n",
      "solved exterior\n",
      "[-1.08325204e-05  5.85317615e-04  2.44383446e-04 -2.88408790e-05]\n",
      "4.032691185423647e-07\n"
     ]
    },
    {
     "name": "stderr",
     "output_type": "stream",
     "text": [
      "2023-04-14 17:28:12,668\tINFO worker.py:1553 -- Started a local Ray instance.\n"
     ]
    },
    {
     "name": "stdout",
     "output_type": "stream",
     "text": [
      "solved inner\n",
      "solved exterior\n",
      "[-1.08734851e-05  5.85295405e-04  2.44356166e-04 -2.94981823e-05]\n",
      "4.0326902255561e-07\n"
     ]
    },
    {
     "name": "stderr",
     "output_type": "stream",
     "text": [
      "2023-04-14 17:28:29,117\tINFO worker.py:1553 -- Started a local Ray instance.\n"
     ]
    },
    {
     "name": "stdout",
     "output_type": "stream",
     "text": [
      "solved inner\n",
      "solved exterior\n",
      "[-1.08176784e-05  5.85319347e-04  2.44379628e-04 -2.88358195e-05]\n",
      "4.032686672361073e-07\n"
     ]
    },
    {
     "name": "stderr",
     "output_type": "stream",
     "text": [
      "2023-04-14 17:28:46,677\tINFO worker.py:1553 -- Started a local Ray instance.\n"
     ]
    },
    {
     "name": "stdout",
     "output_type": "stream",
     "text": [
      "solved inner\n",
      "solved exterior\n",
      "[-1.06878071e-05  5.85338366e-04  2.44397044e-04 -2.83520311e-05]\n",
      "4.032689849832934e-07\n"
     ]
    },
    {
     "name": "stderr",
     "output_type": "stream",
     "text": [
      "2023-04-14 17:29:03,969\tINFO worker.py:1553 -- Started a local Ray instance.\n"
     ]
    },
    {
     "name": "stdout",
     "output_type": "stream",
     "text": [
      "solved inner\n",
      "solved exterior\n",
      "[-1.08299179e-05  5.85364658e-04  2.44263255e-04 -2.88983057e-05]\n",
      "4.0326872015297145e-07\n"
     ]
    },
    {
     "name": "stderr",
     "output_type": "stream",
     "text": [
      "2023-04-14 17:29:21,550\tINFO worker.py:1553 -- Started a local Ray instance.\n"
     ]
    },
    {
     "name": "stdout",
     "output_type": "stream",
     "text": [
      "solved inner\n",
      "solved exterior\n",
      "[-1.08326326e-05  5.85327748e-04  2.44351423e-04 -2.88987978e-05]\n",
      "4.0326867678456517e-07\n"
     ]
    },
    {
     "name": "stderr",
     "output_type": "stream",
     "text": [
      "2023-04-14 17:29:39,476\tINFO worker.py:1553 -- Started a local Ray instance.\n"
     ]
    },
    {
     "name": "stdout",
     "output_type": "stream",
     "text": [
      "solved inner\n",
      "solved exterior\n",
      "[-1.08333112e-05  5.85318502e-04  2.44373496e-04 -2.88989354e-05]\n",
      "4.032686636076028e-07\n"
     ]
    },
    {
     "name": "stderr",
     "output_type": "stream",
     "text": [
      "2023-04-14 17:29:55,796\tINFO worker.py:1553 -- Started a local Ray instance.\n"
     ]
    },
    {
     "name": "stdout",
     "output_type": "stream",
     "text": [
      "solved inner\n",
      "solved exterior\n",
      "[-1.08481980e-05  5.85318173e-04  2.44374355e-04 -2.89005394e-05]\n",
      "4.0326911344002594e-07\n"
     ]
    },
    {
     "name": "stderr",
     "output_type": "stream",
     "text": [
      "2023-04-14 17:30:13,307\tINFO worker.py:1553 -- Started a local Ray instance.\n"
     ]
    },
    {
     "name": "stdout",
     "output_type": "stream",
     "text": [
      "solved inner\n",
      "solved exterior\n",
      "[-1.08891627e-05  5.85295969e-04  2.44347065e-04 -2.95578387e-05]\n",
      "4.032690993663383e-07\n"
     ]
    },
    {
     "name": "stderr",
     "output_type": "stream",
     "text": [
      "2023-04-14 17:30:30,355\tINFO worker.py:1553 -- Started a local Ray instance.\n"
     ]
    },
    {
     "name": "stdout",
     "output_type": "stream",
     "text": [
      "solved inner\n",
      "solved exterior\n",
      "[-1.08333567e-05  5.85319993e-04  2.44370386e-04 -2.88954073e-05]\n",
      "4.0326868616624724e-07\n"
     ]
    },
    {
     "name": "stderr",
     "output_type": "stream",
     "text": [
      "2023-04-14 17:30:47,753\tINFO worker.py:1553 -- Started a local Ray instance.\n"
     ]
    },
    {
     "name": "stdout",
     "output_type": "stream",
     "text": [
      "solved inner\n",
      "solved exterior\n",
      "[-1.07034847e-05  5.85338930e-04  2.44387943e-04 -2.84116860e-05]\n",
      "4.0326891848980647e-07\n"
     ]
    }
   ],
   "source": [
    "# surface\n",
    "M_star = 1.3*c.Ms\n",
    "L_star = (M_star/c.Ms)**(3.5)*c.Ls # eq. 1.88 HKT\n",
    "R_star = (M_star/c.Ms)**(0.75)*c.Rs # eq. 1.87 HKT\n",
    "# surface_guess = load_outer(M_star, L_star, R_star, factor=0.9999)\n",
    "# core\n",
    "# Pc = 2.65e17, sun\n",
    "P_factor = 1e1 # guess to inflate constant density sphere pressure\n",
    "Pc = (3/(8*np.pi))*(c.G*(M_star)**2)/(R_star)**4 * P_factor # constant density sphere, lower limit!\n",
    "# Tc = 15e6, sun\n",
    "Tc = (1/2)*((4/(3+5*0.7))/(N_A*c.k))*(c.G*M_star)/(R_star) # constant density sphere\n",
    "\n",
    "vec = np.array([L_star, Pc, R_star, Tc])\n",
    "args = (M_star, int(1e5), 1e-12, 0.9999, 0.75)\n",
    "\n",
    "from scipy.optimize import least_squares, root\n",
    "\n",
    "bounds = ([L_star*1e-1,Pc,R_star*1e-1,Tc], [L_star*1e2, Pc*1e4, R_star*1e1, Tc*1e3])\n",
    "# bounds = [(L_star*1e-2,L_star*1e2),(Pc,Pc*1e2),(R_star*1e-2,R_star*1e2),(Tc,Tc*1e2)]\n",
    "\n",
    "# x_scale = np.array([1e31, 1e14, 1e9, 1e6])\n",
    "\n",
    "# todo, set x_scale for each variable to enable better tolerance estimate\n",
    "final = least_squares(shooter, vec, args=args, bounds=bounds, \n",
    "                      method='dogbox', loss='arctan', \n",
    "                      gtol=1e-15, \n",
    "                      xtol=None, \n",
    "                      ftol=None, \n",
    "                      x_scale='jac', # x_scale\n",
    "                     )\n",
    "\n",
    "# final = root(shooter, vec, args=args)\n"
   ]
  },
  {
   "cell_type": "code",
   "execution_count": 7,
   "id": "7c810863",
   "metadata": {},
   "outputs": [],
   "source": [
    "if np.sum(final.active_mask**2) != 0:\n",
    "    print('something ran up against a bound')"
   ]
  },
  {
   "cell_type": "code",
   "execution_count": 8,
   "id": "5f4463e2",
   "metadata": {},
   "outputs": [
    {
     "data": {
      "text/plain": [
       "     message: `gtol` termination condition is satisfied.\n",
       "     success: True\n",
       "      status: 1\n",
       "         fun: [-1.083e-05  5.853e-04  2.444e-04 -2.890e-05]\n",
       "           x: [ 9.584e+33  1.956e+17  9.829e+10  1.670e+07]\n",
       "        cost: 2.0163433180379467e-07\n",
       "         jac: [[-1.042e-34 -1.916e-17 -3.109e-14  5.216e-07]\n",
       "               [-2.306e-36 -7.730e-18  1.018e-12  8.208e-08]\n",
       "               [ 6.016e-36 -9.067e-18 -2.123e-12  5.805e-08]\n",
       "               [-1.123e-35 -2.260e-16  2.409e-12  1.958e-06]]\n",
       "        grad: [ 1.574e-39 -4.666e-25  7.693e-18 -2.151e-17]\n",
       "  optimality: 2.1514414272741857e-17\n",
       " active_mask: [0 0 0 0]\n",
       "        nfev: 35\n",
       "        njev: 28"
      ]
     },
     "execution_count": 8,
     "metadata": {},
     "output_type": "execute_result"
    }
   ],
   "source": [
    "final"
   ]
  },
  {
   "cell_type": "code",
   "execution_count": 9,
   "id": "53f3f7ee",
   "metadata": {},
   "outputs": [
    {
     "name": "stderr",
     "output_type": "stream",
     "text": [
      "2023-04-14 17:31:04,812\tINFO worker.py:1553 -- Started a local Ray instance.\n"
     ]
    }
   ],
   "source": [
    "solution = solver(final.x, M_star=args[0],  n=args[1], in_factor=args[2], out_factor=args[3], M_fit=args[4])"
   ]
  },
  {
   "cell_type": "code",
   "execution_count": 10,
   "id": "5f8db931",
   "metadata": {},
   "outputs": [
    {
     "name": "stdout",
     "output_type": "stream",
     "text": [
      "ratio between constant density Pc and converged solution 189.40154971774467\n"
     ]
    }
   ],
   "source": [
    "# what is an appropriate P_factor to speed up convergence?\n",
    "print('ratio between constant density Pc and converged solution',solution[2].max()/(Pc/P_factor))"
   ]
  },
  {
   "cell_type": "code",
   "execution_count": 11,
   "id": "b16e2bb9",
   "metadata": {},
   "outputs": [
    {
     "name": "stdout",
     "output_type": "stream",
     "text": [
      "ratio between constant density Tc and converged solution 2.2166647730483184\n"
     ]
    }
   ],
   "source": [
    "print('ratio between constant density Tc and converged solution',solution[4].max()/Tc)"
   ]
  },
  {
   "cell_type": "code",
   "execution_count": 12,
   "id": "e9c5e4c0",
   "metadata": {},
   "outputs": [
    {
     "data": {
      "text/plain": [
       "(0.0, 1.1)"
      ]
     },
     "execution_count": 12,
     "metadata": {},
     "output_type": "execute_result"
    },
    {
     "data": {
      "image/png": "[encoded data removed]",
      "text/plain": [
       "<Figure size 640x480 with 1 Axes>"
      ]
     },
     "metadata": {},
     "output_type": "display_data"
    }
   ],
   "source": [
    "# a figure like 9.1 in HKT but in mass space, y-values near 1\n",
    "\n",
    "plt.plot(solution[0]/M_star, solution[5]/solution[5].max(), color='cornflowerblue', label=r'$\\log(\\rho [g/cm^3])\\times10^1$')\n",
    "plt.plot(solution[0]/M_star, solution[2]/solution[2].max(), color='tomato', label=r'$\\log(P [Ba])\\times10^{-16}$')\n",
    "plt.plot(solution[0]/M_star, solution[4]/solution[4].max(), color='xkcd:forest green', label=r'$\\log(T [K])\\times10^{-7}$')\n",
    "plt.plot(solution[0]/M_star, solution[1]/solution[1].max(), color='xkcd:lavender', label=r'$\\log(L [erg/s])\\times10^{-33}$')\n",
    "\n",
    "# plt.yscale('log')\n",
    "plt.xlabel(r'M [M$_\\star$]')\n",
    "plt.ylabel(r'$\\log(quantity)\\times C$')\n",
    "plt.legend(fontsize=10)\n",
    "# plt.ylim(1e-3,1e3)\n",
    "plt.xlim(0,1.1)\n"
   ]
  },
  {
   "cell_type": "code",
   "execution_count": 13,
   "id": "61cef5de",
   "metadata": {},
   "outputs": [
    {
     "data": {
      "text/plain": [
       "(0.0, 1.1)"
      ]
     },
     "execution_count": 13,
     "metadata": {},
     "output_type": "execute_result"
    },
    {
     "data": {
      "image/png": "[encoded data removed]",
      "text/plain": [
       "<Figure size 640x480 with 1 Axes>"
      ]
     },
     "metadata": {},
     "output_type": "display_data"
    }
   ],
   "source": [
    "# reproduce figure 9.1 in HKT but in mass space\n",
    "\n",
    "plt.plot(solution[0]/M_star, solution[5]*1e5, color='cornflowerblue', label=r'$\\log(\\rho)\\times10^5$ $[g/cm^3]$')\n",
    "plt.plot(solution[0]/M_star, solution[2]*1e-8, color='tomato', label=r'$\\log(P)\\times10^{-8}$ $[Ba]$')\n",
    "plt.plot(solution[0]/M_star, solution[4], color='xkcd:forest green', label=r'$\\log(T)$ $[K]$')\n",
    "\n",
    "plt.yscale('log')\n",
    "plt.xlabel(r'M [M$_\\star$]')\n",
    "plt.ylabel(r'$\\log(quantity)\\times C$')\n",
    "plt.legend()\n",
    "plt.ylim(1,1e10)\n",
    "plt.xlim(0,1.1)"
   ]
  },
  {
   "cell_type": "code",
   "execution_count": 14,
   "id": "987e29b7",
   "metadata": {},
   "outputs": [],
   "source": [
    "with open('converged_interior.npy', 'wb') as f:\n",
    "    np.save(f, solution)"
   ]
  },
  {
   "cell_type": "code",
   "execution_count": null,
   "id": "3328ef0a",
   "metadata": {},
   "outputs": [],
   "source": []
  }
 ],
 "metadata": {
  "kernelspec": {
   "display_name": "Python 3 (ipykernel)",
   "language": "python",
   "name": "python3"
  },
  "language_info": {
   "codemirror_mode": {
    "name": "ipython",
    "version": 3
   },
   "file_extension": ".py",
   "mimetype": "text/x-python",
   "name": "python",
   "nbconvert_exporter": "python",
   "pygments_lexer": "ipython3",
   "version": "3.9.16"
  }
 },
 "nbformat": 4,
 "nbformat_minor": 5
}
