{
 "cells": [
  {
   "cell_type": "markdown",
   "id": "67613615",
   "metadata": {},
   "source": [
    "# test notebook for stella ZAMS calc code"
   ]
  },
  {
   "cell_type": "code",
   "execution_count": 12,
   "id": "074f5a8b",
   "metadata": {},
   "outputs": [],
   "source": [
    "# imports\n",
    "import numpy as np\n",
    "import pandas as pd\n",
    "from scipy.interpolate import interpn\n",
    "\n",
    "# constants\n",
    "import constants as c\n",
    "from scipy.constants import N_A\n",
    "\n",
    "# plotting\n",
    "import matplotlib.pyplot as plt\n",
    "import seaborn as sb\n",
    "sb.set_context(\"talk\")\n",
    "plt.rcParams['font.family'] = 'monospace'   # Fonts\n",
    "plt.rcParams['font.monospace'] = 'DejaVu Sans Mono'"
   ]
  },
  {
   "cell_type": "code",
   "execution_count": 6,
   "id": "38c89f5d",
   "metadata": {},
   "outputs": [
    {
     "data": {
      "text/plain": [
       "array([2.37514896])"
      ]
     },
     "execution_count": 6,
     "metadata": {},
     "output_type": "execute_result"
    }
   ],
   "source": [
    "import interpolate\n",
    "\n",
    "interpolate.interp_k(1.1,1.1e6)"
   ]
  },
  {
   "cell_type": "markdown",
   "id": "4c79ac22",
   "metadata": {},
   "source": [
    "Read Sections 18.0, 18.1, and 18.2 of Numerical Recipes, as it will be necessary\n",
    "to implement the method of shooting to a fitting point (their shootf function) to\n",
    "solve the boundary-value problem posed by the four coupled ordinary differential\n",
    "equations of stellar structure and evolution. You will also need a program similar\n",
    "to the newt function described in Section 9.7 of Numerical Recipes or in the\n",
    "SciPy documentation to repeatedly call a shootf-like function, calculate updated\n",
    "boundary values, and ultimately obtain a converged solution. Faster convergence\n",
    "can usually be obtained by using fractions of the updates suggested by a newt-\n",
    "like function. Ordinary differential equation (ODE) solvers like those described\n",
    "in Sections 17.0, 17.1, and 17.2 of Numerical Recipes or the SciPy documentation\n",
    "are also critical."
   ]
  },
  {
   "cell_type": "code",
   "execution_count": null,
   "id": "2f543afc",
   "metadata": {},
   "outputs": [],
   "source": [
    "import energy\n",
    "import density\n",
    "\n",
    "def load_inner(Pc, Tc):\n",
    "    \n",
    "    return (m, l, P, r, T)\n",
    "\n",
    "def load_outer(L_star, R_star):\n",
    "    \n",
    "    return (m, l, P, r, T)\n",
    "\n",
    "def del_rad(m, l, P, rho, T):\n",
    "    \"\"\"\n",
    "    Calculate del_rad based on 4.30 in HKT\n",
    "    \"\"\"\n",
    "    first_term = 3/(16*np.pi*c.a*c.c*c.G)\n",
    "    kappa = interpolate.interp_k(rho, T)\n",
    "    second_term = P*kappa*l/(m*T**4)\n",
    "    return first_term*second_term\n",
    "\n",
    "del_ad = 0.4 # assuming ideal gas, complete ionization\n",
    "\n",
    "def odeez(m, l, P, r, T):\n",
    "    rho = density.density(P,T) # density\n",
    "    dldm = energy.energy_gen(rho,T) #change in Luminosity with enclosed mass\n",
    "    dPdm = -c.G*m/(4*np.pi*r**4) # change in pressure with enclosed mass\n",
    "    drdm = 1/(4*np.pi*r**2 * rho) # mass conservation eq.\n",
    "    del_radiative = del_rad(m, l, P, rho, T)\n",
    "    if del_radiative > del_ad:\n",
    "        del_actual = del_ad\n",
    "    else:\n",
    "        del_actual = del_radiative\n",
    "    dTdm = -c.G*m*T*del_actual/(4*np.pi*P*r**4) # change in temperature with enclosed mass\n",
    "    return (dldm, dPdm, drdm, dTdm)\n",
    "    \n",
    "from scipy.integrate import solve_ivp\n",
    "    \n",
    "@np.vectorize\n",
    "def shootingf(Mr_fit, Pc, Tc, L_star, R_star, n=50):\n",
    "    Mr_cen, _, _, _, _ = load_inner(Pc, Tc)\n",
    "    Mr_surf, _, _, _, _ = load_outer(L_star, R_star)\n",
    "    Mr_in = np.linspace(Mr_cen, Mr_fit, num=n)\n",
    "    Mr_out = np.linspace(Mr_surf, Mr_fit, num=n)\n",
    "    \n",
    "    sol_inner = solve_ivp(odeez, (Mr_in[0], Mr_in[-1]), load_inner(Pc, Tc), t_eval=Mr_in)\n",
    "    \n",
    "    sol_outer = solve_ivp(odeez, (Mr_out[0], Mr_out[-1]), load_outer(L_star, R_star), t_eval=Mr_out) \n",
    "\n",
    "    return sol_inner, sol_outer\n",
    "\n",
    "from scipy import optimize\n",
    "solution = optimize.newton(shootingf, )"
   ]
  },
  {
   "cell_type": "code",
   "execution_count": null,
   "id": "502ee6e4",
   "metadata": {},
   "outputs": [],
   "source": []
  },
  {
   "cell_type": "code",
   "execution_count": null,
   "id": "901211e0",
   "metadata": {},
   "outputs": [],
   "source": []
  },
  {
   "cell_type": "code",
   "execution_count": null,
   "id": "3dc6c2c1",
   "metadata": {},
   "outputs": [],
   "source": []
  },
  {
   "cell_type": "code",
   "execution_count": null,
   "id": "bba80d64",
   "metadata": {},
   "outputs": [],
   "source": []
  },
  {
   "cell_type": "code",
   "execution_count": null,
   "id": "bcbf02d2",
   "metadata": {},
   "outputs": [],
   "source": []
  }
 ],
 "metadata": {
  "kernelspec": {
   "display_name": "Python 3 (ipykernel)",
   "language": "python",
   "name": "python3"
  },
  "language_info": {
   "codemirror_mode": {
    "name": "ipython",
    "version": 3
   },
   "file_extension": ".py",
   "mimetype": "text/x-python",
   "name": "python",
   "nbconvert_exporter": "python",
   "pygments_lexer": "ipython3",
   "version": "3.11.2"
  }
 },
 "nbformat": 4,
 "nbformat_minor": 5
}
