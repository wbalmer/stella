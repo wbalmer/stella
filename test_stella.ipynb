{
 "cells": [
  {
   "cell_type": "markdown",
   "id": "e4240a3e",
   "metadata": {},
   "source": [
    "# test notebook for stella ZAMS calc code"
   ]
  },
  {
   "cell_type": "code",
   "execution_count": 12,
   "id": "6d0e59ee",
   "metadata": {},
   "outputs": [],
   "source": [
    "# imports\n",
    "import numpy as np\n",
    "import pandas as pd\n",
    "from scipy.interpolate import interpn\n",
    "\n",
    "# constants\n",
    "import constants as c\n",
    "from scipy.constants import N_A\n",
    "\n",
    "# plotting\n",
    "import matplotlib.pyplot as plt\n",
    "import seaborn as sb\n",
    "sb.set_context(\"talk\")\n",
    "plt.rcParams['font.family'] = 'monospace'   # Fonts\n",
    "plt.rcParams['font.monospace'] = 'DejaVu Sans Mono'"
   ]
  },
  {
   "cell_type": "code",
   "execution_count": 6,
   "id": "44ff4417",
   "metadata": {},
   "outputs": [
    {
     "data": {
      "text/plain": [
       "array([2.37514896])"
      ]
     },
     "execution_count": 6,
     "metadata": {},
     "output_type": "execute_result"
    }
   ],
   "source": [
    "import interpolate\n",
    "\n",
    "interpolate.interp_k(1.1,1.1e6)"
   ]
  },
  {
   "cell_type": "markdown",
   "id": "8c338f1e",
   "metadata": {},
   "source": [
    "Read Sections 18.0, 18.1, and 18.2 of Numerical Recipes, as it will be necessary\n",
    "to implement the method of shooting to a fitting point (their shootf function) to\n",
    "solve the boundary-value problem posed by the four coupled ordinary differential\n",
    "equations of stellar structure and evolution. You will also need a program similar\n",
    "to the newt function described in Section 9.7 of Numerical Recipes or in the\n",
    "SciPy documentation to repeatedly call a shootf-like function, calculate updated\n",
    "boundary values, and ultimately obtain a converged solution. Faster convergence\n",
    "can usually be obtained by using fractions of the updates suggested by a newt-\n",
    "like function. Ordinary differential equation (ODE) solvers like those described\n",
    "in Sections 17.0, 17.1, and 17.2 of Numerical Recipes or the SciPy documentation\n",
    "are also critical."
   ]
  },
  {
   "cell_type": "code",
   "execution_count": null,
   "id": "e3c27f02",
   "metadata": {},
   "outputs": [],
   "source": []
  },
  {
   "cell_type": "code",
   "execution_count": null,
   "id": "26e26c73",
   "metadata": {},
   "outputs": [],
   "source": []
  },
  {
   "cell_type": "code",
   "execution_count": 14,
   "id": "525ea68e",
   "metadata": {},
   "outputs": [],
   "source": []
  }
 ],
 "metadata": {
  "kernelspec": {
   "display_name": "Python 3 (ipykernel)",
   "language": "python",
   "name": "python3"
  },
  "language_info": {
   "codemirror_mode": {
    "name": "ipython",
    "version": 3
   },
   "file_extension": ".py",
   "mimetype": "text/x-python",
   "name": "python",
   "nbconvert_exporter": "python",
   "pygments_lexer": "ipython3",
   "version": "3.11.2"
  }
 },
 "nbformat": 4,
 "nbformat_minor": 5
}
