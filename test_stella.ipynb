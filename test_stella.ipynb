{
 "cells": [
  {
   "cell_type": "markdown",
   "id": "8b944978",
   "metadata": {},
   "source": [
    "# test notebook for stella ZAMS calc code"
   ]
  },
  {
   "cell_type": "code",
   "execution_count": 11,
   "id": "de0b2bca",
   "metadata": {},
   "outputs": [],
   "source": [
    "# imports\n",
    "import numpy as np\n",
    "from scipy.optimize import least_squares\n",
    "\n",
    "import ray\n",
    "from ray.util.multiprocessing import Pool\n",
    "\n",
    "# constants\n",
    "import constants as c\n",
    "from scipy.constants import N_A\n",
    "\n",
    "# plotting\n",
    "import matplotlib.pyplot as plt\n",
    "import seaborn as sb\n",
    "sb.set_context(\"talk\")\n",
    "# plt.style.use('dark_background')\n",
    "plt.style.use('default')\n",
    "plt.rcParams['font.family'] = 'monospace'   # Fonts\n",
    "plt.rcParams['font.monospace'] = 'DejaVu Sans Mono'"
   ]
  },
  {
   "cell_type": "code",
   "execution_count": 19,
   "id": "86ae9f06",
   "metadata": {},
   "outputs": [],
   "source": [
    "import interpolate\n",
    "import energy\n",
    "import density\n",
    "from guesses import *\n",
    "from ode import ode\n",
    "from shootf import shooter, solver"
   ]
  },
  {
   "cell_type": "code",
   "execution_count": 20,
   "id": "72923fe6",
   "metadata": {},
   "outputs": [],
   "source": [
    "# surface\n",
    "M_star = 1.33*c.Ms\n",
    "L_star = (M_star/c.Ms)**(3.5)*c.Ls # eq. 1.88 HKT\n",
    "R_star = (M_star/c.Ms)**(0.75)*c.Rs # eq. 1.87 HKT\n",
    "# core\n",
    "Pc = (3/(8*np.pi))*(c.G*(M_star)**2)/(R_star)**4 # constant density sphere, lower limit!\n",
    "Tc = (1/2)*((4/(3+5*0.7))/(N_A*c.k))*(c.G*M_star)/(R_star) # constant density sphere\n",
    "# guess to inflate constant density sphere pressure\n",
    "P_factor = 1e1\n",
    "Pc *= P_factor\n",
    "# initial guess vector\n",
    "vec = np.array([L_star, Pc, R_star, Tc])\n",
    "# shootf args\n",
    "args = (M_star, 0.33, int(1e5), 1e-12, 0.9999, True)\n",
    "# set limits for the minimizer\n",
    "bounds = ([L_star*1e-1,Pc/P_factor,R_star*1e-1,Tc], [L_star*1e1, Pc/P_factor*1e4, R_star*1e1, Tc*1e3])"
   ]
  },
  {
   "cell_type": "code",
   "execution_count": 4,
   "id": "c8592da1",
   "metadata": {
    "scrolled": true
   },
   "outputs": [
    {
     "name": "stderr",
     "output_type": "stream",
     "text": [
      "2023-05-01 15:26:56,227\tINFO worker.py:1553 -- Started a local Ray instance.\n"
     ]
    },
    {
     "name": "stdout",
     "output_type": "stream",
     "text": [
      "solved inner\n",
      "solved exterior\n",
      "[-0.85706425 -7.246262    0.23646722 -0.53714368]\n"
     ]
    },
    {
     "name": "stderr",
     "output_type": "stream",
     "text": [
      "2023-05-01 15:27:21,514\tINFO worker.py:1553 -- Started a local Ray instance.\n"
     ]
    },
    {
     "name": "stdout",
     "output_type": "stream",
     "text": [
      "solved inner\n",
      "solved exterior\n",
      "[-0.85706425 -7.24626211  0.23646722 -0.53714369]\n"
     ]
    },
    {
     "name": "stderr",
     "output_type": "stream",
     "text": [
      "2023-05-01 15:27:47,162\tINFO worker.py:1553 -- Started a local Ray instance.\n"
     ]
    },
    {
     "name": "stdout",
     "output_type": "stream",
     "text": [
      "solved inner\n",
      "solved exterior\n",
      "[-0.85706425 -7.24626189  0.23646722 -0.53714368]\n"
     ]
    },
    {
     "name": "stderr",
     "output_type": "stream",
     "text": [
      "2023-05-01 15:28:13,317\tINFO worker.py:1553 -- Started a local Ray instance.\n"
     ]
    },
    {
     "name": "stdout",
     "output_type": "stream",
     "text": [
      "solved inner\n",
      "solved exterior\n",
      "[-0.85706426 -7.24626171  0.23646722 -0.53714367]\n"
     ]
    },
    {
     "name": "stderr",
     "output_type": "stream",
     "text": [
      "2023-05-01 15:28:39,446\tINFO worker.py:1553 -- Started a local Ray instance.\n"
     ]
    },
    {
     "name": "stdout",
     "output_type": "stream",
     "text": [
      "solved inner\n",
      "solved exterior\n",
      "[-0.85706425 -7.24626199  0.23646722 -0.53714366]\n"
     ]
    },
    {
     "name": "stderr",
     "output_type": "stream",
     "text": [
      "2023-05-01 15:29:05,898\tINFO worker.py:1553 -- Started a local Ray instance.\n"
     ]
    },
    {
     "name": "stdout",
     "output_type": "stream",
     "text": [
      "solved inner\n"
     ]
    },
    {
     "name": "stderr",
     "output_type": "stream",
     "text": [
      "\u001b[2m\u001b[36m(PoolActor pid=78069)\u001b[0m /Users/wbalmer/stellarinteriors/stellaluna/interpolate.py:26: RuntimeWarning: invalid value encountered in log10\n",
      "\u001b[2m\u001b[36m(PoolActor pid=78069)\u001b[0m   logT_i = np.log10(T_i)\n",
      "\u001b[2m\u001b[36m(PoolActor pid=78069)\u001b[0m /Users/wbalmer/stellarinteriors/stellaluna/energy.py:50: RuntimeWarning: invalid value encountered in double_scalars\n",
      "\u001b[2m\u001b[36m(PoolActor pid=78069)\u001b[0m   return 2.57e4 * psi * f_weak * g_pp * rho * X1**2 * T9**(-2/3) * np.exp(-3.381/(T9**(1/3)))\n",
      "\u001b[2m\u001b[36m(PoolActor pid=78069)\u001b[0m /Users/wbalmer/stellarinteriors/stellaluna/energy.py:57: RuntimeWarning: invalid value encountered in double_scalars\n",
      "\u001b[2m\u001b[36m(PoolActor pid=78069)\u001b[0m   return 8.24e25*g_cno*X_cno*X1*rho*T9**(-2/3)*np.exp((-15.231*T9**(-1/3))-(T9/0.8)**2)\n"
     ]
    },
    {
     "name": "stdout",
     "output_type": "stream",
     "text": [
      "failed to solve exterior Required step size is less than spacing between numbers.\n"
     ]
    },
    {
     "name": "stderr",
     "output_type": "stream",
     "text": [
      "2023-05-01 15:29:47,780\tINFO worker.py:1553 -- Started a local Ray instance.\n"
     ]
    },
    {
     "name": "stdout",
     "output_type": "stream",
     "text": [
      "solved inner\n",
      "solved exterior\n",
      "[-0.84854898 -7.13185213  0.2393955  -0.24096005]\n"
     ]
    },
    {
     "name": "stderr",
     "output_type": "stream",
     "text": [
      "2023-05-01 15:30:19,214\tINFO worker.py:1553 -- Started a local Ray instance.\n"
     ]
    },
    {
     "name": "stdout",
     "output_type": "stream",
     "text": [
      "solved inner\n",
      "solved exterior\n",
      "[-0.84854898 -7.13185224  0.2393955  -0.24096006]\n"
     ]
    },
    {
     "name": "stderr",
     "output_type": "stream",
     "text": [
      "2023-05-01 15:30:52,974\tINFO worker.py:1553 -- Started a local Ray instance.\n"
     ]
    },
    {
     "name": "stdout",
     "output_type": "stream",
     "text": [
      "solved inner\n",
      "solved exterior\n",
      "[-0.84854898 -7.13185202  0.23939549 -0.24096005]\n"
     ]
    },
    {
     "name": "stderr",
     "output_type": "stream",
     "text": [
      "2023-05-01 15:31:23,729\tINFO worker.py:1553 -- Started a local Ray instance.\n"
     ]
    },
    {
     "name": "stdout",
     "output_type": "stream",
     "text": [
      "solved inner\n",
      "solved exterior\n",
      "[-0.84854899 -7.13185184  0.23939549 -0.24096004]\n"
     ]
    },
    {
     "name": "stderr",
     "output_type": "stream",
     "text": [
      "2023-05-01 15:32:03,215\tINFO worker.py:1553 -- Started a local Ray instance.\n"
     ]
    },
    {
     "name": "stdout",
     "output_type": "stream",
     "text": [
      "solved inner\n",
      "solved exterior\n",
      "[-0.84854898 -7.13185212  0.2393955  -0.24096003]\n"
     ]
    },
    {
     "name": "stderr",
     "output_type": "stream",
     "text": [
      "2023-05-01 15:32:35,959\tINFO worker.py:1553 -- Started a local Ray instance.\n"
     ]
    },
    {
     "name": "stdout",
     "output_type": "stream",
     "text": [
      "solved inner\n",
      "solved exterior\n",
      "[  0.05545832 -23.69794882   0.46032493  -0.0504426 ]\n"
     ]
    },
    {
     "name": "stderr",
     "output_type": "stream",
     "text": [
      "2023-05-01 15:33:07,305\tINFO worker.py:1553 -- Started a local Ray instance.\n"
     ]
    },
    {
     "name": "stdout",
     "output_type": "stream",
     "text": [
      "solved inner\n",
      "solved exterior\n",
      "[  0.05545833 -23.69794922   0.46032493  -0.0504426 ]\n"
     ]
    },
    {
     "name": "stderr",
     "output_type": "stream",
     "text": [
      "2023-05-01 15:33:36,537\tINFO worker.py:1553 -- Started a local Ray instance.\n"
     ]
    },
    {
     "name": "stdout",
     "output_type": "stream",
     "text": [
      "solved inner\n",
      "solved exterior\n",
      "[  0.05545832 -23.69794846   0.46032493  -0.0504426 ]\n"
     ]
    },
    {
     "name": "stderr",
     "output_type": "stream",
     "text": [
      "2023-05-01 15:34:04,695\tINFO worker.py:1553 -- Started a local Ray instance.\n"
     ]
    },
    {
     "name": "stdout",
     "output_type": "stream",
     "text": [
      "solved inner\n",
      "solved exterior\n",
      "[  0.05545798 -23.69794135   0.4603249   -0.05044255]\n"
     ]
    },
    {
     "name": "stderr",
     "output_type": "stream",
     "text": [
      "2023-05-01 15:34:32,892\tINFO worker.py:1553 -- Started a local Ray instance.\n"
     ]
    },
    {
     "name": "stdout",
     "output_type": "stream",
     "text": [
      "solved inner\n",
      "solved exterior\n",
      "[  0.05545832 -23.69794882   0.46032493  -0.05044258]\n"
     ]
    },
    {
     "name": "stderr",
     "output_type": "stream",
     "text": [
      "2023-05-01 15:35:00,735\tINFO worker.py:1553 -- Started a local Ray instance.\n"
     ]
    },
    {
     "name": "stdout",
     "output_type": "stream",
     "text": [
      "solved inner\n",
      "solved exterior\n",
      "[ 0.14485525 -5.84941216  0.24763029 -0.03008408]\n"
     ]
    },
    {
     "name": "stderr",
     "output_type": "stream",
     "text": [
      "2023-05-01 15:35:29,829\tINFO worker.py:1553 -- Started a local Ray instance.\n"
     ]
    },
    {
     "name": "stdout",
     "output_type": "stream",
     "text": [
      "solved inner\n",
      "solved exterior\n",
      "[ 0.14485526 -5.84941224  0.24763029 -0.03008408]\n"
     ]
    },
    {
     "name": "stderr",
     "output_type": "stream",
     "text": [
      "2023-05-01 15:35:59,734\tINFO worker.py:1553 -- Started a local Ray instance.\n"
     ]
    },
    {
     "name": "stdout",
     "output_type": "stream",
     "text": [
      "solved inner\n",
      "solved exterior\n",
      "[ 0.14485525 -5.84941207  0.24763029 -0.03008408]\n"
     ]
    },
    {
     "name": "stderr",
     "output_type": "stream",
     "text": [
      "2023-05-01 15:36:29,039\tINFO worker.py:1553 -- Started a local Ray instance.\n"
     ]
    },
    {
     "name": "stdout",
     "output_type": "stream",
     "text": [
      "solved inner\n",
      "solved exterior\n",
      "[ 0.14485519 -5.84941191  0.24763029 -0.03008408]\n"
     ]
    },
    {
     "name": "stderr",
     "output_type": "stream",
     "text": [
      "2023-05-01 15:36:56,665\tINFO worker.py:1553 -- Started a local Ray instance.\n"
     ]
    },
    {
     "name": "stdout",
     "output_type": "stream",
     "text": [
      "solved inner\n",
      "solved exterior\n",
      "[ 0.14485526 -5.84941215  0.24763029 -0.03008406]\n"
     ]
    },
    {
     "name": "stderr",
     "output_type": "stream",
     "text": [
      "2023-05-01 15:37:28,132\tINFO worker.py:1553 -- Started a local Ray instance.\n"
     ]
    },
    {
     "name": "stdout",
     "output_type": "stream",
     "text": [
      "solved inner\n",
      "solved exterior\n",
      "[ 0.06563769 -2.39124597  0.15575078 -0.06629061]\n"
     ]
    },
    {
     "name": "stderr",
     "output_type": "stream",
     "text": [
      "2023-05-01 15:37:59,365\tINFO worker.py:1553 -- Started a local Ray instance.\n"
     ]
    },
    {
     "name": "stdout",
     "output_type": "stream",
     "text": [
      "solved inner\n",
      "solved exterior\n",
      "[ 0.06563769 -2.39124601  0.15575078 -0.06629062]\n"
     ]
    },
    {
     "name": "stderr",
     "output_type": "stream",
     "text": [
      "2023-05-01 15:38:37,901\tINFO worker.py:1553 -- Started a local Ray instance.\n"
     ]
    },
    {
     "name": "stdout",
     "output_type": "stream",
     "text": [
      "solved inner\n",
      "solved exterior\n",
      "[ 0.06563769 -2.39124594  0.15575077 -0.06629061]\n"
     ]
    },
    {
     "name": "stderr",
     "output_type": "stream",
     "text": [
      "2023-05-01 15:39:07,857\tINFO worker.py:1553 -- Started a local Ray instance.\n"
     ]
    },
    {
     "name": "stdout",
     "output_type": "stream",
     "text": [
      "solved inner\n",
      "solved exterior\n",
      "[ 0.06563764 -2.39124586  0.15575077 -0.06629061]\n"
     ]
    },
    {
     "name": "stderr",
     "output_type": "stream",
     "text": [
      "2023-05-01 15:39:39,901\tINFO worker.py:1553 -- Started a local Ray instance.\n"
     ]
    },
    {
     "name": "stdout",
     "output_type": "stream",
     "text": [
      "solved inner\n",
      "solved exterior\n",
      "[ 0.06563771 -2.39124597  0.15575078 -0.0662906 ]\n"
     ]
    },
    {
     "name": "stderr",
     "output_type": "stream",
     "text": [
      "2023-05-01 15:40:07,879\tINFO worker.py:1553 -- Started a local Ray instance.\n"
     ]
    },
    {
     "name": "stdout",
     "output_type": "stream",
     "text": [
      "solved inner\n",
      "solved exterior\n",
      "[-0.07459284 -0.74005879  0.05552256 -0.38097918]\n"
     ]
    },
    {
     "name": "stderr",
     "output_type": "stream",
     "text": [
      "2023-05-01 15:40:35,554\tINFO worker.py:1553 -- Started a local Ray instance.\n"
     ]
    },
    {
     "name": "stdout",
     "output_type": "stream",
     "text": [
      "solved inner\n",
      "solved exterior\n",
      "[-0.07459284 -0.7400588   0.05552256 -0.38097918]\n"
     ]
    },
    {
     "name": "stderr",
     "output_type": "stream",
     "text": [
      "2023-05-01 15:41:01,755\tINFO worker.py:1553 -- Started a local Ray instance.\n"
     ]
    },
    {
     "name": "stdout",
     "output_type": "stream",
     "text": [
      "solved inner\n",
      "solved exterior\n",
      "[-0.07459285 -0.74005878  0.05552256 -0.38097919]\n"
     ]
    },
    {
     "name": "stderr",
     "output_type": "stream",
     "text": [
      "2023-05-01 15:41:28,308\tINFO worker.py:1553 -- Started a local Ray instance.\n"
     ]
    },
    {
     "name": "stdout",
     "output_type": "stream",
     "text": [
      "solved inner\n",
      "solved exterior\n",
      "[-0.07459288 -0.74005875  0.05552255 -0.38097917]\n"
     ]
    },
    {
     "name": "stderr",
     "output_type": "stream",
     "text": [
      "2023-05-01 15:41:54,523\tINFO worker.py:1553 -- Started a local Ray instance.\n"
     ]
    },
    {
     "name": "stdout",
     "output_type": "stream",
     "text": [
      "solved inner\n",
      "solved exterior\n",
      "[-0.0745928  -0.74005877  0.05552256 -0.38097914]\n"
     ]
    },
    {
     "name": "stderr",
     "output_type": "stream",
     "text": [
      "2023-05-01 15:42:20,764\tINFO worker.py:1553 -- Started a local Ray instance.\n"
     ]
    },
    {
     "name": "stdout",
     "output_type": "stream",
     "text": [
      "solved inner\n",
      "solved exterior\n",
      "[ 2.92272572 -0.07092158  0.0087528  -0.0099957 ]\n"
     ]
    },
    {
     "name": "stderr",
     "output_type": "stream",
     "text": [
      "2023-05-01 15:42:47,629\tINFO worker.py:1553 -- Started a local Ray instance.\n"
     ]
    },
    {
     "name": "stdout",
     "output_type": "stream",
     "text": [
      "solved inner\n",
      "solved exterior\n",
      "[ 0.49509644 -0.44086708  0.04120553 -0.14418037]\n"
     ]
    },
    {
     "name": "stderr",
     "output_type": "stream",
     "text": [
      "2023-05-01 15:43:13,430\tINFO worker.py:1553 -- Started a local Ray instance.\n"
     ]
    },
    {
     "name": "stdout",
     "output_type": "stream",
     "text": [
      "solved inner\n",
      "solved exterior\n",
      "[ 0.49509643 -0.44086709  0.04120553 -0.14418037]\n"
     ]
    },
    {
     "name": "stderr",
     "output_type": "stream",
     "text": [
      "2023-05-01 15:43:39,621\tINFO worker.py:1553 -- Started a local Ray instance.\n"
     ]
    },
    {
     "name": "stdout",
     "output_type": "stream",
     "text": [
      "solved inner\n",
      "solved exterior\n",
      "[ 0.49509644 -0.44086707  0.04120553 -0.14418038]\n"
     ]
    },
    {
     "name": "stderr",
     "output_type": "stream",
     "text": [
      "2023-05-01 15:44:06,197\tINFO worker.py:1553 -- Started a local Ray instance.\n"
     ]
    },
    {
     "name": "stdout",
     "output_type": "stream",
     "text": [
      "solved inner\n",
      "solved exterior\n",
      "[ 0.49509641 -0.44086705  0.04120553 -0.14418037]\n"
     ]
    },
    {
     "name": "stderr",
     "output_type": "stream",
     "text": [
      "2023-05-01 15:44:32,207\tINFO worker.py:1553 -- Started a local Ray instance.\n"
     ]
    },
    {
     "name": "stdout",
     "output_type": "stream",
     "text": [
      "solved inner\n",
      "solved exterior\n",
      "[ 0.49509654 -0.44086707  0.04120553 -0.14418034]\n"
     ]
    },
    {
     "name": "stderr",
     "output_type": "stream",
     "text": [
      "2023-05-01 15:44:58,258\tINFO worker.py:1553 -- Started a local Ray instance.\n"
     ]
    },
    {
     "name": "stdout",
     "output_type": "stream",
     "text": [
      "solved inner\n",
      "solved exterior\n",
      "[ 0.0844166  -0.41616114  0.03485781 -0.22490768]\n"
     ]
    },
    {
     "name": "stderr",
     "output_type": "stream",
     "text": [
      "2023-05-01 15:45:25,907\tINFO worker.py:1553 -- Started a local Ray instance.\n"
     ]
    },
    {
     "name": "stdout",
     "output_type": "stream",
     "text": [
      "solved inner\n",
      "solved exterior\n",
      "[ 0.0844166  -0.41616115  0.03485781 -0.22490768]\n"
     ]
    },
    {
     "name": "stderr",
     "output_type": "stream",
     "text": [
      "2023-05-01 15:45:52,168\tINFO worker.py:1553 -- Started a local Ray instance.\n"
     ]
    },
    {
     "name": "stdout",
     "output_type": "stream",
     "text": [
      "solved inner\n",
      "solved exterior\n",
      "[ 0.08441661 -0.41616113  0.03485781 -0.22490768]\n"
     ]
    },
    {
     "name": "stderr",
     "output_type": "stream",
     "text": [
      "2023-05-01 15:46:18,438\tINFO worker.py:1553 -- Started a local Ray instance.\n"
     ]
    },
    {
     "name": "stdout",
     "output_type": "stream",
     "text": [
      "solved inner\n",
      "solved exterior\n",
      "[ 0.08441658 -0.41616111  0.0348578  -0.22490767]\n"
     ]
    },
    {
     "name": "stderr",
     "output_type": "stream",
     "text": [
      "2023-05-01 15:46:44,800\tINFO worker.py:1553 -- Started a local Ray instance.\n"
     ]
    },
    {
     "name": "stdout",
     "output_type": "stream",
     "text": [
      "solved inner\n",
      "solved exterior\n",
      "[ 0.08441666 -0.41616113  0.03485781 -0.22490766]\n"
     ]
    },
    {
     "name": "stderr",
     "output_type": "stream",
     "text": [
      "2023-05-01 15:47:11,171\tINFO worker.py:1553 -- Started a local Ray instance.\n"
     ]
    },
    {
     "name": "stdout",
     "output_type": "stream",
     "text": [
      "solved inner\n",
      "solved exterior\n",
      "[ 0.17510293 -0.27137212  0.02807183 -0.08893815]\n"
     ]
    },
    {
     "name": "stderr",
     "output_type": "stream",
     "text": [
      "2023-05-01 15:47:37,779\tINFO worker.py:1553 -- Started a local Ray instance.\n"
     ]
    },
    {
     "name": "stdout",
     "output_type": "stream",
     "text": [
      "solved inner\n",
      "solved exterior\n",
      "[ 0.17510292 -0.27137213  0.02807184 -0.08893815]\n"
     ]
    },
    {
     "name": "stderr",
     "output_type": "stream",
     "text": [
      "2023-05-01 15:48:04,240\tINFO worker.py:1553 -- Started a local Ray instance.\n"
     ]
    },
    {
     "name": "stdout",
     "output_type": "stream",
     "text": [
      "solved inner\n",
      "solved exterior\n",
      "[ 0.17510291 -0.27137212  0.02807183 -0.08893818]\n"
     ]
    },
    {
     "name": "stderr",
     "output_type": "stream",
     "text": [
      "2023-05-01 15:48:31,522\tINFO worker.py:1553 -- Started a local Ray instance.\n"
     ]
    },
    {
     "name": "stdout",
     "output_type": "stream",
     "text": [
      "solved inner\n",
      "solved exterior\n",
      "[ 0.17510291 -0.2713721   0.02807183 -0.08893814]\n"
     ]
    },
    {
     "name": "stderr",
     "output_type": "stream",
     "text": [
      "2023-05-01 15:48:58,126\tINFO worker.py:1553 -- Started a local Ray instance.\n"
     ]
    },
    {
     "name": "stdout",
     "output_type": "stream",
     "text": [
      "solved inner\n",
      "solved exterior\n",
      "[ 0.17510302 -0.27137211  0.02807184 -0.08893812]\n"
     ]
    },
    {
     "name": "stderr",
     "output_type": "stream",
     "text": [
      "2023-05-01 15:49:25,644\tINFO worker.py:1553 -- Started a local Ray instance.\n"
     ]
    },
    {
     "name": "stdout",
     "output_type": "stream",
     "text": [
      "solved inner\n",
      "solved exterior\n",
      "[ 0.06317512 -0.106724    0.01280646 -0.02777356]\n"
     ]
    },
    {
     "name": "stderr",
     "output_type": "stream",
     "text": [
      "2023-05-01 15:49:51,723\tINFO worker.py:1553 -- Started a local Ray instance.\n"
     ]
    },
    {
     "name": "stdout",
     "output_type": "stream",
     "text": [
      "solved inner\n",
      "solved exterior\n",
      "[ 0.06317511 -0.106724    0.01280647 -0.02777356]\n"
     ]
    },
    {
     "name": "stderr",
     "output_type": "stream",
     "text": [
      "2023-05-01 15:50:19,171\tINFO worker.py:1553 -- Started a local Ray instance.\n"
     ]
    },
    {
     "name": "stdout",
     "output_type": "stream",
     "text": [
      "solved inner\n",
      "solved exterior\n",
      "[ 0.06317511 -0.106724    0.01280646 -0.02777358]\n"
     ]
    },
    {
     "name": "stderr",
     "output_type": "stream",
     "text": [
      "2023-05-01 15:50:45,269\tINFO worker.py:1553 -- Started a local Ray instance.\n"
     ]
    },
    {
     "name": "stdout",
     "output_type": "stream",
     "text": [
      "solved inner\n",
      "solved exterior\n",
      "[ 0.06317512 -0.10672398  0.01280646 -0.02777356]\n"
     ]
    },
    {
     "name": "stderr",
     "output_type": "stream",
     "text": [
      "2023-05-01 15:51:11,490\tINFO worker.py:1553 -- Started a local Ray instance.\n"
     ]
    },
    {
     "name": "stdout",
     "output_type": "stream",
     "text": [
      "solved inner\n",
      "solved exterior\n",
      "[ 0.06317521 -0.10672399  0.01280647 -0.02777353]\n"
     ]
    },
    {
     "name": "stderr",
     "output_type": "stream",
     "text": [
      "2023-05-01 15:51:38,059\tINFO worker.py:1553 -- Started a local Ray instance.\n"
     ]
    },
    {
     "name": "stdout",
     "output_type": "stream",
     "text": [
      "solved inner\n",
      "solved exterior\n",
      "[ 0.00631202 -0.02589523  0.00501425  0.02389212]\n"
     ]
    },
    {
     "name": "stderr",
     "output_type": "stream",
     "text": [
      "2023-05-01 15:52:05,280\tINFO worker.py:1553 -- Started a local Ray instance.\n"
     ]
    },
    {
     "name": "stdout",
     "output_type": "stream",
     "text": [
      "solved inner\n",
      "solved exterior\n",
      "[ 0.00631201 -0.02589523  0.00501426  0.02389212]\n"
     ]
    },
    {
     "name": "stderr",
     "output_type": "stream",
     "text": [
      "2023-05-01 15:52:32,421\tINFO worker.py:1553 -- Started a local Ray instance.\n"
     ]
    },
    {
     "name": "stdout",
     "output_type": "stream",
     "text": [
      "solved inner\n",
      "solved exterior\n",
      "[ 0.00631201 -0.02589523  0.00501425  0.0238921 ]\n"
     ]
    },
    {
     "name": "stderr",
     "output_type": "stream",
     "text": [
      "2023-05-01 15:52:59,050\tINFO worker.py:1553 -- Started a local Ray instance.\n"
     ]
    },
    {
     "name": "stdout",
     "output_type": "stream",
     "text": [
      "solved inner\n",
      "solved exterior\n",
      "[ 0.00631202 -0.02589522  0.00501425  0.02389213]\n"
     ]
    },
    {
     "name": "stderr",
     "output_type": "stream",
     "text": [
      "2023-05-01 15:53:25,994\tINFO worker.py:1553 -- Started a local Ray instance.\n"
     ]
    },
    {
     "name": "stdout",
     "output_type": "stream",
     "text": [
      "solved inner\n",
      "solved exterior\n",
      "[ 0.00631211 -0.02589522  0.00501426  0.02389215]\n"
     ]
    },
    {
     "name": "stderr",
     "output_type": "stream",
     "text": [
      "2023-05-01 15:53:52,188\tINFO worker.py:1553 -- Started a local Ray instance.\n"
     ]
    },
    {
     "name": "stdout",
     "output_type": "stream",
     "text": [
      "solved inner\n",
      "solved exterior\n",
      "[ 0.00470879 -0.00155209  0.00023125 -0.00376   ]\n"
     ]
    },
    {
     "name": "stderr",
     "output_type": "stream",
     "text": [
      "2023-05-01 15:54:18,545\tINFO worker.py:1553 -- Started a local Ray instance.\n"
     ]
    },
    {
     "name": "stdout",
     "output_type": "stream",
     "text": [
      "solved inner\n",
      "solved exterior\n",
      "[ 0.00470878 -0.0015521   0.00023125 -0.00376   ]\n"
     ]
    },
    {
     "name": "stderr",
     "output_type": "stream",
     "text": [
      "2023-05-01 15:54:43,994\tINFO worker.py:1553 -- Started a local Ray instance.\n"
     ]
    },
    {
     "name": "stdout",
     "output_type": "stream",
     "text": [
      "solved inner\n",
      "solved exterior\n",
      "[ 0.00470878 -0.0015521   0.00023124 -0.00376003]\n"
     ]
    },
    {
     "name": "stderr",
     "output_type": "stream",
     "text": [
      "2023-05-01 15:55:10,354\tINFO worker.py:1553 -- Started a local Ray instance.\n"
     ]
    },
    {
     "name": "stdout",
     "output_type": "stream",
     "text": [
      "solved inner\n",
      "solved exterior\n",
      "[ 0.00470879 -0.00155209  0.00023125 -0.00375999]\n"
     ]
    },
    {
     "name": "stderr",
     "output_type": "stream",
     "text": [
      "2023-05-01 15:55:35,820\tINFO worker.py:1553 -- Started a local Ray instance.\n"
     ]
    },
    {
     "name": "stdout",
     "output_type": "stream",
     "text": [
      "solved inner\n",
      "solved exterior\n",
      "[ 0.00470888 -0.00155208  0.00023125 -0.00375997]\n"
     ]
    },
    {
     "name": "stderr",
     "output_type": "stream",
     "text": [
      "2023-05-01 15:56:01,575\tINFO worker.py:1553 -- Started a local Ray instance.\n"
     ]
    },
    {
     "name": "stdout",
     "output_type": "stream",
     "text": [
      "solved inner\n",
      "solved exterior\n",
      "[-0.00021054  0.00019643  0.00014011  0.00011274]\n"
     ]
    },
    {
     "name": "stderr",
     "output_type": "stream",
     "text": [
      "2023-05-01 15:56:27,027\tINFO worker.py:1553 -- Started a local Ray instance.\n"
     ]
    },
    {
     "name": "stdout",
     "output_type": "stream",
     "text": [
      "solved inner\n",
      "solved exterior\n",
      "[-0.00021055  0.00019643  0.00014011  0.00011274]\n"
     ]
    },
    {
     "name": "stderr",
     "output_type": "stream",
     "text": [
      "2023-05-01 15:56:53,555\tINFO worker.py:1553 -- Started a local Ray instance.\n"
     ]
    },
    {
     "name": "stdout",
     "output_type": "stream",
     "text": [
      "solved inner\n",
      "solved exterior\n",
      "[-0.00021055  0.00019643  0.00014011  0.00011271]\n"
     ]
    },
    {
     "name": "stderr",
     "output_type": "stream",
     "text": [
      "2023-05-01 15:57:19,680\tINFO worker.py:1553 -- Started a local Ray instance.\n"
     ]
    },
    {
     "name": "stdout",
     "output_type": "stream",
     "text": [
      "solved inner\n",
      "solved exterior\n",
      "[-0.00021055  0.00019644  0.00014011  0.00011275]\n"
     ]
    },
    {
     "name": "stderr",
     "output_type": "stream",
     "text": [
      "2023-05-01 15:57:45,860\tINFO worker.py:1553 -- Started a local Ray instance.\n"
     ]
    },
    {
     "name": "stdout",
     "output_type": "stream",
     "text": [
      "solved inner\n",
      "solved exterior\n",
      "[-0.00021045  0.00019644  0.00014011  0.00011277]\n"
     ]
    },
    {
     "name": "stderr",
     "output_type": "stream",
     "text": [
      "2023-05-01 15:58:12,723\tINFO worker.py:1553 -- Started a local Ray instance.\n"
     ]
    },
    {
     "name": "stdout",
     "output_type": "stream",
     "text": [
      "solved inner\n",
      "solved exterior\n",
      "[-5.42061620e-05  5.74061815e-05  1.60834506e-04  4.72628961e-05]\n"
     ]
    },
    {
     "name": "stderr",
     "output_type": "stream",
     "text": [
      "2023-05-01 15:58:42,509\tINFO worker.py:1553 -- Started a local Ray instance.\n"
     ]
    },
    {
     "name": "stdout",
     "output_type": "stream",
     "text": [
      "solved inner\n",
      "solved exterior\n",
      "[-5.42187249e-05  5.74017256e-05  1.60835288e-04  4.72593712e-05]\n"
     ]
    },
    {
     "name": "stderr",
     "output_type": "stream",
     "text": [
      "2023-05-01 15:59:14,857\tINFO worker.py:1553 -- Started a local Ray instance.\n"
     ]
    },
    {
     "name": "stdout",
     "output_type": "stream",
     "text": [
      "solved inner\n",
      "solved exterior\n",
      "[-5.42165229e-05  5.74050073e-05  1.60833199e-04  4.72342975e-05]\n"
     ]
    },
    {
     "name": "stderr",
     "output_type": "stream",
     "text": [
      "2023-05-01 15:59:41,740\tINFO worker.py:1553 -- Started a local Ray instance.\n"
     ]
    },
    {
     "name": "stdout",
     "output_type": "stream",
     "text": [
      "solved inner\n",
      "solved exterior\n",
      "[-5.42134022e-05  5.74143016e-05  1.60833145e-04  4.72698969e-05]\n"
     ]
    },
    {
     "name": "stderr",
     "output_type": "stream",
     "text": [
      "2023-05-01 16:00:13,589\tINFO worker.py:1553 -- Started a local Ray instance.\n"
     ]
    },
    {
     "name": "stdout",
     "output_type": "stream",
     "text": [
      "solved inner\n",
      "solved exterior\n",
      "[-5.41169371e-05  5.74173904e-05  1.60834915e-04  4.72932409e-05]\n"
     ]
    },
    {
     "name": "stderr",
     "output_type": "stream",
     "text": [
      "2023-05-01 16:00:42,868\tINFO worker.py:1553 -- Started a local Ray instance.\n"
     ]
    },
    {
     "name": "stdout",
     "output_type": "stream",
     "text": [
      "solved inner\n",
      "solved exterior\n",
      "[ 1.02984214e-06  1.59491265e-05  1.65075729e-04 -1.08269947e-05]\n"
     ]
    },
    {
     "name": "stderr",
     "output_type": "stream",
     "text": [
      "2023-05-01 16:01:15,523\tINFO worker.py:1553 -- Started a local Ray instance.\n"
     ]
    },
    {
     "name": "stdout",
     "output_type": "stream",
     "text": [
      "solved inner\n",
      "solved exterior\n",
      "[ 1.01749116e-06  1.59448375e-05  1.65076525e-04 -1.08307245e-05]\n"
     ]
    },
    {
     "name": "stderr",
     "output_type": "stream",
     "text": [
      "2023-05-01 16:01:44,979\tINFO worker.py:1553 -- Started a local Ray instance.\n"
     ]
    },
    {
     "name": "stdout",
     "output_type": "stream",
     "text": [
      "solved inner\n",
      "solved exterior\n",
      "[ 1.01947808e-06  1.59479525e-05  1.65074422e-04 -1.08556032e-05]\n"
     ]
    },
    {
     "name": "stderr",
     "output_type": "stream",
     "text": [
      "2023-05-01 16:02:14,266\tINFO worker.py:1553 -- Started a local Ray instance.\n"
     ]
    },
    {
     "name": "stdout",
     "output_type": "stream",
     "text": [
      "solved inner\n",
      "solved exterior\n",
      "[ 1.02455554e-06  1.59591542e-05  1.65074490e-04 -1.08219478e-05]\n"
     ]
    },
    {
     "name": "stderr",
     "output_type": "stream",
     "text": [
      "2023-05-01 16:02:44,037\tINFO worker.py:1553 -- Started a local Ray instance.\n"
     ]
    },
    {
     "name": "stdout",
     "output_type": "stream",
     "text": [
      "solved inner\n",
      "solved exterior\n",
      "[ 1.11907146e-06  1.59603356e-05  1.65076139e-04 -1.07966452e-05]\n"
     ]
    },
    {
     "name": "stderr",
     "output_type": "stream",
     "text": [
      "2023-05-01 16:03:13,554\tINFO worker.py:1553 -- Started a local Ray instance.\n"
     ]
    },
    {
     "name": "stdout",
     "output_type": "stream",
     "text": [
      "solved inner\n",
      "solved exterior\n",
      "[-1.75013100e-06  2.30398978e-05  1.64015592e-04 -7.38427566e-06]\n"
     ]
    },
    {
     "name": "stderr",
     "output_type": "stream",
     "text": [
      "2023-05-01 16:03:46,833\tINFO worker.py:1553 -- Started a local Ray instance.\n"
     ]
    },
    {
     "name": "stdout",
     "output_type": "stream",
     "text": [
      "solved inner\n",
      "solved exterior\n",
      "[-1.76248439e-06  2.30356026e-05  1.64016389e-04 -7.38800433e-06]\n"
     ]
    },
    {
     "name": "stderr",
     "output_type": "stream",
     "text": [
      "2023-05-01 16:04:13,034\tINFO worker.py:1553 -- Started a local Ray instance.\n"
     ]
    },
    {
     "name": "stdout",
     "output_type": "stream",
     "text": [
      "solved inner\n",
      "solved exterior\n",
      "[-1.76049524e-06  2.30387235e-05  1.64014285e-04 -7.41288459e-06]\n"
     ]
    },
    {
     "name": "stderr",
     "output_type": "stream",
     "text": [
      "2023-05-01 16:04:39,982\tINFO worker.py:1553 -- Started a local Ray instance.\n"
     ]
    },
    {
     "name": "stdout",
     "output_type": "stream",
     "text": [
      "solved inner\n",
      "solved exterior\n",
      "[-1.75517717e-06  2.30501277e-05  1.64014367e-04 -7.37945694e-06]\n"
     ]
    },
    {
     "name": "stderr",
     "output_type": "stream",
     "text": [
      "2023-05-01 16:05:06,265\tINFO worker.py:1553 -- Started a local Ray instance.\n"
     ]
    },
    {
     "name": "stdout",
     "output_type": "stream",
     "text": [
      "solved inner\n",
      "solved exterior\n",
      "[-1.66090145e-06  2.30511068e-05  1.64016002e-04 -7.35392606e-06]\n"
     ]
    },
    {
     "name": "stderr",
     "output_type": "stream",
     "text": [
      "2023-05-01 16:05:33,657\tINFO worker.py:1553 -- Started a local Ray instance.\n"
     ]
    },
    {
     "name": "stdout",
     "output_type": "stream",
     "text": [
      "solved inner\n",
      "solved exterior\n",
      "[-8.69517907e-07  2.30433375e-05  1.63986494e-04 -8.13108258e-06]\n"
     ]
    },
    {
     "name": "stderr",
     "output_type": "stream",
     "text": [
      "2023-05-01 16:06:00,204\tINFO worker.py:1553 -- Started a local Ray instance.\n"
     ]
    },
    {
     "name": "stdout",
     "output_type": "stream",
     "text": [
      "solved inner\n",
      "solved exterior\n",
      "[-8.81870969e-07  2.30390429e-05  1.63987291e-04 -8.13481155e-06]\n"
     ]
    },
    {
     "name": "stderr",
     "output_type": "stream",
     "text": [
      "2023-05-01 16:06:27,273\tINFO worker.py:1553 -- Started a local Ray instance.\n"
     ]
    },
    {
     "name": "stdout",
     "output_type": "stream",
     "text": [
      "solved inner\n",
      "solved exterior\n",
      "[-8.79882168e-07  2.30421633e-05  1.63985187e-04 -8.15969171e-06]\n"
     ]
    },
    {
     "name": "stderr",
     "output_type": "stream",
     "text": [
      "2023-05-01 16:06:58,881\tINFO worker.py:1553 -- Started a local Ray instance.\n"
     ]
    },
    {
     "name": "stdout",
     "output_type": "stream",
     "text": [
      "solved inner\n",
      "solved exterior\n",
      "[-8.74827631e-07  2.30533560e-05  1.63985252e-04 -8.12601062e-06]\n"
     ]
    },
    {
     "name": "stderr",
     "output_type": "stream",
     "text": [
      "2023-05-01 16:07:30,749\tINFO worker.py:1553 -- Started a local Ray instance.\n"
     ]
    },
    {
     "name": "stdout",
     "output_type": "stream",
     "text": [
      "solved inner\n",
      "solved exterior\n",
      "[-7.80288184e-07  2.30545466e-05  1.63986904e-04 -8.10073287e-06]\n"
     ]
    },
    {
     "name": "stderr",
     "output_type": "stream",
     "text": [
      "2023-05-01 16:08:01,870\tINFO worker.py:1553 -- Started a local Ray instance.\n"
     ]
    },
    {
     "name": "stdout",
     "output_type": "stream",
     "text": [
      "solved inner\n",
      "solved exterior\n",
      "[-8.88388777e-07  2.30685883e-05  1.63981846e-04 -8.13007824e-06]\n"
     ]
    },
    {
     "name": "stderr",
     "output_type": "stream",
     "text": [
      "2023-05-01 16:08:29,331\tINFO worker.py:1553 -- Started a local Ray instance.\n"
     ]
    },
    {
     "name": "stdout",
     "output_type": "stream",
     "text": [
      "solved inner\n",
      "solved exterior\n",
      "[-9.00739818e-07  2.30642952e-05  1.63982642e-04 -8.13380917e-06]\n"
     ]
    },
    {
     "name": "stderr",
     "output_type": "stream",
     "text": [
      "2023-05-01 16:08:56,466\tINFO worker.py:1553 -- Started a local Ray instance.\n"
     ]
    },
    {
     "name": "stdout",
     "output_type": "stream",
     "text": [
      "solved inner\n",
      "solved exterior\n",
      "[-8.98753069e-07  2.30674140e-05  1.63980539e-04 -8.15868739e-06]\n"
     ]
    },
    {
     "name": "stderr",
     "output_type": "stream",
     "text": [
      "2023-05-01 16:09:22,224\tINFO worker.py:1553 -- Started a local Ray instance.\n"
     ]
    },
    {
     "name": "stdout",
     "output_type": "stream",
     "text": [
      "solved inner\n",
      "solved exterior\n",
      "[-8.93430350e-07  2.30788218e-05  1.63980621e-04 -8.12526395e-06]\n"
     ]
    },
    {
     "name": "stderr",
     "output_type": "stream",
     "text": [
      "2023-05-01 16:09:54,310\tINFO worker.py:1553 -- Started a local Ray instance.\n"
     ]
    },
    {
     "name": "stdout",
     "output_type": "stream",
     "text": [
      "solved inner\n",
      "solved exterior\n",
      "[-7.99159122e-07  2.30797973e-05  1.63982255e-04 -8.09972857e-06]\n"
     ]
    },
    {
     "name": "stderr",
     "output_type": "stream",
     "text": [
      "2023-05-01 16:10:29,204\tINFO worker.py:1553 -- Started a local Ray instance.\n"
     ]
    },
    {
     "name": "stdout",
     "output_type": "stream",
     "text": [
      "solved inner\n",
      "solved exterior\n",
      "[-8.76096490e-07  2.30207599e-05  1.63990607e-04 -8.12317609e-06]\n"
     ]
    },
    {
     "name": "stderr",
     "output_type": "stream",
     "text": [
      "2023-05-01 16:10:57,861\tINFO worker.py:1553 -- Started a local Ray instance.\n"
     ]
    },
    {
     "name": "stdout",
     "output_type": "stream",
     "text": [
      "solved inner\n",
      "solved exterior\n",
      "[-8.80892302e-07  2.30591599e-05  1.63984175e-04 -8.12997523e-06]\n"
     ]
    },
    {
     "name": "stderr",
     "output_type": "stream",
     "text": [
      "2023-05-01 16:11:28,082\tINFO worker.py:1553 -- Started a local Ray instance.\n"
     ]
    },
    {
     "name": "stdout",
     "output_type": "stream",
     "text": [
      "solved inner\n",
      "solved exterior\n",
      "[-8.85449405e-07  2.30655455e-05  1.63982388e-04 -8.12844697e-06]\n"
     ]
    },
    {
     "name": "stderr",
     "output_type": "stream",
     "text": [
      "2023-05-01 16:12:00,264\tINFO worker.py:1553 -- Started a local Ray instance.\n"
     ]
    },
    {
     "name": "stdout",
     "output_type": "stream",
     "text": [
      "solved inner\n",
      "solved exterior\n",
      "[-8.85633572e-07  2.30680812e-05  1.63981990e-04 -8.12898302e-06]\n"
     ]
    },
    {
     "name": "stderr",
     "output_type": "stream",
     "text": [
      "2023-05-01 16:12:28,215\tINFO worker.py:1553 -- Started a local Ray instance.\n"
     ]
    },
    {
     "name": "stdout",
     "output_type": "stream",
     "text": [
      "solved inner\n",
      "solved exterior\n",
      "[-8.85679484e-07  2.30687152e-05  1.63981891e-04 -8.12911718e-06]\n"
     ]
    },
    {
     "name": "stderr",
     "output_type": "stream",
     "text": [
      "2023-05-01 16:12:58,420\tINFO worker.py:1553 -- Started a local Ray instance.\n"
     ]
    },
    {
     "name": "stdout",
     "output_type": "stream",
     "text": [
      "solved inner\n",
      "solved exterior\n",
      "[-8.85690572e-07  2.30688741e-05  1.63981866e-04 -8.12915110e-06]\n"
     ]
    },
    {
     "name": "stderr",
     "output_type": "stream",
     "text": [
      "2023-05-01 16:13:26,189\tINFO worker.py:1553 -- Started a local Ray instance.\n"
     ]
    },
    {
     "name": "stdout",
     "output_type": "stream",
     "text": [
      "solved inner\n",
      "solved exterior\n",
      "[-8.87681137e-07  2.30686638e-05  1.63981851e-04 -8.12983508e-06]\n"
     ]
    },
    {
     "name": "stderr",
     "output_type": "stream",
     "text": [
      "2023-05-01 16:13:54,827\tINFO worker.py:1553 -- Started a local Ray instance.\n"
     ]
    },
    {
     "name": "stdout",
     "output_type": "stream",
     "text": [
      "solved inner\n",
      "solved exterior\n",
      "[-8.88211917e-07  2.30686071e-05  1.63981847e-04 -8.13001741e-06]\n"
     ]
    },
    {
     "name": "stderr",
     "output_type": "stream",
     "text": [
      "2023-05-01 16:14:20,541\tINFO worker.py:1553 -- Started a local Ray instance.\n"
     ]
    },
    {
     "name": "stdout",
     "output_type": "stream",
     "text": [
      "solved inner\n",
      "solved exterior\n",
      "[-9.00562784e-07  2.30643141e-05  1.63982644e-04 -8.13374850e-06]\n"
     ]
    },
    {
     "name": "stderr",
     "output_type": "stream",
     "text": [
      "2023-05-01 16:14:45,688\tINFO worker.py:1553 -- Started a local Ray instance.\n"
     ]
    },
    {
     "name": "stdout",
     "output_type": "stream",
     "text": [
      "solved inner\n",
      "solved exterior\n",
      "[-8.98576204e-07  2.30674328e-05  1.63980540e-04 -8.15862656e-06]\n"
     ]
    },
    {
     "name": "stderr",
     "output_type": "stream",
     "text": [
      "2023-05-01 16:15:11,951\tINFO worker.py:1553 -- Started a local Ray instance.\n"
     ]
    },
    {
     "name": "stdout",
     "output_type": "stream",
     "text": [
      "solved inner\n",
      "solved exterior\n",
      "[-8.93253518e-07  2.30788406e-05  1.63980622e-04 -8.12520310e-06]\n"
     ]
    },
    {
     "name": "stderr",
     "output_type": "stream",
     "text": [
      "2023-05-01 16:15:37,317\tINFO worker.py:1553 -- Started a local Ray instance.\n"
     ]
    },
    {
     "name": "stdout",
     "output_type": "stream",
     "text": [
      "solved inner\n",
      "solved exterior\n",
      "[-7.98982235e-07  2.30798161e-05  1.63982257e-04 -8.09966772e-06]\n"
     ]
    }
   ],
   "source": [
    "# todo, set x_scale for each variable to enable better tolerance estimate\n",
    "final = least_squares(shooter, vec, args=args, bounds=bounds, \n",
    "                      method='dogbox', loss='arctan', \n",
    "                      gtol=None, \n",
    "                      xtol=None, \n",
    "                      ftol=1e-6, \n",
    "                      x_scale='jac',\n",
    "                     )"
   ]
  },
  {
   "cell_type": "code",
   "execution_count": 5,
   "id": "467a241e",
   "metadata": {},
   "outputs": [
    {
     "data": {
      "text/plain": [
       "     message: `ftol` termination condition is satisfied.\n",
       "     success: True\n",
       "      status: 2\n",
       "         fun: [-8.882e-07  2.307e-05  1.640e-04 -8.130e-06]\n",
       "           x: [ 1.038e+34  1.965e+17  9.919e+10  1.694e+07]\n",
       "        cost: 1.3744546427324974e-08\n",
       "         jac: [[-7.985e-35 -3.539e-18 -3.411e-12  3.535e-07]\n",
       "               [-2.775e-35 -4.009e-19  6.923e-12  4.441e-08]\n",
       "               [ 5.150e-36 -4.463e-19 -8.288e-13  1.623e-09]\n",
       "               [-2.412e-35 -9.768e-18  3.257e-12  1.202e-07]]\n",
       "        grad: [ 4.714e-40  1.328e-25  3.592e-19 -1.005e-15]\n",
       "  optimality: 1.0052939878477195e-15\n",
       " active_mask: [0 0 0 0]\n",
       "        nfev: 28\n",
       "        njev: 19"
      ]
     },
     "execution_count": 5,
     "metadata": {},
     "output_type": "execute_result"
    }
   ],
   "source": [
    "final"
   ]
  },
  {
   "cell_type": "code",
   "execution_count": 6,
   "id": "3afc76ac",
   "metadata": {},
   "outputs": [],
   "source": [
    "if np.sum(final.active_mask**2) != 0:\n",
    "    print('something ran up against a bound')"
   ]
  },
  {
   "cell_type": "code",
   "execution_count": 90,
   "id": "1d798e77",
   "metadata": {},
   "outputs": [
    {
     "name": "stderr",
     "output_type": "stream",
     "text": [
      "2023-05-02 10:53:58,926\tINFO worker.py:1553 -- Started a local Ray instance.\n"
     ]
    }
   ],
   "source": [
    "solution = solver2(final.x, M_star=args[0], M_fit=args[1], n=1e5, in_factor=args[3], out_factor=args[4], multithread=args[5])"
   ]
  },
  {
   "cell_type": "code",
   "execution_count": 92,
   "id": "5d586b95",
   "metadata": {},
   "outputs": [
    {
     "name": "stdout",
     "output_type": "stream",
     "text": [
      "ratio between constant density Pc and converged solution 9.999999836265502\n"
     ]
    }
   ],
   "source": [
    "# what is an appropriate P_factor to speed up convergence?\n",
    "print('ratio between constant density Pc and converged solution',solution[2].max()/(Pc/P_factor))"
   ]
  },
  {
   "cell_type": "code",
   "execution_count": 93,
   "id": "812bad1a",
   "metadata": {},
   "outputs": [
    {
     "name": "stdout",
     "output_type": "stream",
     "text": [
      "ratio between constant density Tc and converged solution 0.999999993450617\n"
     ]
    }
   ],
   "source": [
    "print('ratio between constant density Tc and converged solution',solution[4].max()/Tc)"
   ]
  },
  {
   "cell_type": "code",
   "execution_count": null,
   "id": "100876c2",
   "metadata": {},
   "outputs": [],
   "source": [
    "L_star, Pc, R_star, Tc = final.x\n",
    "\n",
    "print('Radius is ',R_star/((M_star/c.Ms)**(0.75)*c.Rs), 'of homology guess')\n",
    "print('Luminosity is ',L_star/((M_star/c.Ms)**(3.5)*c.Ls), 'of homology guess')"
   ]
  },
  {
   "cell_type": "code",
   "execution_count": 10,
   "id": "ee5a0946",
   "metadata": {},
   "outputs": [],
   "source": [
    "with open('converged_interior_{}.npy'.format(M_star/c.Ms), 'wb') as f:\n",
    "    np.save(f, solution)"
   ]
  },
  {
   "cell_type": "code",
   "execution_count": 11,
   "id": "fc9a2599",
   "metadata": {},
   "outputs": [],
   "source": [
    "solution = np.load('converged_interior_{}.npy'.format(M_star/c.Ms))"
   ]
  },
  {
   "cell_type": "code",
   "execution_count": 94,
   "id": "332e2e04",
   "metadata": {
    "scrolled": false
   },
   "outputs": [
    {
     "data": {
      "image/png": "[encoded data removed]",
      "text/plain": [
       "<Figure size 900x600 with 1 Axes>"
      ]
     },
     "metadata": {},
     "output_type": "display_data"
    }
   ],
   "source": [
    "# a figure like 9.1 in HKT but in mass space, y-values near 1\n",
    "plt.figure(figsize=(9,6))\n",
    "\n",
    "plt.plot(solution[0]/M_star, solution[5]/solution[5].max(), color='cornflowerblue', label=r'$\\rho~[g/cm^3]$'.format())\n",
    "plt.plot(solution[0]/M_star, solution[2]/solution[2].max(), color='tomato', label=r'$P~[Ba]$')\n",
    "plt.plot(solution[0]/M_star, solution[4]/solution[4].max(), color='xkcd:forest green', label=r'$T~[K]$')\n",
    "plt.plot(solution[0]/M_star, solution[1]/solution[1].max(), color='xkcd:lavender', label=r'$L~[erg/s]$')\n",
    "\n",
    "plt.xlabel(r'M$_\\mathrm{r}$ [M$_\\star$]')\n",
    "plt.ylabel(r'Normalized Quantity')\n",
    "plt.legend(fontsize=13, bbox_to_anchor=(0.55,0.5))\n",
    "plt.xlim(-0.1,1.1)\n",
    "plt.minorticks_on()\n",
    "\n",
    "# plt.savefig('./figures/run_over_mass_alt_{}.png'.format(M_star/c.Ms), dpi=300, bbox_inches='tight', transparent=True)"
   ]
  },
  {
   "cell_type": "code",
   "execution_count": 95,
   "id": "d3118fd0",
   "metadata": {},
   "outputs": [
    {
     "data": {
      "text/plain": [
       "(0.0, 1.1)"
      ]
     },
     "execution_count": 95,
     "metadata": {},
     "output_type": "execute_result"
    },
    {
     "data": {
      "image/png": "[encoded data removed]",
      "text/plain": [
       "<Figure size 900x600 with 1 Axes>"
      ]
     },
     "metadata": {},
     "output_type": "display_data"
    }
   ],
   "source": [
    "# reproduce figure 9.1 in HKT but in mass space\n",
    "\n",
    "plt.figure(figsize=(9,6))\n",
    "\n",
    "plt.plot(solution[3]/R_star, solution[5]*1e5, color='cornflowerblue', label=r'$\\log(\\rho)\\times10^5$ $[g/cm^3]$')\n",
    "plt.plot(solution[3]/R_star, solution[2]*1e-8, color='tomato', label=r'$\\log(P)\\times10^{-8}$ $[Ba]$')\n",
    "plt.plot(solution[3]/R_star, solution[4], color='xkcd:forest green', label=r'$\\log(T)$ $[K]$')\n",
    "\n",
    "plt.yscale('log')\n",
    "plt.xlabel(r'R [R$_\\star$]')\n",
    "plt.ylabel(r'$\\log(quantity)\\times C$')\n",
    "plt.legend(fontsize=10)\n",
    "plt.ylim(1,1e10)\n",
    "plt.xlim(0,1.1)\n",
    "\n",
    "# plt.savefig('./figures/run_over_radius_HKT9-1_alt_{}.png'.format(M_star/c.Ms), dpi=300, bbox_inches='tight', transparent=True)"
   ]
  },
  {
   "cell_type": "code",
   "execution_count": 24,
   "id": "9082ddae",
   "metadata": {},
   "outputs": [
    {
     "data": {
      "image/png": "[encoded data removed]",
      "text/plain": [
       "<Figure size 900x600 with 1 Axes>"
      ]
     },
     "metadata": {},
     "output_type": "display_data"
    }
   ],
   "source": [
    "plt.figure(figsize=(9,6))\n",
    "\n",
    "plt.plot(solution[0]/M_star, solution[-1], color='cornflowerblue', label=r'$\\nabla_{rad}$')\n",
    "plt.plot(solution[0]/M_star, np.zeros_like(solution[0])+0.4, color='tomato', label=r'$\\nabla_{ad}$')\n",
    "\n",
    "# plt.yscale('log')\n",
    "plt.xlabel(r'M [M$_\\star$]')\n",
    "plt.ylabel(r'$\\nabla$ [K/cm]')\n",
    "plt.legend()\n",
    "# plt.ylim(1,1e10)\n",
    "plt.xlim(-0.1,1.1)\n",
    "plt.minorticks_on()\n",
    "plt.savefig('./figures/del_over_mass_alt_{}.png'.format(M_star/c.Ms), dpi=300, bbox_inches='tight', transparent=True)\n"
   ]
  },
  {
   "cell_type": "code",
   "execution_count": 15,
   "id": "408d8af2",
   "metadata": {},
   "outputs": [
    {
     "name": "stdout",
     "output_type": "stream",
     "text": [
      "rho_c/rho_avg is 4.96\n"
     ]
    }
   ],
   "source": [
    "# central density vs avg density\n",
    "converged_concentration = solution[5].max()/(4*np.pi*M_star/(3*R_star**3))\n",
    "\n",
    "print(\"rho_c/rho_avg is\", str(round(converged_concentration,2)))"
   ]
  },
  {
   "cell_type": "code",
   "execution_count": 16,
   "id": "c1f768e5",
   "metadata": {},
   "outputs": [
    {
     "name": "stderr",
     "output_type": "stream",
     "text": [
      "/var/folders/0q/4ls9h2fn4lv90qs43vdtzvkw0002tl/T/ipykernel_77867/3156873861.py:7: RuntimeWarning: invalid value encountered in power\n",
      "  return (psi, -np.power(theta, n) - 2 * psi / xi)\n"
     ]
    },
    {
     "data": {
      "image/png": "[encoded data removed]",
      "text/plain": [
       "<Figure size 900x500 with 1 Axes>"
      ]
     },
     "metadata": {},
     "output_type": "display_data"
    }
   ],
   "source": [
    "from scipy.integrate import solve_ivp\n",
    "\n",
    "# compare to polytrope\n",
    "\n",
    "def dtheta(xi, y, n):\n",
    "    theta, psi = y\n",
    "    return (psi, -np.power(theta, n) - 2 * psi / xi)\n",
    "\n",
    "ns = np.linspace(0, 3.5, num=51) # a reasonable number of n for plotting\n",
    "ts = np.logspace(np.log10(1e-15), np.log10(1000.), num=1000) # dense enough to look smooth\n",
    "\n",
    "concentrations = np.zeros(ns.shape[0])\n",
    "for i, n in enumerate(ns):\n",
    "    soln = solve_ivp(dtheta, [1e-16, 1001.], [1., 0.], args=[n], t_eval=ts)\n",
    "    # degree of central concentration\n",
    "    concentration = 1/3 * (soln.t[np.argmin(np.abs(soln.y[0]))]/(-1*soln.y[1][np.argmin(np.abs(soln.y[0]))]))\n",
    "#     print(\"for n={}, rho_c/rho_avg is\".format(n), str(round(concentration,2)))\n",
    "    concentrations[i] += concentration\n",
    "\n",
    "x = ns\n",
    "y = concentrations\n",
    "    \n",
    "points = np.array([x, y]).T.reshape(-1, 1, 2)\n",
    "segments = np.concatenate([points[:-1], points[1:]], axis=1)\n",
    "\n",
    "fig, axs = plt.subplots(1, 1, figsize=(9,5))\n",
    "\n",
    "# Create a continuous norm to map from data points to colors\n",
    "norm = plt.Normalize(x.min(), x.max())\n",
    "from matplotlib.collections import LineCollection\n",
    "lc = LineCollection(segments, cmap='magma', norm=norm)\n",
    "# Set the values used for colormapping\n",
    "lc.set_array(x)\n",
    "lc.set_linewidth(2)\n",
    "line = axs.add_collection(lc)\n",
    "# cb = fig.colorbar(line, ax=axs)\n",
    "# cb.ax.set_title('n')\n",
    "plt.hlines(converged_concentration, 0, 3.5, ls='--', color='k')\n",
    "plt.annotate('Model degree of \\n central concentration', (2.3,6.5), fontsize=10)\n",
    "\n",
    "plt.minorticks_on()\n",
    "plt.ylim(1, 1e2)\n",
    "plt.yscale('log')\n",
    "\n",
    "plt.xlabel('Polytropic Index n')\n",
    "plt.ylabel(r'$\\rho_c~/~\\left|\\rho\\right|}$')\n",
    "\n",
    "plt.savefig('./figures/central_concentration_polytropes_{}.png'.format(M_star/c.Ms), dpi=300, bbox_inches='tight', transparent=True)"
   ]
  },
  {
   "cell_type": "code",
   "execution_count": null,
   "id": "424a8c98",
   "metadata": {},
   "outputs": [],
   "source": []
  },
  {
   "cell_type": "code",
   "execution_count": null,
   "id": "fc7b2a62",
   "metadata": {},
   "outputs": [],
   "source": []
  },
  {
   "cell_type": "code",
   "execution_count": null,
   "id": "42d00a5c",
   "metadata": {},
   "outputs": [],
   "source": []
  },
  {
   "cell_type": "code",
   "execution_count": null,
   "id": "3328ef0a",
   "metadata": {},
   "outputs": [],
   "source": []
  }
 ],
 "metadata": {
  "kernelspec": {
   "display_name": "Python 3 (ipykernel)",
   "language": "python",
   "name": "python3"
  },
  "language_info": {
   "codemirror_mode": {
    "name": "ipython",
    "version": 3
   },
   "file_extension": ".py",
   "mimetype": "text/x-python",
   "name": "python",
   "nbconvert_exporter": "python",
   "pygments_lexer": "ipython3",
   "version": "3.9.16"
  }
 },
 "nbformat": 4,
 "nbformat_minor": 5
}
