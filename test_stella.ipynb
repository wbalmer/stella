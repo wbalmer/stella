{
 "cells": [
  {
   "cell_type": "markdown",
   "id": "8b944978",
   "metadata": {},
   "source": [
    "# test notebook for stella ZAMS calc code"
   ]
  },
  {
   "cell_type": "code",
   "execution_count": 1,
   "id": "de0b2bca",
   "metadata": {},
   "outputs": [],
   "source": [
    "# imports\n",
    "import numpy as np\n",
    "from scipy.optimize import least_squares\n",
    "\n",
    "# constants\n",
    "import constants as c\n",
    "from scipy.constants import N_A\n",
    "\n",
    "# plotting\n",
    "import matplotlib.pyplot as plt\n",
    "import seaborn as sb\n",
    "plt.style.use('default')\n",
    "sb.set_context(\"talk\")\n",
    "plt.rcParams['font.family'] = 'monospace'   # Fonts\n",
    "plt.rcParams['font.monospace'] = 'DejaVu Sans Mono'"
   ]
  },
  {
   "cell_type": "code",
   "execution_count": 2,
   "id": "86ae9f06",
   "metadata": {},
   "outputs": [],
   "source": [
    "import interpolate\n",
    "import energy\n",
    "import density\n",
    "from guesses import *\n",
    "from ode import ode\n",
    "from shootf import shooter, solver"
   ]
  },
  {
   "cell_type": "code",
   "execution_count": 3,
   "id": "72923fe6",
   "metadata": {},
   "outputs": [],
   "source": [
    "# surface\n",
    "M_star = 1.67*c.Ms\n",
    "L_star = (M_star/c.Ms)**(3.5)*c.Ls # eq. 1.88 HKT\n",
    "R_star = (M_star/c.Ms)**(0.75)*c.Rs # eq. 1.87 HKT\n",
    "# core\n",
    "Pc = (3/(8*np.pi))*(c.G*(M_star)**2)/(R_star)**4 # constant density sphere, lower limit!\n",
    "Tc = (1/2)*((4/(3+5*0.7))/(N_A*c.k))*(c.G*M_star)/(R_star) # constant density sphere\n",
    "# guess to inflate constant density sphere pressure\n",
    "P_factor = 1e1\n",
    "Pc *= P_factor\n",
    "# initial guess vector\n",
    "vec = np.array([L_star, Pc, R_star, Tc])\n",
    "# shootf args\n",
    "args = (M_star, 0.33, int(1e5), 1e-12, 0.9999, True)\n",
    "# set limits for the minimizer\n",
    "bounds = ([L_star*1e-1,Pc,R_star*1e-1,Tc], [L_star*1e1, Pc/P_factor*1e4, R_star*1e1, Tc*1e3])"
   ]
  },
  {
   "cell_type": "code",
   "execution_count": null,
   "id": "c8592da1",
   "metadata": {
    "scrolled": true
   },
   "outputs": [
    {
     "name": "stderr",
     "output_type": "stream",
     "text": [
      "2023-04-28 13:26:40,152\tINFO worker.py:1553 -- Started a local Ray instance.\n"
     ]
    },
    {
     "name": "stdout",
     "output_type": "stream",
     "text": [
      "solved inner\n",
      "solved exterior\n",
      "[-0.94474434 -5.95467623  0.22709195 -0.45595282]\n"
     ]
    },
    {
     "name": "stderr",
     "output_type": "stream",
     "text": [
      "2023-04-28 13:27:10,096\tINFO worker.py:1553 -- Started a local Ray instance.\n"
     ]
    },
    {
     "name": "stdout",
     "output_type": "stream",
     "text": [
      "solved inner\n",
      "solved exterior\n",
      "[-0.94474434 -5.95467632  0.22709195 -0.45595283]\n"
     ]
    },
    {
     "name": "stderr",
     "output_type": "stream",
     "text": [
      "2023-04-28 13:27:37,198\tINFO worker.py:1553 -- Started a local Ray instance.\n"
     ]
    },
    {
     "name": "stdout",
     "output_type": "stream",
     "text": [
      "solved inner\n",
      "solved exterior\n",
      "[-0.94474434 -5.95467614  0.22709195 -0.45595282]\n"
     ]
    },
    {
     "name": "stderr",
     "output_type": "stream",
     "text": [
      "2023-04-28 13:28:06,560\tINFO worker.py:1553 -- Started a local Ray instance.\n"
     ]
    },
    {
     "name": "stdout",
     "output_type": "stream",
     "text": [
      "solved inner\n",
      "solved exterior\n",
      "[-0.94474435 -5.95467599  0.22709195 -0.45595281]\n"
     ]
    },
    {
     "name": "stderr",
     "output_type": "stream",
     "text": [
      "2023-04-28 13:28:35,862\tINFO worker.py:1553 -- Started a local Ray instance.\n"
     ]
    },
    {
     "name": "stdout",
     "output_type": "stream",
     "text": [
      "solved inner\n",
      "solved exterior\n",
      "[-0.94474434 -5.95467622  0.22709195 -0.4559528 ]\n"
     ]
    },
    {
     "name": "stderr",
     "output_type": "stream",
     "text": [
      "2023-04-28 13:29:04,596\tINFO worker.py:1553 -- Started a local Ray instance.\n"
     ]
    },
    {
     "name": "stdout",
     "output_type": "stream",
     "text": [
      "solved inner\n",
      "solved exterior\n",
      "[-0.97334784 -3.12101751  0.16758445 -0.03144261]\n"
     ]
    },
    {
     "name": "stderr",
     "output_type": "stream",
     "text": [
      "2023-04-28 13:29:39,475\tINFO worker.py:1553 -- Started a local Ray instance.\n"
     ]
    },
    {
     "name": "stdout",
     "output_type": "stream",
     "text": [
      "solved inner\n",
      "solved exterior\n",
      "[-0.97334784 -3.12101757  0.16758445 -0.03144261]\n"
     ]
    },
    {
     "name": "stderr",
     "output_type": "stream",
     "text": [
      "2023-04-28 13:30:07,924\tINFO worker.py:1553 -- Started a local Ray instance.\n"
     ]
    },
    {
     "name": "stdout",
     "output_type": "stream",
     "text": [
      "solved inner\n",
      "solved exterior\n",
      "[-0.97334784 -3.12101746  0.16758445 -0.03144261]\n"
     ]
    },
    {
     "name": "stderr",
     "output_type": "stream",
     "text": [
      "2023-04-28 13:30:37,495\tINFO worker.py:1553 -- Started a local Ray instance.\n"
     ]
    },
    {
     "name": "stdout",
     "output_type": "stream",
     "text": [
      "solved inner\n",
      "solved exterior\n",
      "[-0.97334784 -3.12101737  0.16758445 -0.0314426 ]\n"
     ]
    },
    {
     "name": "stderr",
     "output_type": "stream",
     "text": [
      "2023-04-28 13:31:08,316\tINFO worker.py:1553 -- Started a local Ray instance.\n"
     ]
    },
    {
     "name": "stdout",
     "output_type": "stream",
     "text": [
      "solved inner\n",
      "solved exterior\n",
      "[-0.97334784 -3.1210175   0.16758445 -0.03144259]\n"
     ]
    },
    {
     "name": "stderr",
     "output_type": "stream",
     "text": [
      "2023-04-28 13:31:43,775\tINFO worker.py:1553 -- Started a local Ray instance.\n"
     ]
    },
    {
     "name": "stdout",
     "output_type": "stream",
     "text": [
      "solved inner\n",
      "solved exterior\n",
      "[-0.99372172 -1.12481338  0.09358137 -0.08953406]\n"
     ]
    },
    {
     "name": "stderr",
     "output_type": "stream",
     "text": [
      "2023-04-28 13:32:11,196\tINFO worker.py:1553 -- Started a local Ray instance.\n"
     ]
    },
    {
     "name": "stdout",
     "output_type": "stream",
     "text": [
      "solved inner\n",
      "solved exterior\n",
      "[-0.99372172 -1.12481356  0.09358137 -0.08953409]\n"
     ]
    },
    {
     "name": "stderr",
     "output_type": "stream",
     "text": [
      "2023-04-28 13:32:37,603\tINFO worker.py:1553 -- Started a local Ray instance.\n"
     ]
    },
    {
     "name": "stdout",
     "output_type": "stream",
     "text": [
      "solved inner\n",
      "solved exterior\n",
      "[-0.99372172 -1.12481336  0.09358137 -0.08953406]\n"
     ]
    },
    {
     "name": "stderr",
     "output_type": "stream",
     "text": [
      "2023-04-28 13:33:10,526\tINFO worker.py:1553 -- Started a local Ray instance.\n"
     ]
    },
    {
     "name": "stdout",
     "output_type": "stream",
     "text": [
      "solved inner\n",
      "solved exterior\n",
      "[-0.99372172 -1.12481302  0.09358136 -0.089534  ]\n"
     ]
    },
    {
     "name": "stderr",
     "output_type": "stream",
     "text": [
      "2023-04-28 13:33:39,900\tINFO worker.py:1553 -- Started a local Ray instance.\n"
     ]
    },
    {
     "name": "stdout",
     "output_type": "stream",
     "text": [
      "solved inner\n",
      "solved exterior\n",
      "[-0.99372172 -1.12481338  0.09358137 -0.08953404]\n"
     ]
    },
    {
     "name": "stderr",
     "output_type": "stream",
     "text": [
      "2023-04-28 13:34:06,073\tINFO worker.py:1553 -- Started a local Ray instance.\n"
     ]
    },
    {
     "name": "stdout",
     "output_type": "stream",
     "text": [
      "solved inner\n",
      "solved exterior\n",
      "[-0.99475269 -0.87829101  0.08214288 -0.05159733]\n"
     ]
    },
    {
     "name": "stderr",
     "output_type": "stream",
     "text": [
      "2023-04-28 13:34:37,759\tINFO worker.py:1553 -- Started a local Ray instance.\n"
     ]
    },
    {
     "name": "stdout",
     "output_type": "stream",
     "text": [
      "solved inner\n",
      "solved exterior\n",
      "[-0.99475269 -0.87829111  0.08214288 -0.05159735]\n"
     ]
    },
    {
     "name": "stderr",
     "output_type": "stream",
     "text": [
      "2023-04-28 13:35:06,896\tINFO worker.py:1553 -- Started a local Ray instance.\n"
     ]
    },
    {
     "name": "stdout",
     "output_type": "stream",
     "text": [
      "solved inner\n",
      "solved exterior\n",
      "[-0.99475269 -0.87829099  0.08214287 -0.05159733]\n"
     ]
    },
    {
     "name": "stderr",
     "output_type": "stream",
     "text": [
      "2023-04-28 13:35:37,305\tINFO worker.py:1553 -- Started a local Ray instance.\n"
     ]
    },
    {
     "name": "stdout",
     "output_type": "stream",
     "text": [
      "solved inner\n",
      "solved exterior\n",
      "[-0.99475269 -0.8782909   0.08214287 -0.05159731]\n"
     ]
    },
    {
     "name": "stderr",
     "output_type": "stream",
     "text": [
      "2023-04-28 13:36:10,965\tINFO worker.py:1553 -- Started a local Ray instance.\n"
     ]
    }
   ],
   "source": [
    "# todo, set x_scale for each variable to enable better tolerance estimate\n",
    "final = least_squares(shooter, vec, args=args, bounds=bounds, \n",
    "                      method='dogbox', loss='arctan', \n",
    "                      gtol=1e-14, \n",
    "                      xtol=None, \n",
    "                      ftol=None, \n",
    "                      x_scale='jac',\n",
    "                     )"
   ]
  },
  {
   "cell_type": "code",
   "execution_count": null,
   "id": "467a241e",
   "metadata": {},
   "outputs": [],
   "source": [
    "final"
   ]
  },
  {
   "cell_type": "code",
   "execution_count": null,
   "id": "3afc76ac",
   "metadata": {},
   "outputs": [],
   "source": [
    "if np.sum(final.active_mask**2) != 0:\n",
    "    print('something ran up against a bound')"
   ]
  },
  {
   "cell_type": "code",
   "execution_count": null,
   "id": "1d798e77",
   "metadata": {},
   "outputs": [],
   "source": [
    "solution = solver(final.x, M_star=args[0], M_fit=args[1], n=1e6, in_factor=args[3], out_factor=args[4], multithread=args[5])"
   ]
  },
  {
   "cell_type": "code",
   "execution_count": null,
   "id": "5d586b95",
   "metadata": {},
   "outputs": [],
   "source": [
    "# what is an appropriate P_factor to speed up convergence?\n",
    "print('ratio between constant density Pc and converged solution',solution[2].max()/(Pc/P_factor))"
   ]
  },
  {
   "cell_type": "code",
   "execution_count": null,
   "id": "812bad1a",
   "metadata": {},
   "outputs": [],
   "source": [
    "print('ratio between constant density Tc and converged solution',solution[4].max()/Tc)"
   ]
  },
  {
   "cell_type": "code",
   "execution_count": null,
   "id": "ee5a0946",
   "metadata": {},
   "outputs": [],
   "source": [
    "with open('converged_interior_{}.npy'.format(M_star/c.Ms), 'wb') as f:\n",
    "    np.save(f, solution)"
   ]
  },
  {
   "cell_type": "code",
   "execution_count": null,
   "id": "fc9a2599",
   "metadata": {},
   "outputs": [],
   "source": [
    "solution = np.load('converged_interior_{}.npy'.format(M_star/c.Ms))"
   ]
  },
  {
   "cell_type": "code",
   "execution_count": null,
   "id": "332e2e04",
   "metadata": {
    "scrolled": false
   },
   "outputs": [],
   "source": [
    "# a figure like 9.1 in HKT but in mass space, y-values near 1\n",
    "plt.figure(figsize=(9,6))\n",
    "\n",
    "plt.plot(solution[0]/M_star, solution[5]/solution[5].max(), color='cornflowerblue', label=r'$\\rho~[g/cm^3]$'.format())\n",
    "plt.plot(solution[0]/M_star, solution[2]/solution[2].max(), color='tomato', label=r'$P~[Ba]$')\n",
    "plt.plot(solution[0]/M_star, solution[4]/solution[4].max(), color='xkcd:forest green', label=r'$T~[K]$')\n",
    "plt.plot(solution[0]/M_star, solution[1]/solution[1].max(), color='xkcd:lavender', label=r'$L~[erg/s]$')\n",
    "\n",
    "plt.xlabel(r'M$_\\mathrm{r}$ [M$_\\star$]')\n",
    "plt.ylabel(r'Normalized Quantity')\n",
    "plt.legend(fontsize=13, bbox_to_anchor=(0.55,0.5))\n",
    "plt.xlim(-0.1,1.1)\n",
    "plt.minorticks_on()\n",
    "\n",
    "plt.savefig('./figures/run_over_mass_{}.png'.format(M_star/c.Ms), dpi=300, bbox_inches='tight')"
   ]
  },
  {
   "cell_type": "code",
   "execution_count": null,
   "id": "d3118fd0",
   "metadata": {},
   "outputs": [],
   "source": [
    "# reproduce figure 9.1 in HKT but in mass space\n",
    "\n",
    "plt.figure(figsize=(9,6))\n",
    "\n",
    "plt.plot(solution[3]/R_star, solution[5]*1e5, color='cornflowerblue', label=r'$\\log(\\rho)\\times10^5$ $[g/cm^3]$')\n",
    "plt.plot(solution[3]/R_star, solution[2]*1e-8, color='tomato', label=r'$\\log(P)\\times10^{-8}$ $[Ba]$')\n",
    "plt.plot(solution[3]/R_star, solution[4], color='xkcd:forest green', label=r'$\\log(T)$ $[K]$')\n",
    "\n",
    "plt.yscale('log')\n",
    "plt.xlabel(r'R [R$_\\star$]')\n",
    "plt.ylabel(r'$\\log(quantity)\\times C$')\n",
    "plt.legend(fontsize=10)\n",
    "plt.ylim(1,1e10)\n",
    "plt.xlim(0,1.1)\n",
    "\n",
    "plt.savefig('./figures/run_over_radius_HKT9-1_{}.png'.format(M_star/c.Ms), dpi=300, bbox_inches='tight')"
   ]
  },
  {
   "cell_type": "code",
   "execution_count": null,
   "id": "9082ddae",
   "metadata": {},
   "outputs": [],
   "source": [
    "plt.figure(figsize=(9,6))\n",
    "\n",
    "plt.plot(solution[0]/M_star, solution[-1], color='cornflowerblue', label=r'$\\nabla_{rad}$')\n",
    "plt.plot(solution[0]/M_star, np.zeros_like(solution[0])+0.4, color='tomato', label=r'$\\nabla_{ad}$')\n",
    "\n",
    "# plt.yscale('log')\n",
    "plt.xlabel(r'M [M$_\\star$]')\n",
    "plt.ylabel(r'$\\nabla$ [K/cm]')\n",
    "plt.legend()\n",
    "# plt.ylim(1,1e10)\n",
    "plt.xlim(-0.1,1.1)\n",
    "plt.minorticks_on()\n",
    "plt.savefig('./figures/del_over_mass_{}.png'.format(M_star/c.Ms), dpi=300, bbox_inches='tight')\n"
   ]
  },
  {
   "cell_type": "code",
   "execution_count": null,
   "id": "408d8af2",
   "metadata": {},
   "outputs": [],
   "source": [
    "# central density vs avg density\n",
    "converged_concentration = solution[5].max()/(4*np.pi*M_star/(3*R_star**3))\n",
    "\n",
    "print(\"rho_c/rho_avg is\", str(round(converged_concentration,2)))"
   ]
  },
  {
   "cell_type": "code",
   "execution_count": null,
   "id": "c1f768e5",
   "metadata": {},
   "outputs": [],
   "source": [
    "from scipy.integrate import solve_ivp\n",
    "\n",
    "# compare to polytrope\n",
    "\n",
    "def dtheta(xi, y, n):\n",
    "    theta, psi = y\n",
    "    return (psi, -np.power(theta, n) - 2 * psi / xi)\n",
    "\n",
    "ns = np.linspace(0, 3.5, num=51) # a reasonable number of n for plotting\n",
    "ts = np.logspace(np.log10(1e-15), np.log10(1000.), num=1000) # dense enough to look smooth\n",
    "\n",
    "concentrations = np.zeros(ns.shape[0])\n",
    "for i, n in enumerate(ns):\n",
    "    soln = solve_ivp(dtheta, [1e-16, 1001.], [1., 0.], args=[n], t_eval=ts)\n",
    "    # degree of central concentration\n",
    "    concentration = 1/3 * (soln.t[np.argmin(np.abs(soln.y[0]))]/(-1*soln.y[1][np.argmin(np.abs(soln.y[0]))]))\n",
    "#     print(\"for n={}, rho_c/rho_avg is\".format(n), str(round(concentration,2)))\n",
    "    concentrations[i] += concentration\n",
    "\n",
    "x = ns\n",
    "y = concentrations\n",
    "    \n",
    "points = np.array([x, y]).T.reshape(-1, 1, 2)\n",
    "segments = np.concatenate([points[:-1], points[1:]], axis=1)\n",
    "\n",
    "fig, axs = plt.subplots(1, 1, figsize=(9,5))\n",
    "\n",
    "# Create a continuous norm to map from data points to colors\n",
    "norm = plt.Normalize(x.min(), x.max())\n",
    "from matplotlib.collections import LineCollection\n",
    "lc = LineCollection(segments, cmap='magma', norm=norm)\n",
    "# Set the values used for colormapping\n",
    "lc.set_array(x)\n",
    "lc.set_linewidth(2)\n",
    "line = axs.add_collection(lc)\n",
    "# cb = fig.colorbar(line, ax=axs)\n",
    "# cb.ax.set_title('n')\n",
    "plt.hlines(converged_concentration, 0, 3.5, ls='--', color='k')\n",
    "plt.annotate('Model degree of \\n central concentration', (2.3,5.5), fontsize=10)\n",
    "\n",
    "plt.minorticks_on()\n",
    "plt.ylim(1, 1e2)\n",
    "plt.yscale('log')\n",
    "\n",
    "plt.xlabel('Polytropic Index n')\n",
    "plt.ylabel(r'$\\rho_c~/~\\left|\\rho\\right|}$')\n",
    "\n",
    "plt.savefig('./figures/central_concentration_polytropes_{}.png'.format(M_star/c.Ms), dpi=300, bbox_inches='tight')"
   ]
  },
  {
   "cell_type": "code",
   "execution_count": null,
   "id": "424a8c98",
   "metadata": {},
   "outputs": [],
   "source": []
  },
  {
   "cell_type": "code",
   "execution_count": null,
   "id": "fc7b2a62",
   "metadata": {},
   "outputs": [],
   "source": []
  },
  {
   "cell_type": "code",
   "execution_count": null,
   "id": "42d00a5c",
   "metadata": {},
   "outputs": [],
   "source": []
  },
  {
   "cell_type": "code",
   "execution_count": null,
   "id": "3328ef0a",
   "metadata": {},
   "outputs": [],
   "source": []
  }
 ],
 "metadata": {
  "kernelspec": {
   "display_name": "Python 3 (ipykernel)",
   "language": "python",
   "name": "python3"
  },
  "language_info": {
   "codemirror_mode": {
    "name": "ipython",
    "version": 3
   },
   "file_extension": ".py",
   "mimetype": "text/x-python",
   "name": "python",
   "nbconvert_exporter": "python",
   "pygments_lexer": "ipython3",
   "version": "3.9.16"
  }
 },
 "nbformat": 4,
 "nbformat_minor": 5
}
