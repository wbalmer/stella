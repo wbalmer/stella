{
 "cells": [
  {
   "cell_type": "markdown",
   "id": "8b944978",
   "metadata": {},
   "source": [
    "# test notebook for stella ZAMS calc code"
   ]
  },
  {
   "cell_type": "code",
   "execution_count": 1,
   "id": "de0b2bca",
   "metadata": {},
   "outputs": [],
   "source": [
    "# imports\n",
    "import numpy as np\n",
    "from scipy.optimize import least_squares\n",
    "\n",
    "# constants\n",
    "import constants as c\n",
    "from scipy.constants import N_A\n",
    "\n",
    "# plotting\n",
    "import matplotlib.pyplot as plt\n",
    "import seaborn as sb\n",
    "plt.style.use('default')\n",
    "sb.set_context(\"talk\")\n",
    "plt.rcParams['font.family'] = 'monospace'   # Fonts\n",
    "plt.rcParams['font.monospace'] = 'DejaVu Sans Mono'"
   ]
  },
  {
   "cell_type": "code",
   "execution_count": 2,
   "id": "86ae9f06",
   "metadata": {},
   "outputs": [],
   "source": [
    "import interpolate\n",
    "import energy\n",
    "import density\n",
    "from guesses import *\n",
    "from ode import ode\n",
    "from shootf import shooter, solver"
   ]
  },
  {
   "cell_type": "code",
   "execution_count": 3,
   "id": "72923fe6",
   "metadata": {},
   "outputs": [],
   "source": [
    "# surface\n",
    "M_star = 1.33*c.Ms\n",
    "L_star = (M_star/c.Ms)**(3.5)*c.Ls # eq. 1.88 HKT\n",
    "R_star = (M_star/c.Ms)**(0.75)*c.Rs # eq. 1.87 HKT\n",
    "# core\n",
    "Pc = (3/(8*np.pi))*(c.G*(M_star)**2)/(R_star)**4 # constant density sphere, lower limit!\n",
    "Tc = (1/2)*((4/(3+5*0.7))/(N_A*c.k))*(c.G*M_star)/(R_star) # constant density sphere\n",
    "# guess to inflate constant density sphere pressure\n",
    "P_factor = 1e1\n",
    "Pc *= P_factor\n",
    "# initial guess vector\n",
    "vec = np.array([L_star, Pc, R_star, Tc])\n",
    "# shootf args\n",
    "args = (M_star, 0.33, int(1e5), 1e-12, 0.9999, True)\n",
    "# set limits for the minimizer\n",
    "bounds = ([L_star*1e-1,Pc,R_star*1e-1,Tc], [L_star*1e1, Pc/P_factor*1e4, R_star*1e1, Tc*1e3])"
   ]
  },
  {
   "cell_type": "code",
   "execution_count": 4,
   "id": "c8592da1",
   "metadata": {
    "scrolled": true
   },
   "outputs": [
    {
     "name": "stderr",
     "output_type": "stream",
     "text": [
      "2023-04-28 13:26:40,152\tINFO worker.py:1553 -- Started a local Ray instance.\n"
     ]
    },
    {
     "name": "stdout",
     "output_type": "stream",
     "text": [
      "solved inner\n",
      "solved exterior\n",
      "[-0.94474434 -5.95467623  0.22709195 -0.45595282]\n"
     ]
    },
    {
     "name": "stderr",
     "output_type": "stream",
     "text": [
      "2023-04-28 13:27:10,096\tINFO worker.py:1553 -- Started a local Ray instance.\n"
     ]
    },
    {
     "name": "stdout",
     "output_type": "stream",
     "text": [
      "solved inner\n",
      "solved exterior\n",
      "[-0.94474434 -5.95467632  0.22709195 -0.45595283]\n"
     ]
    },
    {
     "name": "stderr",
     "output_type": "stream",
     "text": [
      "2023-04-28 13:27:37,198\tINFO worker.py:1553 -- Started a local Ray instance.\n"
     ]
    },
    {
     "name": "stdout",
     "output_type": "stream",
     "text": [
      "solved inner\n",
      "solved exterior\n",
      "[-0.94474434 -5.95467614  0.22709195 -0.45595282]\n"
     ]
    },
    {
     "name": "stderr",
     "output_type": "stream",
     "text": [
      "2023-04-28 13:28:06,560\tINFO worker.py:1553 -- Started a local Ray instance.\n"
     ]
    },
    {
     "name": "stdout",
     "output_type": "stream",
     "text": [
      "solved inner\n",
      "solved exterior\n",
      "[-0.94474435 -5.95467599  0.22709195 -0.45595281]\n"
     ]
    },
    {
     "name": "stderr",
     "output_type": "stream",
     "text": [
      "2023-04-28 13:28:35,862\tINFO worker.py:1553 -- Started a local Ray instance.\n"
     ]
    },
    {
     "name": "stdout",
     "output_type": "stream",
     "text": [
      "solved inner\n",
      "solved exterior\n",
      "[-0.94474434 -5.95467622  0.22709195 -0.4559528 ]\n"
     ]
    },
    {
     "name": "stderr",
     "output_type": "stream",
     "text": [
      "2023-04-28 13:29:04,596\tINFO worker.py:1553 -- Started a local Ray instance.\n"
     ]
    },
    {
     "name": "stdout",
     "output_type": "stream",
     "text": [
      "solved inner\n",
      "solved exterior\n",
      "[-0.97334784 -3.12101751  0.16758445 -0.03144261]\n"
     ]
    },
    {
     "name": "stderr",
     "output_type": "stream",
     "text": [
      "2023-04-28 13:29:39,475\tINFO worker.py:1553 -- Started a local Ray instance.\n"
     ]
    },
    {
     "name": "stdout",
     "output_type": "stream",
     "text": [
      "solved inner\n",
      "solved exterior\n",
      "[-0.97334784 -3.12101757  0.16758445 -0.03144261]\n"
     ]
    },
    {
     "name": "stderr",
     "output_type": "stream",
     "text": [
      "2023-04-28 13:30:07,924\tINFO worker.py:1553 -- Started a local Ray instance.\n"
     ]
    },
    {
     "name": "stdout",
     "output_type": "stream",
     "text": [
      "solved inner\n",
      "solved exterior\n",
      "[-0.97334784 -3.12101746  0.16758445 -0.03144261]\n"
     ]
    },
    {
     "name": "stderr",
     "output_type": "stream",
     "text": [
      "2023-04-28 13:30:37,495\tINFO worker.py:1553 -- Started a local Ray instance.\n"
     ]
    },
    {
     "name": "stdout",
     "output_type": "stream",
     "text": [
      "solved inner\n",
      "solved exterior\n",
      "[-0.97334784 -3.12101737  0.16758445 -0.0314426 ]\n"
     ]
    },
    {
     "name": "stderr",
     "output_type": "stream",
     "text": [
      "2023-04-28 13:31:08,316\tINFO worker.py:1553 -- Started a local Ray instance.\n"
     ]
    },
    {
     "name": "stdout",
     "output_type": "stream",
     "text": [
      "solved inner\n",
      "solved exterior\n",
      "[-0.97334784 -3.1210175   0.16758445 -0.03144259]\n"
     ]
    },
    {
     "name": "stderr",
     "output_type": "stream",
     "text": [
      "2023-04-28 13:31:43,775\tINFO worker.py:1553 -- Started a local Ray instance.\n"
     ]
    },
    {
     "name": "stdout",
     "output_type": "stream",
     "text": [
      "solved inner\n",
      "solved exterior\n",
      "[-0.99372172 -1.12481338  0.09358137 -0.08953406]\n"
     ]
    },
    {
     "name": "stderr",
     "output_type": "stream",
     "text": [
      "2023-04-28 13:32:11,196\tINFO worker.py:1553 -- Started a local Ray instance.\n"
     ]
    },
    {
     "name": "stdout",
     "output_type": "stream",
     "text": [
      "solved inner\n",
      "solved exterior\n",
      "[-0.99372172 -1.12481356  0.09358137 -0.08953409]\n"
     ]
    },
    {
     "name": "stderr",
     "output_type": "stream",
     "text": [
      "2023-04-28 13:32:37,603\tINFO worker.py:1553 -- Started a local Ray instance.\n"
     ]
    },
    {
     "name": "stdout",
     "output_type": "stream",
     "text": [
      "solved inner\n",
      "solved exterior\n",
      "[-0.99372172 -1.12481336  0.09358137 -0.08953406]\n"
     ]
    },
    {
     "name": "stderr",
     "output_type": "stream",
     "text": [
      "2023-04-28 13:33:10,526\tINFO worker.py:1553 -- Started a local Ray instance.\n"
     ]
    },
    {
     "name": "stdout",
     "output_type": "stream",
     "text": [
      "solved inner\n",
      "solved exterior\n",
      "[-0.99372172 -1.12481302  0.09358136 -0.089534  ]\n"
     ]
    },
    {
     "name": "stderr",
     "output_type": "stream",
     "text": [
      "2023-04-28 13:33:39,900\tINFO worker.py:1553 -- Started a local Ray instance.\n"
     ]
    },
    {
     "name": "stdout",
     "output_type": "stream",
     "text": [
      "solved inner\n",
      "solved exterior\n",
      "[-0.99372172 -1.12481338  0.09358137 -0.08953404]\n"
     ]
    },
    {
     "name": "stderr",
     "output_type": "stream",
     "text": [
      "2023-04-28 13:34:06,073\tINFO worker.py:1553 -- Started a local Ray instance.\n"
     ]
    },
    {
     "name": "stdout",
     "output_type": "stream",
     "text": [
      "solved inner\n",
      "solved exterior\n",
      "[-0.99475269 -0.87829101  0.08214288 -0.05159733]\n"
     ]
    },
    {
     "name": "stderr",
     "output_type": "stream",
     "text": [
      "2023-04-28 13:34:37,759\tINFO worker.py:1553 -- Started a local Ray instance.\n"
     ]
    },
    {
     "name": "stdout",
     "output_type": "stream",
     "text": [
      "solved inner\n",
      "solved exterior\n",
      "[-0.99475269 -0.87829111  0.08214288 -0.05159735]\n"
     ]
    },
    {
     "name": "stderr",
     "output_type": "stream",
     "text": [
      "2023-04-28 13:35:06,896\tINFO worker.py:1553 -- Started a local Ray instance.\n"
     ]
    },
    {
     "name": "stdout",
     "output_type": "stream",
     "text": [
      "solved inner\n",
      "solved exterior\n",
      "[-0.99475269 -0.87829099  0.08214287 -0.05159733]\n"
     ]
    },
    {
     "name": "stderr",
     "output_type": "stream",
     "text": [
      "2023-04-28 13:35:37,305\tINFO worker.py:1553 -- Started a local Ray instance.\n"
     ]
    },
    {
     "name": "stdout",
     "output_type": "stream",
     "text": [
      "solved inner\n",
      "solved exterior\n",
      "[-0.99475269 -0.8782909   0.08214287 -0.05159731]\n"
     ]
    },
    {
     "name": "stderr",
     "output_type": "stream",
     "text": [
      "2023-04-28 13:36:10,965\tINFO worker.py:1553 -- Started a local Ray instance.\n"
     ]
    },
    {
     "name": "stdout",
     "output_type": "stream",
     "text": [
      "solved inner\n",
      "solved exterior\n",
      "[-0.99475269 -0.878291    0.08214288 -0.05159731]\n"
     ]
    },
    {
     "name": "stderr",
     "output_type": "stream",
     "text": [
      "2023-04-28 13:36:43,401\tINFO worker.py:1553 -- Started a local Ray instance.\n"
     ]
    },
    {
     "name": "stdout",
     "output_type": "stream",
     "text": [
      "solved inner\n",
      "solved exterior\n",
      "[-0.99437955 -0.80478723  0.07946968 -0.00366349]\n"
     ]
    },
    {
     "name": "stderr",
     "output_type": "stream",
     "text": [
      "2023-04-28 13:37:10,693\tINFO worker.py:1553 -- Started a local Ray instance.\n"
     ]
    },
    {
     "name": "stdout",
     "output_type": "stream",
     "text": [
      "solved inner\n",
      "solved exterior\n",
      "[-0.99437955 -0.80478725  0.07946968 -0.0036635 ]\n"
     ]
    },
    {
     "name": "stderr",
     "output_type": "stream",
     "text": [
      "2023-04-28 13:37:37,183\tINFO worker.py:1553 -- Started a local Ray instance.\n"
     ]
    },
    {
     "name": "stdout",
     "output_type": "stream",
     "text": [
      "solved inner\n",
      "solved exterior\n",
      "[-0.99437955 -0.80478721  0.07946968 -0.00366349]\n"
     ]
    },
    {
     "name": "stderr",
     "output_type": "stream",
     "text": [
      "2023-04-28 13:38:07,696\tINFO worker.py:1553 -- Started a local Ray instance.\n"
     ]
    },
    {
     "name": "stdout",
     "output_type": "stream",
     "text": [
      "solved inner\n",
      "solved exterior\n",
      "[-0.99437955 -0.80478718  0.07946968 -0.00366349]\n"
     ]
    },
    {
     "name": "stderr",
     "output_type": "stream",
     "text": [
      "2023-04-28 13:38:35,238\tINFO worker.py:1553 -- Started a local Ray instance.\n"
     ]
    },
    {
     "name": "stdout",
     "output_type": "stream",
     "text": [
      "solved inner\n",
      "solved exterior\n",
      "[-0.99437955 -0.80478722  0.07946968 -0.00366348]\n"
     ]
    },
    {
     "name": "stderr",
     "output_type": "stream",
     "text": [
      "2023-04-28 13:39:05,699\tINFO worker.py:1553 -- Started a local Ray instance.\n"
     ]
    },
    {
     "name": "stdout",
     "output_type": "stream",
     "text": [
      "solved inner\n",
      "solved exterior\n",
      "[-0.99371921 -0.72752055  0.07705881  0.05136067]\n"
     ]
    },
    {
     "name": "stderr",
     "output_type": "stream",
     "text": [
      "2023-04-28 13:39:34,687\tINFO worker.py:1553 -- Started a local Ray instance.\n"
     ]
    },
    {
     "name": "stdout",
     "output_type": "stream",
     "text": [
      "solved inner\n",
      "solved exterior\n",
      "[-0.99371921 -0.72752057  0.07705881  0.05136066]\n"
     ]
    },
    {
     "name": "stderr",
     "output_type": "stream",
     "text": [
      "2023-04-28 13:40:04,423\tINFO worker.py:1553 -- Started a local Ray instance.\n"
     ]
    },
    {
     "name": "stdout",
     "output_type": "stream",
     "text": [
      "solved inner\n",
      "solved exterior\n",
      "[-0.99371921 -0.72752054  0.07705881  0.05136067]\n"
     ]
    },
    {
     "name": "stderr",
     "output_type": "stream",
     "text": [
      "2023-04-28 13:40:34,852\tINFO worker.py:1553 -- Started a local Ray instance.\n"
     ]
    },
    {
     "name": "stdout",
     "output_type": "stream",
     "text": [
      "solved inner\n",
      "solved exterior\n",
      "[-0.99371921 -0.72752051  0.07705881  0.05136068]\n"
     ]
    },
    {
     "name": "stderr",
     "output_type": "stream",
     "text": [
      "2023-04-28 13:41:05,140\tINFO worker.py:1553 -- Started a local Ray instance.\n"
     ]
    },
    {
     "name": "stdout",
     "output_type": "stream",
     "text": [
      "solved inner\n",
      "solved exterior\n",
      "[-0.99371921 -0.72752054  0.07705881  0.05136068]\n"
     ]
    },
    {
     "name": "stderr",
     "output_type": "stream",
     "text": [
      "2023-04-28 13:41:34,426\tINFO worker.py:1553 -- Started a local Ray instance.\n"
     ]
    },
    {
     "name": "stdout",
     "output_type": "stream",
     "text": [
      "solved inner\n",
      "solved exterior\n",
      "[-0.99120155 -0.67147839  0.07813447  0.14562996]\n"
     ]
    },
    {
     "name": "stderr",
     "output_type": "stream",
     "text": [
      "2023-04-28 13:42:03,813\tINFO worker.py:1553 -- Started a local Ray instance.\n"
     ]
    },
    {
     "name": "stdout",
     "output_type": "stream",
     "text": [
      "solved inner\n",
      "solved exterior\n",
      "[-0.99120155 -0.67147841  0.07813447  0.14562995]\n"
     ]
    },
    {
     "name": "stderr",
     "output_type": "stream",
     "text": [
      "2023-04-28 13:42:30,731\tINFO worker.py:1553 -- Started a local Ray instance.\n"
     ]
    },
    {
     "name": "stdout",
     "output_type": "stream",
     "text": [
      "solved inner\n",
      "solved exterior\n",
      "[-0.99120155 -0.67147837  0.07813447  0.14562996]\n"
     ]
    },
    {
     "name": "stderr",
     "output_type": "stream",
     "text": [
      "2023-04-28 13:42:59,010\tINFO worker.py:1553 -- Started a local Ray instance.\n"
     ]
    },
    {
     "name": "stdout",
     "output_type": "stream",
     "text": [
      "solved inner\n",
      "solved exterior\n",
      "[-0.99120155 -0.67147835  0.07813447  0.14562996]\n"
     ]
    },
    {
     "name": "stderr",
     "output_type": "stream",
     "text": [
      "2023-04-28 13:43:27,422\tINFO worker.py:1553 -- Started a local Ray instance.\n"
     ]
    },
    {
     "name": "stdout",
     "output_type": "stream",
     "text": [
      "solved inner\n",
      "solved exterior\n",
      "[-0.99120155 -0.67147838  0.07813447  0.14562997]\n"
     ]
    },
    {
     "name": "stderr",
     "output_type": "stream",
     "text": [
      "2023-04-28 13:44:03,872\tINFO worker.py:1553 -- Started a local Ray instance.\n"
     ]
    },
    {
     "name": "stdout",
     "output_type": "stream",
     "text": [
      "solved inner\n",
      "solved exterior\n",
      "[-0.98383104 -0.57821822  0.08230544  0.28724172]\n"
     ]
    },
    {
     "name": "stderr",
     "output_type": "stream",
     "text": [
      "2023-04-28 13:44:36,141\tINFO worker.py:1553 -- Started a local Ray instance.\n"
     ]
    },
    {
     "name": "stdout",
     "output_type": "stream",
     "text": [
      "solved inner\n",
      "solved exterior\n",
      "[-0.98383104 -0.57821824  0.08230544  0.28724172]\n"
     ]
    },
    {
     "name": "stderr",
     "output_type": "stream",
     "text": [
      "2023-04-28 13:45:02,418\tINFO worker.py:1553 -- Started a local Ray instance.\n"
     ]
    },
    {
     "name": "stdout",
     "output_type": "stream",
     "text": [
      "solved inner\n",
      "solved exterior\n",
      "[-0.98383104 -0.57821821  0.08230544  0.28724172]\n"
     ]
    },
    {
     "name": "stderr",
     "output_type": "stream",
     "text": [
      "2023-04-28 13:45:28,059\tINFO worker.py:1553 -- Started a local Ray instance.\n"
     ]
    },
    {
     "name": "stdout",
     "output_type": "stream",
     "text": [
      "solved inner\n",
      "solved exterior\n",
      "[-0.98383104 -0.57821818  0.08230544  0.28724173]\n"
     ]
    },
    {
     "name": "stderr",
     "output_type": "stream",
     "text": [
      "2023-04-28 13:45:56,734\tINFO worker.py:1553 -- Started a local Ray instance.\n"
     ]
    },
    {
     "name": "stdout",
     "output_type": "stream",
     "text": [
      "solved inner\n",
      "solved exterior\n",
      "[-0.98383104 -0.57821821  0.08230544  0.28724174]\n"
     ]
    },
    {
     "name": "stderr",
     "output_type": "stream",
     "text": [
      "2023-04-28 13:46:27,033\tINFO worker.py:1553 -- Started a local Ray instance.\n"
     ]
    },
    {
     "name": "stdout",
     "output_type": "stream",
     "text": [
      "solved inner\n",
      "solved exterior\n",
      "[-0.95984845 -0.61482295  0.09179955  0.35651239]\n"
     ]
    },
    {
     "name": "stderr",
     "output_type": "stream",
     "text": [
      "2023-04-28 13:46:52,925\tINFO worker.py:1553 -- Started a local Ray instance.\n"
     ]
    },
    {
     "name": "stdout",
     "output_type": "stream",
     "text": [
      "solved inner\n",
      "solved exterior\n",
      "[-0.9788707  -0.53952396  0.08494149  0.34178508]\n"
     ]
    },
    {
     "name": "stderr",
     "output_type": "stream",
     "text": [
      "2023-04-28 13:47:19,196\tINFO worker.py:1553 -- Started a local Ray instance.\n"
     ]
    },
    {
     "name": "stdout",
     "output_type": "stream",
     "text": [
      "solved inner\n",
      "solved exterior\n",
      "[-0.9788707  -0.53952398  0.0849415   0.34178507]\n"
     ]
    },
    {
     "name": "stderr",
     "output_type": "stream",
     "text": [
      "2023-04-28 13:47:48,051\tINFO worker.py:1553 -- Started a local Ray instance.\n"
     ]
    },
    {
     "name": "stdout",
     "output_type": "stream",
     "text": [
      "solved inner\n",
      "solved exterior\n",
      "[-0.9788707  -0.53952394  0.08494149  0.34178508]\n"
     ]
    },
    {
     "name": "stderr",
     "output_type": "stream",
     "text": [
      "2023-04-28 13:48:15,614\tINFO worker.py:1553 -- Started a local Ray instance.\n"
     ]
    },
    {
     "name": "stdout",
     "output_type": "stream",
     "text": [
      "solved inner\n",
      "solved exterior\n",
      "[-0.9788707  -0.53952392  0.08494149  0.34178508]\n"
     ]
    },
    {
     "name": "stderr",
     "output_type": "stream",
     "text": [
      "2023-04-28 13:48:41,980\tINFO worker.py:1553 -- Started a local Ray instance.\n"
     ]
    },
    {
     "name": "stdout",
     "output_type": "stream",
     "text": [
      "solved inner\n",
      "solved exterior\n",
      "[-0.9788707  -0.53952395  0.0849415   0.34178509]\n"
     ]
    },
    {
     "name": "stderr",
     "output_type": "stream",
     "text": [
      "2023-04-28 13:49:10,565\tINFO worker.py:1553 -- Started a local Ray instance.\n"
     ]
    },
    {
     "name": "stdout",
     "output_type": "stream",
     "text": [
      "solved inner\n",
      "solved exterior\n",
      "[-0.96328329 -0.52111085  0.08954644  0.39183134]\n"
     ]
    },
    {
     "name": "stderr",
     "output_type": "stream",
     "text": [
      "2023-04-28 13:49:36,332\tINFO worker.py:1553 -- Started a local Ray instance.\n"
     ]
    },
    {
     "name": "stdout",
     "output_type": "stream",
     "text": [
      "solved inner\n",
      "solved exterior\n",
      "[-0.97602398 -0.5218295   0.08634108  0.36603966]\n"
     ]
    },
    {
     "name": "stderr",
     "output_type": "stream",
     "text": [
      "2023-04-28 13:50:00,958\tINFO worker.py:1553 -- Started a local Ray instance.\n"
     ]
    },
    {
     "name": "stdout",
     "output_type": "stream",
     "text": [
      "solved inner\n",
      "solved exterior\n",
      "[-0.97602398 -0.52182952  0.08634108  0.36603966]\n"
     ]
    },
    {
     "name": "stderr",
     "output_type": "stream",
     "text": [
      "2023-04-28 13:50:26,686\tINFO worker.py:1553 -- Started a local Ray instance.\n"
     ]
    },
    {
     "name": "stdout",
     "output_type": "stream",
     "text": [
      "solved inner\n",
      "solved exterior\n",
      "[-0.97602398 -0.52182948  0.08634108  0.36603966]\n"
     ]
    },
    {
     "name": "stderr",
     "output_type": "stream",
     "text": [
      "2023-04-28 13:50:54,351\tINFO worker.py:1553 -- Started a local Ray instance.\n"
     ]
    },
    {
     "name": "stdout",
     "output_type": "stream",
     "text": [
      "solved inner\n",
      "solved exterior\n",
      "[-0.97602398 -0.52182946  0.08634107  0.36603967]\n"
     ]
    },
    {
     "name": "stderr",
     "output_type": "stream",
     "text": [
      "2023-04-28 13:51:22,185\tINFO worker.py:1553 -- Started a local Ray instance.\n"
     ]
    },
    {
     "name": "stdout",
     "output_type": "stream",
     "text": [
      "solved inner\n",
      "solved exterior\n",
      "[-0.97602398 -0.52182949  0.08634108  0.36603967]\n"
     ]
    },
    {
     "name": "stderr",
     "output_type": "stream",
     "text": [
      "2023-04-28 13:51:49,040\tINFO worker.py:1553 -- Started a local Ray instance.\n"
     ]
    },
    {
     "name": "stdout",
     "output_type": "stream",
     "text": [
      "solved inner\n",
      "solved exterior\n",
      "[-0.96960766 -0.49032176  0.08916654  0.40824559]\n"
     ]
    },
    {
     "name": "stderr",
     "output_type": "stream",
     "text": [
      "2023-04-28 13:52:14,319\tINFO worker.py:1553 -- Started a local Ray instance.\n"
     ]
    },
    {
     "name": "stdout",
     "output_type": "stream",
     "text": [
      "solved inner\n",
      "solved exterior\n",
      "[-0.96960766 -0.49032178  0.08916655  0.40824558]\n"
     ]
    },
    {
     "name": "stderr",
     "output_type": "stream",
     "text": [
      "2023-04-28 13:52:40,514\tINFO worker.py:1553 -- Started a local Ray instance.\n"
     ]
    },
    {
     "name": "stdout",
     "output_type": "stream",
     "text": [
      "solved inner\n",
      "solved exterior\n",
      "[-0.96960766 -0.49032174  0.08916654  0.40824559]\n"
     ]
    },
    {
     "name": "stderr",
     "output_type": "stream",
     "text": [
      "2023-04-28 13:53:06,528\tINFO worker.py:1553 -- Started a local Ray instance.\n"
     ]
    },
    {
     "name": "stdout",
     "output_type": "stream",
     "text": [
      "solved inner\n",
      "solved exterior\n",
      "[-0.96960766 -0.49032172  0.08916654  0.40824559]\n"
     ]
    },
    {
     "name": "stderr",
     "output_type": "stream",
     "text": [
      "2023-04-28 13:53:34,153\tINFO worker.py:1553 -- Started a local Ray instance.\n"
     ]
    },
    {
     "name": "stdout",
     "output_type": "stream",
     "text": [
      "solved inner\n",
      "solved exterior\n",
      "[-0.96960766 -0.49032175  0.08916655  0.4082456 ]\n"
     ]
    },
    {
     "name": "stderr",
     "output_type": "stream",
     "text": [
      "2023-04-28 13:54:01,742\tINFO worker.py:1553 -- Started a local Ray instance.\n"
     ]
    },
    {
     "name": "stdout",
     "output_type": "stream",
     "text": [
      "solved inner\n",
      "solved exterior\n",
      "[-0.96311116 -0.4673055   0.09152803  0.4383185 ]\n"
     ]
    },
    {
     "name": "stderr",
     "output_type": "stream",
     "text": [
      "2023-04-28 13:54:28,659\tINFO worker.py:1553 -- Started a local Ray instance.\n"
     ]
    },
    {
     "name": "stdout",
     "output_type": "stream",
     "text": [
      "solved inner\n",
      "solved exterior\n",
      "[-0.96311117 -0.46730552  0.09152803  0.4383185 ]\n"
     ]
    },
    {
     "name": "stderr",
     "output_type": "stream",
     "text": [
      "2023-04-28 13:54:58,534\tINFO worker.py:1553 -- Started a local Ray instance.\n"
     ]
    },
    {
     "name": "stdout",
     "output_type": "stream",
     "text": [
      "solved inner\n",
      "solved exterior\n",
      "[-0.96311116 -0.46730548  0.09152803  0.4383185 ]\n"
     ]
    },
    {
     "name": "stderr",
     "output_type": "stream",
     "text": [
      "2023-04-28 13:55:25,029\tINFO worker.py:1553 -- Started a local Ray instance.\n"
     ]
    },
    {
     "name": "stdout",
     "output_type": "stream",
     "text": [
      "solved inner\n",
      "solved exterior\n",
      "[-0.96311117 -0.46730546  0.09152803  0.43831851]\n"
     ]
    },
    {
     "name": "stderr",
     "output_type": "stream",
     "text": [
      "2023-04-28 13:55:53,512\tINFO worker.py:1553 -- Started a local Ray instance.\n"
     ]
    },
    {
     "name": "stdout",
     "output_type": "stream",
     "text": [
      "solved inner\n",
      "solved exterior\n",
      "[-0.96311116 -0.46730549  0.09152803  0.43831851]\n"
     ]
    },
    {
     "name": "stderr",
     "output_type": "stream",
     "text": [
      "2023-04-28 13:56:21,463\tINFO worker.py:1553 -- Started a local Ray instance.\n"
     ]
    },
    {
     "name": "stdout",
     "output_type": "stream",
     "text": [
      "solved inner\n",
      "solved exterior\n",
      "[-0.95119829 -0.44035851  0.09465487  0.47273661]\n"
     ]
    },
    {
     "name": "stderr",
     "output_type": "stream",
     "text": [
      "2023-04-28 13:56:50,081\tINFO worker.py:1553 -- Started a local Ray instance.\n"
     ]
    },
    {
     "name": "stdout",
     "output_type": "stream",
     "text": [
      "solved inner\n",
      "solved exterior\n",
      "[-0.95119829 -0.44035853  0.09465487  0.47273661]\n"
     ]
    },
    {
     "name": "stderr",
     "output_type": "stream",
     "text": [
      "2023-04-28 13:57:17,204\tINFO worker.py:1553 -- Started a local Ray instance.\n"
     ]
    },
    {
     "name": "stdout",
     "output_type": "stream",
     "text": [
      "solved inner\n",
      "solved exterior\n",
      "[-0.95119829 -0.4403585   0.09465487  0.47273661]\n"
     ]
    },
    {
     "name": "stderr",
     "output_type": "stream",
     "text": [
      "2023-04-28 13:57:47,187\tINFO worker.py:1553 -- Started a local Ray instance.\n"
     ]
    },
    {
     "name": "stdout",
     "output_type": "stream",
     "text": [
      "solved inner\n",
      "solved exterior\n",
      "[-0.95119829 -0.44035847  0.09465487  0.47273662]\n"
     ]
    },
    {
     "name": "stderr",
     "output_type": "stream",
     "text": [
      "2023-04-28 13:58:13,681\tINFO worker.py:1553 -- Started a local Ray instance.\n"
     ]
    },
    {
     "name": "stdout",
     "output_type": "stream",
     "text": [
      "solved inner\n",
      "solved exterior\n",
      "[-0.95119828 -0.44035851  0.09465487  0.47273662]\n"
     ]
    },
    {
     "name": "stderr",
     "output_type": "stream",
     "text": [
      "2023-04-28 13:58:41,584\tINFO worker.py:1553 -- Started a local Ray instance.\n"
     ]
    },
    {
     "name": "stdout",
     "output_type": "stream",
     "text": [
      "solved inner\n",
      "solved exterior\n",
      "[-0.88710599 -0.39370427  0.10117162  0.53027012]\n"
     ]
    },
    {
     "name": "stderr",
     "output_type": "stream",
     "text": [
      "2023-04-28 13:59:10,836\tINFO worker.py:1553 -- Started a local Ray instance.\n"
     ]
    },
    {
     "name": "stdout",
     "output_type": "stream",
     "text": [
      "solved inner\n",
      "solved exterior\n",
      "[-0.88710599 -0.39370429  0.10117162  0.53027012]\n"
     ]
    },
    {
     "name": "stderr",
     "output_type": "stream",
     "text": [
      "2023-04-28 13:59:38,743\tINFO worker.py:1553 -- Started a local Ray instance.\n"
     ]
    },
    {
     "name": "stdout",
     "output_type": "stream",
     "text": [
      "solved inner\n",
      "solved exterior\n",
      "[-0.88710599 -0.39370426  0.10117162  0.53027012]\n"
     ]
    },
    {
     "name": "stderr",
     "output_type": "stream",
     "text": [
      "2023-04-28 14:00:06,536\tINFO worker.py:1553 -- Started a local Ray instance.\n"
     ]
    },
    {
     "name": "stdout",
     "output_type": "stream",
     "text": [
      "solved inner\n",
      "solved exterior\n",
      "[-0.88710599 -0.39370423  0.10117162  0.53027012]\n"
     ]
    },
    {
     "name": "stderr",
     "output_type": "stream",
     "text": [
      "2023-04-28 14:00:34,525\tINFO worker.py:1553 -- Started a local Ray instance.\n"
     ]
    },
    {
     "name": "stdout",
     "output_type": "stream",
     "text": [
      "solved inner\n",
      "solved exterior\n",
      "[-0.88710597 -0.39370427  0.10117163  0.53027013]\n"
     ]
    },
    {
     "name": "stderr",
     "output_type": "stream",
     "text": [
      "2023-04-28 14:01:01,028\tINFO worker.py:1553 -- Started a local Ray instance.\n"
     ]
    },
    {
     "name": "stdout",
     "output_type": "stream",
     "text": [
      "solved inner\n",
      "solved exterior\n",
      "[ 0.70522388 -0.320702    0.11529071  0.61404938]\n"
     ]
    },
    {
     "name": "stderr",
     "output_type": "stream",
     "text": [
      "2023-04-28 14:01:29,386\tINFO worker.py:1553 -- Started a local Ray instance.\n"
     ]
    },
    {
     "name": "stdout",
     "output_type": "stream",
     "text": [
      "solved inner\n",
      "solved exterior\n",
      "[ 0.70522385 -0.32070202  0.11529071  0.61404938]\n"
     ]
    },
    {
     "name": "stderr",
     "output_type": "stream",
     "text": [
      "2023-04-28 14:01:58,648\tINFO worker.py:1553 -- Started a local Ray instance.\n"
     ]
    },
    {
     "name": "stdout",
     "output_type": "stream",
     "text": [
      "solved inner\n",
      "solved exterior\n",
      "[ 0.70522391 -0.32070198  0.11529071  0.61404938]\n"
     ]
    },
    {
     "name": "stderr",
     "output_type": "stream",
     "text": [
      "2023-04-28 14:02:27,123\tINFO worker.py:1553 -- Started a local Ray instance.\n"
     ]
    },
    {
     "name": "stdout",
     "output_type": "stream",
     "text": [
      "solved inner\n",
      "solved exterior\n",
      "[ 0.70522388 -0.32070196  0.1152907   0.61404938]\n"
     ]
    },
    {
     "name": "stderr",
     "output_type": "stream",
     "text": [
      "2023-04-28 14:02:54,971\tINFO worker.py:1553 -- Started a local Ray instance.\n"
     ]
    },
    {
     "name": "stdout",
     "output_type": "stream",
     "text": [
      "solved inner\n",
      "solved exterior\n",
      "[ 0.70522428 -0.32070199  0.11529071  0.61404938]\n"
     ]
    },
    {
     "name": "stderr",
     "output_type": "stream",
     "text": [
      "2023-04-28 14:03:21,225\tINFO worker.py:1553 -- Started a local Ray instance.\n"
     ]
    },
    {
     "name": "stdout",
     "output_type": "stream",
     "text": [
      "solved inner\n",
      "solved exterior\n",
      "[ 0.16578504 -0.71711329  0.12368067  0.51697132]\n"
     ]
    },
    {
     "name": "stderr",
     "output_type": "stream",
     "text": [
      "2023-04-28 14:03:47,262\tINFO worker.py:1553 -- Started a local Ray instance.\n"
     ]
    },
    {
     "name": "stdout",
     "output_type": "stream",
     "text": [
      "solved inner\n",
      "solved exterior\n",
      "[ 0.16578502 -0.71711332  0.12368067  0.51697132]\n"
     ]
    },
    {
     "name": "stderr",
     "output_type": "stream",
     "text": [
      "2023-04-28 14:04:13,163\tINFO worker.py:1553 -- Started a local Ray instance.\n"
     ]
    },
    {
     "name": "stdout",
     "output_type": "stream",
     "text": [
      "solved inner\n",
      "solved exterior\n",
      "[ 0.16578506 -0.71711327  0.12368067  0.51697132]\n"
     ]
    },
    {
     "name": "stderr",
     "output_type": "stream",
     "text": [
      "2023-04-28 14:04:38,163\tINFO worker.py:1553 -- Started a local Ray instance.\n"
     ]
    },
    {
     "name": "stdout",
     "output_type": "stream",
     "text": [
      "solved inner\n",
      "solved exterior\n",
      "[ 0.16578504 -0.71711324  0.12368067  0.51697132]\n"
     ]
    },
    {
     "name": "stderr",
     "output_type": "stream",
     "text": [
      "2023-04-28 14:05:06,298\tINFO worker.py:1553 -- Started a local Ray instance.\n"
     ]
    },
    {
     "name": "stdout",
     "output_type": "stream",
     "text": [
      "solved inner\n",
      "solved exterior\n",
      "[ 0.1657853  -0.71711329  0.12368067  0.51697133]\n"
     ]
    },
    {
     "name": "stderr",
     "output_type": "stream",
     "text": [
      "2023-04-28 14:05:35,030\tINFO worker.py:1553 -- Started a local Ray instance.\n"
     ]
    },
    {
     "name": "stdout",
     "output_type": "stream",
     "text": [
      "solved inner\n",
      "solved exterior\n",
      "[-0.09881197 -0.61578976  0.10727365  0.45876151]\n"
     ]
    },
    {
     "name": "stderr",
     "output_type": "stream",
     "text": [
      "2023-04-28 14:06:03,946\tINFO worker.py:1553 -- Started a local Ray instance.\n"
     ]
    },
    {
     "name": "stdout",
     "output_type": "stream",
     "text": [
      "solved inner\n",
      "solved exterior\n",
      "[-0.09881198 -0.61578978  0.10727365  0.45876151]\n"
     ]
    },
    {
     "name": "stderr",
     "output_type": "stream",
     "text": [
      "2023-04-28 14:06:32,619\tINFO worker.py:1553 -- Started a local Ray instance.\n"
     ]
    },
    {
     "name": "stdout",
     "output_type": "stream",
     "text": [
      "solved inner\n",
      "solved exterior\n",
      "[-0.09881196 -0.61578974  0.10727365  0.45876151]\n"
     ]
    },
    {
     "name": "stderr",
     "output_type": "stream",
     "text": [
      "2023-04-28 14:07:00,875\tINFO worker.py:1553 -- Started a local Ray instance.\n"
     ]
    },
    {
     "name": "stdout",
     "output_type": "stream",
     "text": [
      "solved inner\n",
      "solved exterior\n",
      "[-0.09881197 -0.61578971  0.10727365  0.45876152]\n"
     ]
    },
    {
     "name": "stderr",
     "output_type": "stream",
     "text": [
      "2023-04-28 14:07:32,267\tINFO worker.py:1553 -- Started a local Ray instance.\n"
     ]
    },
    {
     "name": "stdout",
     "output_type": "stream",
     "text": [
      "solved inner\n",
      "solved exterior\n",
      "[-0.09881178 -0.61578975  0.10727365  0.45876152]\n"
     ]
    },
    {
     "name": "stderr",
     "output_type": "stream",
     "text": [
      "2023-04-28 14:08:00,626\tINFO worker.py:1553 -- Started a local Ray instance.\n"
     ]
    },
    {
     "name": "stdout",
     "output_type": "stream",
     "text": [
      "solved inner\n",
      "solved exterior\n",
      "[-0.04281213 -0.60574243  0.10097336  0.41767242]\n"
     ]
    },
    {
     "name": "stderr",
     "output_type": "stream",
     "text": [
      "2023-04-28 14:08:28,181\tINFO worker.py:1553 -- Started a local Ray instance.\n"
     ]
    },
    {
     "name": "stdout",
     "output_type": "stream",
     "text": [
      "solved inner\n",
      "solved exterior\n",
      "[-0.04281214 -0.60574245  0.10097336  0.41767242]\n"
     ]
    },
    {
     "name": "stderr",
     "output_type": "stream",
     "text": [
      "2023-04-28 14:08:56,349\tINFO worker.py:1553 -- Started a local Ray instance.\n"
     ]
    },
    {
     "name": "stdout",
     "output_type": "stream",
     "text": [
      "solved inner\n",
      "solved exterior\n",
      "[-0.04281212 -0.60574241  0.10097336  0.41767242]\n"
     ]
    },
    {
     "name": "stderr",
     "output_type": "stream",
     "text": [
      "2023-04-28 14:09:24,437\tINFO worker.py:1553 -- Started a local Ray instance.\n"
     ]
    },
    {
     "name": "stdout",
     "output_type": "stream",
     "text": [
      "solved inner\n",
      "solved exterior\n",
      "[-0.04281213 -0.60574238  0.10097335  0.41767243]\n"
     ]
    },
    {
     "name": "stderr",
     "output_type": "stream",
     "text": [
      "2023-04-28 14:09:52,172\tINFO worker.py:1553 -- Started a local Ray instance.\n"
     ]
    },
    {
     "name": "stdout",
     "output_type": "stream",
     "text": [
      "solved inner\n",
      "solved exterior\n",
      "[-0.04281194 -0.60574242  0.10097336  0.41767243]\n"
     ]
    },
    {
     "name": "stderr",
     "output_type": "stream",
     "text": [
      "2023-04-28 14:10:17,258\tINFO worker.py:1553 -- Started a local Ray instance.\n"
     ]
    },
    {
     "name": "stdout",
     "output_type": "stream",
     "text": [
      "solved inner\n",
      "solved exterior\n",
      "[-0.02356672 -0.5678128   0.09406683  0.38583057]\n"
     ]
    },
    {
     "name": "stderr",
     "output_type": "stream",
     "text": [
      "2023-04-28 14:10:42,191\tINFO worker.py:1553 -- Started a local Ray instance.\n"
     ]
    },
    {
     "name": "stdout",
     "output_type": "stream",
     "text": [
      "solved inner\n",
      "solved exterior\n",
      "[-0.02356673 -0.56781281  0.09406683  0.38583056]\n"
     ]
    },
    {
     "name": "stderr",
     "output_type": "stream",
     "text": [
      "2023-04-28 14:11:09,172\tINFO worker.py:1553 -- Started a local Ray instance.\n"
     ]
    },
    {
     "name": "stdout",
     "output_type": "stream",
     "text": [
      "solved inner\n",
      "solved exterior\n",
      "[-0.02356671 -0.56781278  0.09406683  0.38583057]\n"
     ]
    },
    {
     "name": "stderr",
     "output_type": "stream",
     "text": [
      "2023-04-28 14:11:36,423\tINFO worker.py:1553 -- Started a local Ray instance.\n"
     ]
    },
    {
     "name": "stdout",
     "output_type": "stream",
     "text": [
      "solved inner\n",
      "solved exterior\n",
      "[-0.02356672 -0.56781276  0.09406683  0.38583057]\n"
     ]
    },
    {
     "name": "stderr",
     "output_type": "stream",
     "text": [
      "2023-04-28 14:12:03,345\tINFO worker.py:1553 -- Started a local Ray instance.\n"
     ]
    },
    {
     "name": "stdout",
     "output_type": "stream",
     "text": [
      "solved inner\n",
      "solved exterior\n",
      "[-0.02356654 -0.56781279  0.09406683  0.38583057]\n"
     ]
    },
    {
     "name": "stderr",
     "output_type": "stream",
     "text": [
      "2023-04-28 14:12:31,035\tINFO worker.py:1553 -- Started a local Ray instance.\n"
     ]
    },
    {
     "name": "stdout",
     "output_type": "stream",
     "text": [
      "solved inner\n",
      "solved exterior\n",
      "[-0.01279286 -0.54268683  0.08872325  0.35758843]\n"
     ]
    },
    {
     "name": "stderr",
     "output_type": "stream",
     "text": [
      "2023-04-28 14:13:01,673\tINFO worker.py:1553 -- Started a local Ray instance.\n"
     ]
    },
    {
     "name": "stdout",
     "output_type": "stream",
     "text": [
      "solved inner\n",
      "solved exterior\n",
      "[-0.01279288 -0.54268684  0.08872325  0.35758842]\n"
     ]
    },
    {
     "name": "stderr",
     "output_type": "stream",
     "text": [
      "2023-04-28 14:13:30,298\tINFO worker.py:1553 -- Started a local Ray instance.\n"
     ]
    },
    {
     "name": "stdout",
     "output_type": "stream",
     "text": [
      "solved inner\n",
      "solved exterior\n",
      "[-0.01279285 -0.54268681  0.08872325  0.35758842]\n"
     ]
    },
    {
     "name": "stderr",
     "output_type": "stream",
     "text": [
      "2023-04-28 14:13:57,510\tINFO worker.py:1553 -- Started a local Ray instance.\n"
     ]
    },
    {
     "name": "stdout",
     "output_type": "stream",
     "text": [
      "solved inner\n",
      "solved exterior\n",
      "[-0.01279287 -0.54268678  0.08872325  0.35758843]\n"
     ]
    },
    {
     "name": "stderr",
     "output_type": "stream",
     "text": [
      "2023-04-28 14:14:28,133\tINFO worker.py:1553 -- Started a local Ray instance.\n"
     ]
    },
    {
     "name": "stdout",
     "output_type": "stream",
     "text": [
      "solved inner\n",
      "solved exterior\n",
      "[-0.01279269 -0.54268682  0.08872325  0.35758843]\n"
     ]
    },
    {
     "name": "stderr",
     "output_type": "stream",
     "text": [
      "2023-04-28 14:14:56,442\tINFO worker.py:1553 -- Started a local Ray instance.\n"
     ]
    },
    {
     "name": "stdout",
     "output_type": "stream",
     "text": [
      "solved inner\n",
      "solved exterior\n",
      "[-0.00764734 -0.50894919  0.08329682  0.33395901]\n"
     ]
    },
    {
     "name": "stderr",
     "output_type": "stream",
     "text": [
      "2023-04-28 14:15:25,613\tINFO worker.py:1553 -- Started a local Ray instance.\n"
     ]
    },
    {
     "name": "stdout",
     "output_type": "stream",
     "text": [
      "solved inner\n",
      "solved exterior\n",
      "[-0.00764736 -0.50894916  0.08329682  0.33395901]\n"
     ]
    },
    {
     "name": "stderr",
     "output_type": "stream",
     "text": [
      "2023-04-28 14:15:52,481\tINFO worker.py:1553 -- Started a local Ray instance.\n"
     ]
    },
    {
     "name": "stdout",
     "output_type": "stream",
     "text": [
      "solved inner\n",
      "solved exterior\n",
      "[-0.00764733 -0.50894918  0.08329682  0.33395901]\n"
     ]
    },
    {
     "name": "stderr",
     "output_type": "stream",
     "text": [
      "2023-04-28 14:16:22,059\tINFO worker.py:1553 -- Started a local Ray instance.\n"
     ]
    },
    {
     "name": "stdout",
     "output_type": "stream",
     "text": [
      "solved inner\n",
      "solved exterior\n",
      "[-0.00764734 -0.50894919  0.08329682  0.33395901]\n"
     ]
    },
    {
     "name": "stderr",
     "output_type": "stream",
     "text": [
      "2023-04-28 14:16:51,707\tINFO worker.py:1553 -- Started a local Ray instance.\n"
     ]
    },
    {
     "name": "stdout",
     "output_type": "stream",
     "text": [
      "solved inner\n",
      "solved exterior\n",
      "[-0.00764718 -0.50894918  0.08329683  0.33395902]\n"
     ]
    },
    {
     "name": "stderr",
     "output_type": "stream",
     "text": [
      "2023-04-28 14:17:19,468\tINFO worker.py:1553 -- Started a local Ray instance.\n"
     ]
    },
    {
     "name": "stdout",
     "output_type": "stream",
     "text": [
      "solved inner\n",
      "solved exterior\n",
      "[-0.02173565 -0.40260325  0.07011392  0.29976337]\n"
     ]
    },
    {
     "name": "stderr",
     "output_type": "stream",
     "text": [
      "2023-04-28 14:17:49,387\tINFO worker.py:1553 -- Started a local Ray instance.\n"
     ]
    },
    {
     "name": "stdout",
     "output_type": "stream",
     "text": [
      "solved inner\n",
      "solved exterior\n",
      "[-0.02173566 -0.40260327  0.07011392  0.29976337]\n"
     ]
    },
    {
     "name": "stderr",
     "output_type": "stream",
     "text": [
      "2023-04-28 14:18:18,375\tINFO worker.py:1553 -- Started a local Ray instance.\n"
     ]
    },
    {
     "name": "stdout",
     "output_type": "stream",
     "text": [
      "solved inner\n",
      "solved exterior\n",
      "[-0.02173564 -0.40260324  0.07011392  0.29976337]\n"
     ]
    },
    {
     "name": "stderr",
     "output_type": "stream",
     "text": [
      "2023-04-28 14:18:47,759\tINFO worker.py:1553 -- Started a local Ray instance.\n"
     ]
    },
    {
     "name": "stdout",
     "output_type": "stream",
     "text": [
      "solved inner\n",
      "solved exterior\n",
      "[-0.02173565 -0.40260322  0.07011392  0.29976338]\n"
     ]
    },
    {
     "name": "stderr",
     "output_type": "stream",
     "text": [
      "2023-04-28 14:19:16,721\tINFO worker.py:1553 -- Started a local Ray instance.\n"
     ]
    },
    {
     "name": "stdout",
     "output_type": "stream",
     "text": [
      "solved inner\n",
      "solved exterior\n",
      "[-0.02173551 -0.40260325  0.07011392  0.29976338]\n"
     ]
    },
    {
     "name": "stderr",
     "output_type": "stream",
     "text": [
      "2023-04-28 14:19:46,684\tINFO worker.py:1553 -- Started a local Ray instance.\n"
     ]
    },
    {
     "name": "stdout",
     "output_type": "stream",
     "text": [
      "solved inner\n",
      "solved exterior\n",
      "[-0.01751352 -0.36780133  0.06291625  0.26264018]\n"
     ]
    },
    {
     "name": "stderr",
     "output_type": "stream",
     "text": [
      "2023-04-28 14:20:17,639\tINFO worker.py:1553 -- Started a local Ray instance.\n"
     ]
    },
    {
     "name": "stdout",
     "output_type": "stream",
     "text": [
      "solved inner\n",
      "solved exterior\n",
      "[-0.01751353 -0.36780135  0.06291625  0.26264018]\n"
     ]
    },
    {
     "name": "stderr",
     "output_type": "stream",
     "text": [
      "2023-04-28 14:20:50,258\tINFO worker.py:1553 -- Started a local Ray instance.\n"
     ]
    },
    {
     "name": "stdout",
     "output_type": "stream",
     "text": [
      "solved inner\n",
      "solved exterior\n",
      "[-0.01751351 -0.36780133  0.06291625  0.26264018]\n"
     ]
    },
    {
     "name": "stderr",
     "output_type": "stream",
     "text": [
      "2023-04-28 14:21:20,706\tINFO worker.py:1553 -- Started a local Ray instance.\n"
     ]
    },
    {
     "name": "stdout",
     "output_type": "stream",
     "text": [
      "solved inner\n",
      "solved exterior\n",
      "[-0.01751353 -0.3678013   0.06291624  0.26264019]\n"
     ]
    },
    {
     "name": "stderr",
     "output_type": "stream",
     "text": [
      "2023-04-28 14:21:52,093\tINFO worker.py:1553 -- Started a local Ray instance.\n"
     ]
    },
    {
     "name": "stdout",
     "output_type": "stream",
     "text": [
      "solved inner\n",
      "solved exterior\n",
      "[-0.0175134  -0.36780133  0.06291625  0.26264019]\n"
     ]
    },
    {
     "name": "stderr",
     "output_type": "stream",
     "text": [
      "2023-04-28 14:22:20,784\tINFO worker.py:1553 -- Started a local Ray instance.\n"
     ]
    },
    {
     "name": "stdout",
     "output_type": "stream",
     "text": [
      "solved inner\n",
      "solved exterior\n",
      "[-0.0619274  -0.30044158  0.04911239  0.19061136]\n"
     ]
    },
    {
     "name": "stderr",
     "output_type": "stream",
     "text": [
      "2023-04-28 14:22:50,476\tINFO worker.py:1553 -- Started a local Ray instance.\n"
     ]
    },
    {
     "name": "stdout",
     "output_type": "stream",
     "text": [
      "solved inner\n",
      "solved exterior\n",
      "[-0.06192742 -0.30044159  0.04911239  0.19061136]\n"
     ]
    },
    {
     "name": "stderr",
     "output_type": "stream",
     "text": [
      "2023-04-28 14:23:19,534\tINFO worker.py:1553 -- Started a local Ray instance.\n"
     ]
    },
    {
     "name": "stdout",
     "output_type": "stream",
     "text": [
      "solved inner\n",
      "solved exterior\n",
      "[-0.06192741 -0.30044157  0.04911239  0.19061136]\n"
     ]
    },
    {
     "name": "stderr",
     "output_type": "stream",
     "text": [
      "2023-04-28 14:23:49,590\tINFO worker.py:1553 -- Started a local Ray instance.\n"
     ]
    },
    {
     "name": "stdout",
     "output_type": "stream",
     "text": [
      "solved inner\n",
      "solved exterior\n",
      "[-0.06192741 -0.30044155  0.04911239  0.19061137]\n"
     ]
    },
    {
     "name": "stderr",
     "output_type": "stream",
     "text": [
      "2023-04-28 14:24:17,914\tINFO worker.py:1553 -- Started a local Ray instance.\n"
     ]
    },
    {
     "name": "stdout",
     "output_type": "stream",
     "text": [
      "solved inner\n",
      "solved exterior\n",
      "[-0.06192732 -0.30044157  0.04911239  0.19061137]\n"
     ]
    },
    {
     "name": "stderr",
     "output_type": "stream",
     "text": [
      "2023-04-28 14:24:46,563\tINFO worker.py:1553 -- Started a local Ray instance.\n"
     ]
    },
    {
     "name": "stdout",
     "output_type": "stream",
     "text": [
      "solved inner\n",
      "solved exterior\n",
      "[-0.13561997 -0.2204993   0.02175226 -0.03858343]\n"
     ]
    },
    {
     "name": "stderr",
     "output_type": "stream",
     "text": [
      "2023-04-28 14:25:16,070\tINFO worker.py:1553 -- Started a local Ray instance.\n"
     ]
    },
    {
     "name": "stdout",
     "output_type": "stream",
     "text": [
      "solved inner\n",
      "solved exterior\n",
      "[-0.13561995 -0.22049937  0.02175226 -0.03858345]\n"
     ]
    },
    {
     "name": "stderr",
     "output_type": "stream",
     "text": [
      "2023-04-28 14:25:42,835\tINFO worker.py:1553 -- Started a local Ray instance.\n"
     ]
    },
    {
     "name": "stdout",
     "output_type": "stream",
     "text": [
      "solved inner\n",
      "solved exterior\n",
      "[-0.13561997 -0.2204993   0.02175225 -0.03858345]\n"
     ]
    },
    {
     "name": "stderr",
     "output_type": "stream",
     "text": [
      "2023-04-28 14:26:09,211\tINFO worker.py:1553 -- Started a local Ray instance.\n"
     ]
    },
    {
     "name": "stdout",
     "output_type": "stream",
     "text": [
      "solved inner\n",
      "solved exterior\n",
      "[-0.13562001 -0.22049924  0.02175225 -0.03858341]\n"
     ]
    },
    {
     "name": "stderr",
     "output_type": "stream",
     "text": [
      "2023-04-28 14:26:37,097\tINFO worker.py:1553 -- Started a local Ray instance.\n"
     ]
    },
    {
     "name": "stdout",
     "output_type": "stream",
     "text": [
      "solved inner\n",
      "solved exterior\n",
      "[-0.1356199  -0.2204993   0.02175226 -0.03858342]\n"
     ]
    },
    {
     "name": "stderr",
     "output_type": "stream",
     "text": [
      "2023-04-28 14:27:06,546\tINFO worker.py:1553 -- Started a local Ray instance.\n"
     ]
    },
    {
     "name": "stdout",
     "output_type": "stream",
     "text": [
      "solved inner\n",
      "solved exterior\n",
      "[ 0.17540462 -0.13986781  0.01136445 -0.06717969]\n"
     ]
    },
    {
     "name": "stderr",
     "output_type": "stream",
     "text": [
      "2023-04-28 14:27:33,657\tINFO worker.py:1553 -- Started a local Ray instance.\n"
     ]
    },
    {
     "name": "stdout",
     "output_type": "stream",
     "text": [
      "solved inner\n",
      "solved exterior\n",
      "[ 0.1754046  -0.13986782  0.01136445 -0.06717969]\n"
     ]
    },
    {
     "name": "stderr",
     "output_type": "stream",
     "text": [
      "2023-04-28 14:28:02,463\tINFO worker.py:1553 -- Started a local Ray instance.\n"
     ]
    },
    {
     "name": "stdout",
     "output_type": "stream",
     "text": [
      "solved inner\n",
      "solved exterior\n",
      "[ 0.17540462 -0.13986781  0.01136445 -0.0671797 ]\n"
     ]
    },
    {
     "name": "stderr",
     "output_type": "stream",
     "text": [
      "2023-04-28 14:28:32,203\tINFO worker.py:1553 -- Started a local Ray instance.\n"
     ]
    },
    {
     "name": "stdout",
     "output_type": "stream",
     "text": [
      "solved inner\n",
      "solved exterior\n",
      "[ 0.17540461 -0.1398678   0.01136445 -0.06717968]\n"
     ]
    },
    {
     "name": "stderr",
     "output_type": "stream",
     "text": [
      "2023-04-28 14:29:07,749\tINFO worker.py:1553 -- Started a local Ray instance.\n"
     ]
    },
    {
     "name": "stdout",
     "output_type": "stream",
     "text": [
      "solved inner\n",
      "solved exterior\n",
      "[ 0.17540477 -0.1398678   0.01136445 -0.06717968]\n"
     ]
    },
    {
     "name": "stderr",
     "output_type": "stream",
     "text": [
      "2023-04-28 14:29:37,697\tINFO worker.py:1553 -- Started a local Ray instance.\n"
     ]
    },
    {
     "name": "stdout",
     "output_type": "stream",
     "text": [
      "solved inner\n",
      "solved exterior\n",
      "[ 0.0382596  -0.1045418   0.00746782 -0.03937421]\n"
     ]
    },
    {
     "name": "stderr",
     "output_type": "stream",
     "text": [
      "2023-04-28 14:30:10,325\tINFO worker.py:1553 -- Started a local Ray instance.\n"
     ]
    },
    {
     "name": "stdout",
     "output_type": "stream",
     "text": [
      "solved inner\n",
      "solved exterior\n",
      "[ 0.03825959 -0.1045418   0.00746782 -0.03937422]\n"
     ]
    },
    {
     "name": "stderr",
     "output_type": "stream",
     "text": [
      "2023-04-28 14:30:39,572\tINFO worker.py:1553 -- Started a local Ray instance.\n"
     ]
    },
    {
     "name": "stdout",
     "output_type": "stream",
     "text": [
      "solved inner\n",
      "solved exterior\n",
      "[ 0.0382596  -0.1045418   0.00746781 -0.03937423]\n"
     ]
    },
    {
     "name": "stderr",
     "output_type": "stream",
     "text": [
      "2023-04-28 14:31:15,738\tINFO worker.py:1553 -- Started a local Ray instance.\n"
     ]
    },
    {
     "name": "stdout",
     "output_type": "stream",
     "text": [
      "solved inner\n",
      "solved exterior\n",
      "[ 0.03825959 -0.10454178  0.00746781 -0.0393742 ]\n"
     ]
    },
    {
     "name": "stderr",
     "output_type": "stream",
     "text": [
      "2023-04-28 14:31:47,812\tINFO worker.py:1553 -- Started a local Ray instance.\n"
     ]
    },
    {
     "name": "stdout",
     "output_type": "stream",
     "text": [
      "solved inner\n",
      "solved exterior\n",
      "[ 0.03825973 -0.10454179  0.00746782 -0.03937421]\n"
     ]
    },
    {
     "name": "stderr",
     "output_type": "stream",
     "text": [
      "2023-04-28 14:32:17,909\tINFO worker.py:1553 -- Started a local Ray instance.\n"
     ]
    },
    {
     "name": "stdout",
     "output_type": "stream",
     "text": [
      "solved inner\n",
      "solved exterior\n",
      "[ 0.02470037 -0.03761101 -0.0006109  -0.0135195 ]\n"
     ]
    },
    {
     "name": "stderr",
     "output_type": "stream",
     "text": [
      "2023-04-28 14:32:46,259\tINFO worker.py:1553 -- Started a local Ray instance.\n"
     ]
    },
    {
     "name": "stdout",
     "output_type": "stream",
     "text": [
      "solved inner\n",
      "solved exterior\n",
      "[ 0.02470035 -0.03761102 -0.0006109  -0.0135195 ]\n"
     ]
    },
    {
     "name": "stderr",
     "output_type": "stream",
     "text": [
      "2023-04-28 14:33:13,876\tINFO worker.py:1553 -- Started a local Ray instance.\n"
     ]
    },
    {
     "name": "stdout",
     "output_type": "stream",
     "text": [
      "solved inner\n",
      "solved exterior\n",
      "[ 0.02470037 -0.03761101 -0.0006109  -0.01351952]\n"
     ]
    },
    {
     "name": "stderr",
     "output_type": "stream",
     "text": [
      "2023-04-28 14:33:41,774\tINFO worker.py:1553 -- Started a local Ray instance.\n"
     ]
    },
    {
     "name": "stdout",
     "output_type": "stream",
     "text": [
      "solved inner\n",
      "solved exterior\n",
      "[ 0.02470036 -0.037611   -0.0006109  -0.01351949]\n"
     ]
    },
    {
     "name": "stderr",
     "output_type": "stream",
     "text": [
      "2023-04-28 14:34:10,273\tINFO worker.py:1553 -- Started a local Ray instance.\n"
     ]
    },
    {
     "name": "stdout",
     "output_type": "stream",
     "text": [
      "solved inner\n",
      "solved exterior\n",
      "[ 0.02470049 -0.037611   -0.0006109  -0.0135195 ]\n"
     ]
    },
    {
     "name": "stderr",
     "output_type": "stream",
     "text": [
      "2023-04-28 14:34:38,187\tINFO worker.py:1553 -- Started a local Ray instance.\n"
     ]
    },
    {
     "name": "stdout",
     "output_type": "stream",
     "text": [
      "solved inner\n",
      "solved exterior\n",
      "[ 0.00170017 -0.00244828 -0.00533922  0.00110801]\n"
     ]
    },
    {
     "name": "stderr",
     "output_type": "stream",
     "text": [
      "2023-04-28 14:35:05,317\tINFO worker.py:1553 -- Started a local Ray instance.\n"
     ]
    },
    {
     "name": "stdout",
     "output_type": "stream",
     "text": [
      "solved inner\n",
      "solved exterior\n",
      "[ 0.00170016 -0.00244829 -0.00533922  0.001108  ]\n"
     ]
    },
    {
     "name": "stderr",
     "output_type": "stream",
     "text": [
      "2023-04-28 14:35:33,148\tINFO worker.py:1553 -- Started a local Ray instance.\n"
     ]
    },
    {
     "name": "stdout",
     "output_type": "stream",
     "text": [
      "solved inner\n",
      "solved exterior\n",
      "[ 0.00170018 -0.00244828 -0.00533922  0.00110799]\n"
     ]
    },
    {
     "name": "stderr",
     "output_type": "stream",
     "text": [
      "2023-04-28 14:36:01,147\tINFO worker.py:1553 -- Started a local Ray instance.\n"
     ]
    },
    {
     "name": "stdout",
     "output_type": "stream",
     "text": [
      "solved inner\n",
      "solved exterior\n",
      "[ 0.00170017 -0.00244827 -0.00533923  0.00110801]\n"
     ]
    },
    {
     "name": "stderr",
     "output_type": "stream",
     "text": [
      "2023-04-28 14:36:29,389\tINFO worker.py:1553 -- Started a local Ray instance.\n"
     ]
    },
    {
     "name": "stdout",
     "output_type": "stream",
     "text": [
      "solved inner\n",
      "solved exterior\n",
      "[ 0.0017003  -0.00244827 -0.00533922  0.00110801]\n"
     ]
    },
    {
     "name": "stderr",
     "output_type": "stream",
     "text": [
      "2023-04-28 14:36:57,267\tINFO worker.py:1553 -- Started a local Ray instance.\n"
     ]
    },
    {
     "name": "stdout",
     "output_type": "stream",
     "text": [
      "solved inner\n",
      "solved exterior\n",
      "[ 6.56614361e-05 -8.75436120e-04 -5.64548714e-03  4.71515704e-04]\n"
     ]
    },
    {
     "name": "stderr",
     "output_type": "stream",
     "text": [
      "2023-04-28 14:37:24,628\tINFO worker.py:1553 -- Started a local Ray instance.\n"
     ]
    },
    {
     "name": "stdout",
     "output_type": "stream",
     "text": [
      "solved inner\n",
      "solved exterior\n",
      "[ 6.56482188e-05 -8.75439960e-04 -5.64548633e-03  4.71512434e-04]\n"
     ]
    },
    {
     "name": "stderr",
     "output_type": "stream",
     "text": [
      "2023-04-28 14:37:53,910\tINFO worker.py:1553 -- Started a local Ray instance.\n"
     ]
    },
    {
     "name": "stdout",
     "output_type": "stream",
     "text": [
      "solved inner\n",
      "solved exterior\n",
      "[ 6.56634378e-05 -8.75435834e-04 -5.64548826e-03  4.71497271e-04]\n"
     ]
    },
    {
     "name": "stderr",
     "output_type": "stream",
     "text": [
      "2023-04-28 14:38:21,867\tINFO worker.py:1553 -- Started a local Ray instance.\n"
     ]
    },
    {
     "name": "stdout",
     "output_type": "stream",
     "text": [
      "solved inner\n",
      "solved exterior\n",
      "[ 6.56575153e-05 -8.75425651e-04 -5.64548852e-03  4.71520531e-04]\n"
     ]
    },
    {
     "name": "stderr",
     "output_type": "stream",
     "text": [
      "2023-04-28 14:38:55,080\tINFO worker.py:1553 -- Started a local Ray instance.\n"
     ]
    },
    {
     "name": "stdout",
     "output_type": "stream",
     "text": [
      "solved inner\n",
      "solved exterior\n",
      "[ 6.57865733e-05 -8.75427192e-04 -5.64548755e-03  4.71515299e-04]\n"
     ]
    },
    {
     "name": "stderr",
     "output_type": "stream",
     "text": [
      "2023-04-28 14:39:23,328\tINFO worker.py:1553 -- Started a local Ray instance.\n"
     ]
    },
    {
     "name": "stdout",
     "output_type": "stream",
     "text": [
      "solved inner\n",
      "solved exterior\n",
      "[ 4.57887009e-05 -8.80674895e-04 -5.65196809e-03  3.37961283e-04]\n"
     ]
    },
    {
     "name": "stderr",
     "output_type": "stream",
     "text": [
      "2023-04-28 14:39:52,061\tINFO worker.py:1553 -- Started a local Ray instance.\n"
     ]
    },
    {
     "name": "stdout",
     "output_type": "stream",
     "text": [
      "solved inner\n",
      "solved exterior\n",
      "[ 4.57754860e-05 -8.80678744e-04 -5.65196728e-03  3.37958009e-04]\n"
     ]
    },
    {
     "name": "stderr",
     "output_type": "stream",
     "text": [
      "2023-04-28 14:40:19,181\tINFO worker.py:1553 -- Started a local Ray instance.\n"
     ]
    },
    {
     "name": "stdout",
     "output_type": "stream",
     "text": [
      "solved inner\n",
      "solved exterior\n",
      "[ 4.57906990e-05 -8.80674610e-04 -5.65196922e-03  3.37942828e-04]\n"
     ]
    },
    {
     "name": "stderr",
     "output_type": "stream",
     "text": [
      "2023-04-28 14:40:47,574\tINFO worker.py:1553 -- Started a local Ray instance.\n"
     ]
    },
    {
     "name": "stdout",
     "output_type": "stream",
     "text": [
      "solved inner\n",
      "solved exterior\n",
      "[ 4.57833091e-05 -8.80665840e-04 -5.65197012e-03  3.37965910e-04]\n"
     ]
    },
    {
     "name": "stderr",
     "output_type": "stream",
     "text": [
      "2023-04-28 14:41:15,942\tINFO worker.py:1553 -- Started a local Ray instance.\n"
     ]
    },
    {
     "name": "stdout",
     "output_type": "stream",
     "text": [
      "solved inner\n",
      "solved exterior\n",
      "[ 4.59138313e-05 -8.80665967e-04 -5.65196851e-03  3.37960864e-04]\n"
     ]
    },
    {
     "name": "stderr",
     "output_type": "stream",
     "text": [
      "2023-04-28 14:41:42,783\tINFO worker.py:1553 -- Started a local Ray instance.\n"
     ]
    },
    {
     "name": "stdout",
     "output_type": "stream",
     "text": [
      "solved inner\n",
      "solved exterior\n",
      "[ 9.42681323e-06 -1.41476277e-03 -5.56630976e-03  3.20485554e-04]\n"
     ]
    },
    {
     "name": "stderr",
     "output_type": "stream",
     "text": [
      "2023-04-28 14:42:11,672\tINFO worker.py:1553 -- Started a local Ray instance.\n"
     ]
    },
    {
     "name": "stdout",
     "output_type": "stream",
     "text": [
      "solved inner\n",
      "solved exterior\n",
      "[ 3.70754918e-05 -1.02132259e-03 -5.63015108e-03  3.30633913e-04]\n"
     ]
    },
    {
     "name": "stderr",
     "output_type": "stream",
     "text": [
      "2023-04-28 14:42:39,920\tINFO worker.py:1553 -- Started a local Ray instance.\n"
     ]
    },
    {
     "name": "stdout",
     "output_type": "stream",
     "text": [
      "solved inner\n",
      "solved exterior\n",
      "[ 4.31697246e-05 -9.14703568e-04 -5.64649749e-03  3.36572081e-04]\n"
     ]
    },
    {
     "name": "stderr",
     "output_type": "stream",
     "text": [
      "2023-04-28 14:43:07,629\tINFO worker.py:1553 -- Started a local Ray instance.\n"
     ]
    },
    {
     "name": "stdout",
     "output_type": "stream",
     "text": [
      "solved inner\n",
      "solved exterior\n",
      "[ 4.31565162e-05 -9.14707419e-04 -5.64649668e-03  3.36568805e-04]\n"
     ]
    },
    {
     "name": "stderr",
     "output_type": "stream",
     "text": [
      "2023-04-28 14:43:34,125\tINFO worker.py:1553 -- Started a local Ray instance.\n"
     ]
    },
    {
     "name": "stdout",
     "output_type": "stream",
     "text": [
      "solved inner\n",
      "solved exterior\n",
      "[ 4.31717229e-05 -9.14703282e-04 -5.64649862e-03  3.36553628e-04]\n"
     ]
    },
    {
     "name": "stderr",
     "output_type": "stream",
     "text": [
      "2023-04-28 14:44:00,855\tINFO worker.py:1553 -- Started a local Ray instance.\n"
     ]
    },
    {
     "name": "stdout",
     "output_type": "stream",
     "text": [
      "solved inner\n",
      "solved exterior\n",
      "[ 4.31657816e-05 -9.14693071e-04 -5.64649888e-03  3.36576923e-04]\n"
     ]
    },
    {
     "name": "stderr",
     "output_type": "stream",
     "text": [
      "2023-04-28 14:44:29,311\tINFO worker.py:1553 -- Started a local Ray instance.\n"
     ]
    },
    {
     "name": "stdout",
     "output_type": "stream",
     "text": [
      "solved inner\n",
      "solved exterior\n",
      "[ 4.32948522e-05 -9.14694640e-04 -5.64649791e-03  3.36571665e-04]\n"
     ]
    },
    {
     "name": "stderr",
     "output_type": "stream",
     "text": [
      "2023-04-28 14:44:57,302\tINFO worker.py:1553 -- Started a local Ray instance.\n"
     ]
    },
    {
     "name": "stdout",
     "output_type": "stream",
     "text": [
      "solved inner\n",
      "solved exterior\n",
      "[ 4.70112837e-05 -9.07038794e-04 -5.64772926e-03  3.36426236e-04]\n"
     ]
    },
    {
     "name": "stderr",
     "output_type": "stream",
     "text": [
      "2023-04-28 14:45:26,505\tINFO worker.py:1553 -- Started a local Ray instance.\n"
     ]
    },
    {
     "name": "stdout",
     "output_type": "stream",
     "text": [
      "solved inner\n",
      "solved exterior\n",
      "[ 4.74760011e-05 -9.12548588e-04 -5.64681646e-03  3.36524479e-04]\n"
     ]
    },
    {
     "name": "stderr",
     "output_type": "stream",
     "text": [
      "2023-04-28 14:45:54,358\tINFO worker.py:1553 -- Started a local Ray instance.\n"
     ]
    },
    {
     "name": "stdout",
     "output_type": "stream",
     "text": [
      "solved inner\n",
      "solved exterior\n",
      "[ 4.57911589e-05 -9.14516525e-04 -5.64650619e-03  3.36563365e-04]\n"
     ]
    },
    {
     "name": "stderr",
     "output_type": "stream",
     "text": [
      "2023-04-28 14:46:22,905\tINFO worker.py:1553 -- Started a local Ray instance.\n"
     ]
    },
    {
     "name": "stdout",
     "output_type": "stream",
     "text": [
      "solved inner\n",
      "solved exterior\n",
      "[ 4.57779506e-05 -9.14520376e-04 -5.64650537e-03  3.36560089e-04]\n"
     ]
    },
    {
     "name": "stderr",
     "output_type": "stream",
     "text": [
      "2023-04-28 14:46:52,591\tINFO worker.py:1553 -- Started a local Ray instance.\n"
     ]
    },
    {
     "name": "stdout",
     "output_type": "stream",
     "text": [
      "solved inner\n",
      "solved exterior\n",
      "[ 4.57931573e-05 -9.14516239e-04 -5.64650731e-03  3.36544913e-04]\n"
     ]
    },
    {
     "name": "stderr",
     "output_type": "stream",
     "text": [
      "2023-04-28 14:47:20,340\tINFO worker.py:1553 -- Started a local Ray instance.\n"
     ]
    },
    {
     "name": "stdout",
     "output_type": "stream",
     "text": [
      "solved inner\n",
      "solved exterior\n",
      "[ 4.57872160e-05 -9.14506029e-04 -5.64650758e-03  3.36568207e-04]\n"
     ]
    },
    {
     "name": "stderr",
     "output_type": "stream",
     "text": [
      "2023-04-28 14:47:48,003\tINFO worker.py:1553 -- Started a local Ray instance.\n"
     ]
    },
    {
     "name": "stdout",
     "output_type": "stream",
     "text": [
      "solved inner\n",
      "solved exterior\n",
      "[ 4.59162870e-05 -9.14507597e-04 -5.64650660e-03  3.36562949e-04]\n"
     ]
    },
    {
     "name": "stderr",
     "output_type": "stream",
     "text": [
      "2023-04-28 14:48:16,887\tINFO worker.py:1553 -- Started a local Ray instance.\n"
     ]
    },
    {
     "name": "stdout",
     "output_type": "stream",
     "text": [
      "solved inner\n",
      "solved exterior\n",
      "[ 4.75543835e-05 -9.13465598e-04 -5.64666400e-03  3.36541173e-04]\n"
     ]
    },
    {
     "name": "stderr",
     "output_type": "stream",
     "text": [
      "2023-04-28 14:48:42,871\tINFO worker.py:1553 -- Started a local Ray instance.\n"
     ]
    },
    {
     "name": "stdout",
     "output_type": "stream",
     "text": [
      "solved inner\n",
      "solved exterior\n",
      "[ 4.71018797e-05 -9.14423004e-04 -5.64651053e-03  3.36559006e-04]\n"
     ]
    },
    {
     "name": "stderr",
     "output_type": "stream",
     "text": [
      "2023-04-28 14:49:10,641\tINFO worker.py:1553 -- Started a local Ray instance.\n"
     ]
    },
    {
     "name": "stdout",
     "output_type": "stream",
     "text": [
      "solved inner\n",
      "solved exterior\n",
      "[ 4.70886713e-05 -9.14426855e-04 -5.64650972e-03  3.36555730e-04]\n"
     ]
    },
    {
     "name": "stderr",
     "output_type": "stream",
     "text": [
      "2023-04-28 14:49:38,141\tINFO worker.py:1553 -- Started a local Ray instance.\n"
     ]
    },
    {
     "name": "stdout",
     "output_type": "stream",
     "text": [
      "solved inner\n",
      "solved exterior\n",
      "[ 4.71038783e-05 -9.14422718e-04 -5.64651166e-03  3.36540554e-04]\n"
     ]
    },
    {
     "name": "stderr",
     "output_type": "stream",
     "text": [
      "2023-04-28 14:50:05,066\tINFO worker.py:1553 -- Started a local Ray instance.\n"
     ]
    },
    {
     "name": "stdout",
     "output_type": "stream",
     "text": [
      "solved inner\n",
      "solved exterior\n",
      "[ 4.70979367e-05 -9.14412508e-04 -5.64651193e-03  3.36563848e-04]\n"
     ]
    },
    {
     "name": "stderr",
     "output_type": "stream",
     "text": [
      "2023-04-28 14:50:33,350\tINFO worker.py:1553 -- Started a local Ray instance.\n"
     ]
    },
    {
     "name": "stdout",
     "output_type": "stream",
     "text": [
      "solved inner\n",
      "solved exterior\n",
      "[ 4.72270083e-05 -9.14414076e-04 -5.64651095e-03  3.36558590e-04]\n"
     ]
    },
    {
     "name": "stderr",
     "output_type": "stream",
     "text": [
      "2023-04-28 14:51:00,408\tINFO worker.py:1553 -- Started a local Ray instance.\n"
     ]
    },
    {
     "name": "stdout",
     "output_type": "stream",
     "text": [
      "solved inner\n",
      "solved exterior\n",
      "[ 4.75920637e-05 -9.13925829e-04 -5.64658827e-03  3.36549130e-04]\n"
     ]
    },
    {
     "name": "stderr",
     "output_type": "stream",
     "text": [
      "2023-04-28 14:51:26,251\tINFO worker.py:1553 -- Started a local Ray instance.\n"
     ]
    },
    {
     "name": "stdout",
     "output_type": "stream",
     "text": [
      "solved inner\n",
      "solved exterior\n",
      "[ 4.76208121e-05 -9.14270575e-04 -5.64653134e-03  3.36555190e-04]\n"
     ]
    },
    {
     "name": "stderr",
     "output_type": "stream",
     "text": [
      "2023-04-28 14:51:55,180\tINFO worker.py:1553 -- Started a local Ray instance.\n"
     ]
    },
    {
     "name": "stdout",
     "output_type": "stream",
     "text": [
      "solved inner\n",
      "solved exterior\n",
      "[ 4.72657201e-05 -9.14411314e-04 -5.64651108e-03  3.36558461e-04]\n"
     ]
    },
    {
     "name": "stderr",
     "output_type": "stream",
     "text": [
      "2023-04-28 14:52:26,143\tINFO worker.py:1553 -- Started a local Ray instance.\n"
     ]
    },
    {
     "name": "stdout",
     "output_type": "stream",
     "text": [
      "solved inner\n",
      "solved exterior\n",
      "[ 4.72525117e-05 -9.14415165e-04 -5.64651027e-03  3.36555185e-04]\n"
     ]
    },
    {
     "name": "stderr",
     "output_type": "stream",
     "text": [
      "2023-04-28 14:52:51,621\tINFO worker.py:1553 -- Started a local Ray instance.\n"
     ]
    },
    {
     "name": "stdout",
     "output_type": "stream",
     "text": [
      "solved inner\n",
      "solved exterior\n",
      "[ 4.72677185e-05 -9.14411028e-04 -5.64651220e-03  3.36540009e-04]\n"
     ]
    },
    {
     "name": "stderr",
     "output_type": "stream",
     "text": [
      "2023-04-28 14:53:20,532\tINFO worker.py:1553 -- Started a local Ray instance.\n"
     ]
    },
    {
     "name": "stdout",
     "output_type": "stream",
     "text": [
      "solved inner\n",
      "solved exterior\n",
      "[ 4.72617771e-05 -9.14400817e-04 -5.64651247e-03  3.36563303e-04]\n"
     ]
    },
    {
     "name": "stderr",
     "output_type": "stream",
     "text": [
      "2023-04-28 14:53:46,930\tINFO worker.py:1553 -- Started a local Ray instance.\n"
     ]
    },
    {
     "name": "stdout",
     "output_type": "stream",
     "text": [
      "solved inner\n",
      "solved exterior\n",
      "[ 4.73908486e-05 -9.14402386e-04 -5.64651149e-03  3.36558045e-04]\n"
     ]
    },
    {
     "name": "stderr",
     "output_type": "stream",
     "text": [
      "2023-04-28 14:54:14,610\tINFO worker.py:1553 -- Started a local Ray instance.\n"
     ]
    },
    {
     "name": "stdout",
     "output_type": "stream",
     "text": [
      "solved inner\n",
      "solved exterior\n",
      "[ 4.75934008e-05 -9.14387933e-04 -5.64651217e-03  3.36557371e-04]\n"
     ]
    },
    {
     "name": "stderr",
     "output_type": "stream",
     "text": [
      "2023-04-28 14:54:43,515\tINFO worker.py:1553 -- Started a local Ray instance.\n"
     ]
    },
    {
     "name": "stdout",
     "output_type": "stream",
     "text": [
      "solved inner\n",
      "solved exterior\n",
      "[ 4.75801924e-05 -9.14391785e-04 -5.64651135e-03  3.36554095e-04]\n"
     ]
    },
    {
     "name": "stderr",
     "output_type": "stream",
     "text": [
      "2023-04-28 14:55:10,601\tINFO worker.py:1553 -- Started a local Ray instance.\n"
     ]
    },
    {
     "name": "stdout",
     "output_type": "stream",
     "text": [
      "solved inner\n",
      "solved exterior\n",
      "[ 4.75953992e-05 -9.14387648e-04 -5.64651329e-03  3.36538919e-04]\n"
     ]
    },
    {
     "name": "stderr",
     "output_type": "stream",
     "text": [
      "2023-04-28 14:55:38,766\tINFO worker.py:1553 -- Started a local Ray instance.\n"
     ]
    },
    {
     "name": "stdout",
     "output_type": "stream",
     "text": [
      "solved inner\n",
      "solved exterior\n",
      "[ 4.75894578e-05 -9.14377437e-04 -5.64651356e-03  3.36562213e-04]\n"
     ]
    },
    {
     "name": "stderr",
     "output_type": "stream",
     "text": [
      "2023-04-28 14:56:08,090\tINFO worker.py:1553 -- Started a local Ray instance.\n"
     ]
    },
    {
     "name": "stdout",
     "output_type": "stream",
     "text": [
      "solved inner\n",
      "solved exterior\n",
      "[ 4.77185294e-05 -9.14379005e-04 -5.64651258e-03  3.36556955e-04]\n"
     ]
    },
    {
     "name": "stderr",
     "output_type": "stream",
     "text": [
      "2023-04-28 14:56:35,593\tINFO worker.py:1553 -- Started a local Ray instance.\n"
     ]
    },
    {
     "name": "stdout",
     "output_type": "stream",
     "text": [
      "solved inner\n",
      "solved exterior\n",
      "[ 4.76208679e-05 -9.14270564e-04 -5.64653135e-03  3.36555193e-04]\n"
     ]
    },
    {
     "name": "stderr",
     "output_type": "stream",
     "text": [
      "2023-04-28 14:57:02,701\tINFO worker.py:1553 -- Started a local Ray instance.\n"
     ]
    },
    {
     "name": "stdout",
     "output_type": "stream",
     "text": [
      "solved inner\n",
      "solved exterior\n",
      "[ 4.76285463e-05 -9.14356205e-04 -5.64651690e-03  3.36556804e-04]\n"
     ]
    },
    {
     "name": "stderr",
     "output_type": "stream",
     "text": [
      "2023-04-28 14:57:31,460\tINFO worker.py:1553 -- Started a local Ray instance.\n"
     ]
    },
    {
     "name": "stdout",
     "output_type": "stream",
     "text": [
      "solved inner\n",
      "solved exterior\n",
      "[ 4.76153378e-05 -9.14360057e-04 -5.64651609e-03  3.36553528e-04]\n"
     ]
    },
    {
     "name": "stderr",
     "output_type": "stream",
     "text": [
      "2023-04-28 14:57:59,047\tINFO worker.py:1553 -- Started a local Ray instance.\n"
     ]
    },
    {
     "name": "stdout",
     "output_type": "stream",
     "text": [
      "solved inner\n",
      "solved exterior\n",
      "[ 4.76305446e-05 -9.14355920e-04 -5.64651803e-03  3.36538351e-04]\n"
     ]
    },
    {
     "name": "stderr",
     "output_type": "stream",
     "text": [
      "2023-04-28 14:58:28,407\tINFO worker.py:1553 -- Started a local Ray instance.\n"
     ]
    },
    {
     "name": "stdout",
     "output_type": "stream",
     "text": [
      "solved inner\n",
      "solved exterior\n",
      "[ 4.76246038e-05 -9.14345709e-04 -5.64651829e-03  3.36561645e-04]\n"
     ]
    },
    {
     "name": "stderr",
     "output_type": "stream",
     "text": [
      "2023-04-28 14:58:56,503\tINFO worker.py:1553 -- Started a local Ray instance.\n"
     ]
    },
    {
     "name": "stdout",
     "output_type": "stream",
     "text": [
      "solved inner\n",
      "solved exterior\n",
      "[ 4.77536748e-05 -9.14347277e-04 -5.64651732e-03  3.36556387e-04]\n"
     ]
    }
   ],
   "source": [
    "# todo, set x_scale for each variable to enable better tolerance estimate\n",
    "final = least_squares(shooter, vec, args=args, bounds=bounds, \n",
    "                      method='dogbox', loss='arctan', \n",
    "                      gtol=1e-15, \n",
    "                      xtol=None, \n",
    "                      ftol=None, \n",
    "                      x_scale='jac',\n",
    "                     )"
   ]
  },
  {
   "cell_type": "code",
   "execution_count": 5,
   "id": "467a241e",
   "metadata": {},
   "outputs": [
    {
     "data": {
      "text/plain": [
       "     message: `gtol` termination condition is satisfied.\n",
       "     success: True\n",
       "      status: 1\n",
       "         fun: [ 4.763e-05 -9.144e-04 -5.647e-03  3.366e-04]\n",
       "           x: [ 2.303e+34  1.956e+17  1.009e+11  1.888e+07]\n",
       "        cost: 1.6417369663606487e-05\n",
       "         jac: [[-3.849e-35  6.856e-19 -2.623e-12  4.448e-07]\n",
       "               [-1.122e-35  9.802e-20  6.984e-12  3.174e-08]\n",
       "               [ 2.370e-36 -3.864e-19 -9.269e-13 -1.476e-09]\n",
       "               [-9.547e-36 -6.331e-18  3.222e-12 -1.479e-09]]\n",
       "        grad: [-8.164e-39 -5.468e-24 -1.930e-16 -1.564e-17]\n",
       "  optimality: 1.9300417672035794e-16\n",
       " active_mask: [0 0 0 0]\n",
       "        nfev: 47\n",
       "        njev: 37"
      ]
     },
     "execution_count": 5,
     "metadata": {},
     "output_type": "execute_result"
    }
   ],
   "source": [
    "final"
   ]
  },
  {
   "cell_type": "code",
   "execution_count": 6,
   "id": "3afc76ac",
   "metadata": {},
   "outputs": [],
   "source": [
    "if np.sum(final.active_mask**2) != 0:\n",
    "    print('something ran up against a bound')"
   ]
  },
  {
   "cell_type": "code",
   "execution_count": 7,
   "id": "1d798e77",
   "metadata": {},
   "outputs": [
    {
     "name": "stderr",
     "output_type": "stream",
     "text": [
      "2023-04-28 14:59:24,241\tINFO worker.py:1553 -- Started a local Ray instance.\n"
     ]
    }
   ],
   "source": [
    "solution = solver(final.x, M_star=args[0], M_fit=args[1], n=1e6, in_factor=args[3], out_factor=args[4], multithread=args[5])"
   ]
  },
  {
   "cell_type": "code",
   "execution_count": 8,
   "id": "5d586b95",
   "metadata": {},
   "outputs": [
    {
     "name": "stdout",
     "output_type": "stream",
     "text": [
      "ratio between constant density Pc and converged solution 243.27858822017123\n"
     ]
    }
   ],
   "source": [
    "# what is an appropriate P_factor to speed up convergence?\n",
    "print('ratio between constant density Pc and converged solution',solution[2].max()/(Pc/P_factor))"
   ]
  },
  {
   "cell_type": "code",
   "execution_count": 9,
   "id": "812bad1a",
   "metadata": {},
   "outputs": [
    {
     "name": "stdout",
     "output_type": "stream",
     "text": [
      "ratio between constant density Tc and converged solution 2.3532075127922085\n"
     ]
    }
   ],
   "source": [
    "print('ratio between constant density Tc and converged solution',solution[4].max()/Tc)"
   ]
  },
  {
   "cell_type": "code",
   "execution_count": 10,
   "id": "ee5a0946",
   "metadata": {},
   "outputs": [],
   "source": [
    "with open('converged_interior_{}.npy'.format(M_star/c.Ms), 'wb') as f:\n",
    "    np.save(f, solution)"
   ]
  },
  {
   "cell_type": "code",
   "execution_count": 4,
   "id": "fc9a2599",
   "metadata": {},
   "outputs": [],
   "source": [
    "solution = np.load('converged_interior_{}.npy'.format(M_star/c.Ms))"
   ]
  },
  {
   "cell_type": "code",
   "execution_count": 5,
   "id": "332e2e04",
   "metadata": {
    "scrolled": false
   },
   "outputs": [
    {
     "data": {
      "image/png": "[encoded data removed]",
      "text/plain": [
       "<Figure size 900x600 with 1 Axes>"
      ]
     },
     "metadata": {},
     "output_type": "display_data"
    }
   ],
   "source": [
    "# a figure like 9.1 in HKT but in mass space, y-values near 1\n",
    "plt.figure(figsize=(9,6))\n",
    "\n",
    "plt.plot(solution[0]/M_star, solution[5]/solution[5].max(), color='cornflowerblue', label=r'$\\rho~[g/cm^3]$'.format())\n",
    "plt.plot(solution[0]/M_star, solution[2]/solution[2].max(), color='tomato', label=r'$P~[Ba]$')\n",
    "plt.plot(solution[0]/M_star, solution[4]/solution[4].max(), color='xkcd:forest green', label=r'$T~[K]$')\n",
    "plt.plot(solution[0]/M_star, solution[1]/solution[1].max(), color='xkcd:lavender', label=r'$L~[erg/s]$')\n",
    "\n",
    "plt.xlabel(r'M$_\\mathrm{r}$ [M$_\\star$]')\n",
    "plt.ylabel(r'Normalized Quantity')\n",
    "plt.legend(fontsize=13, bbox_to_anchor=(0.55,0.5))\n",
    "plt.xlim(-0.1,1.1)\n",
    "plt.minorticks_on()\n",
    "\n",
    "plt.savefig('./figures/run_over_mass_{}.png'.format(M_star/c.Ms), dpi=300, bbox_inches='tight')"
   ]
  },
  {
   "cell_type": "code",
   "execution_count": 6,
   "id": "d3118fd0",
   "metadata": {},
   "outputs": [
    {
     "data": {
      "image/png": "[encoded data removed]",
      "text/plain": [
       "<Figure size 900x600 with 1 Axes>"
      ]
     },
     "metadata": {},
     "output_type": "display_data"
    }
   ],
   "source": [
    "# reproduce figure 9.1 in HKT but in mass space\n",
    "\n",
    "plt.figure(figsize=(9,6))\n",
    "\n",
    "plt.plot(solution[3]/R_star, solution[5]*1e5, color='cornflowerblue', label=r'$\\log(\\rho)\\times10^5$ $[g/cm^3]$')\n",
    "plt.plot(solution[3]/R_star, solution[2]*1e-8, color='tomato', label=r'$\\log(P)\\times10^{-8}$ $[Ba]$')\n",
    "plt.plot(solution[3]/R_star, solution[4], color='xkcd:forest green', label=r'$\\log(T)$ $[K]$')\n",
    "\n",
    "plt.yscale('log')\n",
    "plt.xlabel(r'R [R$_\\star$]')\n",
    "plt.ylabel(r'$\\log(quantity)\\times C$')\n",
    "plt.legend(fontsize=10)\n",
    "plt.ylim(1,1e10)\n",
    "plt.xlim(0,1.1)\n",
    "\n",
    "plt.savefig('./figures/run_over_radius_HKT9-1_{}.png'.format(M_star/c.Ms), dpi=300, bbox_inches='tight')"
   ]
  },
  {
   "cell_type": "code",
   "execution_count": 7,
   "id": "9082ddae",
   "metadata": {},
   "outputs": [
    {
     "data": {
      "image/png": "[encoded data removed]",
      "text/plain": [
       "<Figure size 900x600 with 1 Axes>"
      ]
     },
     "metadata": {},
     "output_type": "display_data"
    }
   ],
   "source": [
    "plt.figure(figsize=(9,6))\n",
    "\n",
    "plt.plot(solution[0]/M_star, solution[-1], color='cornflowerblue', label=r'$\\nabla_{rad}$')\n",
    "plt.plot(solution[0]/M_star, np.zeros_like(solution[0])+0.4, color='tomato', label=r'$\\nabla_{ad}$')\n",
    "\n",
    "# plt.yscale('log')\n",
    "plt.xlabel(r'M [M$_\\star$]')\n",
    "plt.ylabel(r'$\\nabla$ [K/cm]')\n",
    "plt.legend()\n",
    "# plt.ylim(1,1e10)\n",
    "plt.xlim(-0.1,1.1)\n",
    "plt.minorticks_on()\n",
    "plt.savefig('./figures/del_over_mass_{}.png'.format(M_star/c.Ms), dpi=300, bbox_inches='tight')\n"
   ]
  },
  {
   "cell_type": "code",
   "execution_count": 8,
   "id": "408d8af2",
   "metadata": {},
   "outputs": [
    {
     "name": "stdout",
     "output_type": "stream",
     "text": [
      "rho_c/rho_avg is 4.98\n"
     ]
    }
   ],
   "source": [
    "# central density vs avg density\n",
    "converged_concentration = solution[5].max()/(4*np.pi*M_star/(3*R_star**3))\n",
    "\n",
    "print(\"rho_c/rho_avg is\", str(round(converged_concentration,2)))"
   ]
  },
  {
   "cell_type": "code",
   "execution_count": 9,
   "id": "c1f768e5",
   "metadata": {},
   "outputs": [
    {
     "name": "stderr",
     "output_type": "stream",
     "text": [
      "/var/folders/0q/4ls9h2fn4lv90qs43vdtzvkw0002tl/T/ipykernel_66573/3156873861.py:7: RuntimeWarning: invalid value encountered in power\n",
      "  return (psi, -np.power(theta, n) - 2 * psi / xi)\n"
     ]
    },
    {
     "data": {
      "image/png": "[encoded data removed]",
      "text/plain": [
       "<Figure size 900x500 with 1 Axes>"
      ]
     },
     "metadata": {},
     "output_type": "display_data"
    }
   ],
   "source": [
    "from scipy.integrate import solve_ivp\n",
    "\n",
    "# compare to polytrope\n",
    "\n",
    "def dtheta(xi, y, n):\n",
    "    theta, psi = y\n",
    "    return (psi, -np.power(theta, n) - 2 * psi / xi)\n",
    "\n",
    "ns = np.linspace(0, 3.5, num=51) # a reasonable number of n for plotting\n",
    "ts = np.logspace(np.log10(1e-15), np.log10(1000.), num=1000) # dense enough to look smooth\n",
    "\n",
    "concentrations = np.zeros(ns.shape[0])\n",
    "for i, n in enumerate(ns):\n",
    "    soln = solve_ivp(dtheta, [1e-16, 1001.], [1., 0.], args=[n], t_eval=ts)\n",
    "    # degree of central concentration\n",
    "    concentration = 1/3 * (soln.t[np.argmin(np.abs(soln.y[0]))]/(-1*soln.y[1][np.argmin(np.abs(soln.y[0]))]))\n",
    "#     print(\"for n={}, rho_c/rho_avg is\".format(n), str(round(concentration,2)))\n",
    "    concentrations[i] += concentration\n",
    "\n",
    "x = ns\n",
    "y = concentrations\n",
    "    \n",
    "points = np.array([x, y]).T.reshape(-1, 1, 2)\n",
    "segments = np.concatenate([points[:-1], points[1:]], axis=1)\n",
    "\n",
    "fig, axs = plt.subplots(1, 1, figsize=(9,5))\n",
    "\n",
    "# Create a continuous norm to map from data points to colors\n",
    "norm = plt.Normalize(x.min(), x.max())\n",
    "from matplotlib.collections import LineCollection\n",
    "lc = LineCollection(segments, cmap='magma', norm=norm)\n",
    "# Set the values used for colormapping\n",
    "lc.set_array(x)\n",
    "lc.set_linewidth(2)\n",
    "line = axs.add_collection(lc)\n",
    "# cb = fig.colorbar(line, ax=axs)\n",
    "# cb.ax.set_title('n')\n",
    "plt.hlines(converged_concentration, 0, 3.5, ls='--', color='k')\n",
    "plt.annotate('Model degree of \\n central concentration', (2.3,6.5), fontsize=10)\n",
    "\n",
    "plt.minorticks_on()\n",
    "plt.ylim(1, 1e2)\n",
    "plt.yscale('log')\n",
    "\n",
    "plt.xlabel('Polytropic Index n')\n",
    "plt.ylabel(r'$\\rho_c~/~\\left|\\rho\\right|}$')\n",
    "\n",
    "plt.savefig('./figures/central_concentration_polytropes_{}.png'.format(M_star/c.Ms), dpi=300, bbox_inches='tight')"
   ]
  },
  {
   "cell_type": "code",
   "execution_count": null,
   "id": "424a8c98",
   "metadata": {},
   "outputs": [],
   "source": []
  },
  {
   "cell_type": "code",
   "execution_count": null,
   "id": "fc7b2a62",
   "metadata": {},
   "outputs": [],
   "source": []
  },
  {
   "cell_type": "code",
   "execution_count": null,
   "id": "42d00a5c",
   "metadata": {},
   "outputs": [],
   "source": []
  },
  {
   "cell_type": "code",
   "execution_count": null,
   "id": "3328ef0a",
   "metadata": {},
   "outputs": [],
   "source": []
  }
 ],
 "metadata": {
  "kernelspec": {
   "display_name": "Python 3 (ipykernel)",
   "language": "python",
   "name": "python3"
  },
  "language_info": {
   "codemirror_mode": {
    "name": "ipython",
    "version": 3
   },
   "file_extension": ".py",
   "mimetype": "text/x-python",
   "name": "python",
   "nbconvert_exporter": "python",
   "pygments_lexer": "ipython3",
   "version": "3.9.16"
  }
 },
 "nbformat": 4,
 "nbformat_minor": 5
}
